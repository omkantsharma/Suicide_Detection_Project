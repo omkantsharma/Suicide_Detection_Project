{
  "nbformat": 4,
  "nbformat_minor": 0,
  "metadata": {
    "colab": {
      "name": "Suicide_Detection_Project",
      "provenance": [],
      "collapsed_sections": []
    },
    "kernelspec": {
      "display_name": "Python 3",
      "language": "python",
      "name": "python3"
    },
    "language_info": {
      "codemirror_mode": {
        "name": "ipython",
        "version": 3
      },
      "file_extension": ".py",
      "mimetype": "text/x-python",
      "name": "python",
      "nbconvert_exporter": "python",
      "pygments_lexer": "ipython3",
      "version": "3.8.5"
    }
  },
  "cells": [
    {
      "cell_type": "code",
      "metadata": {
        "colab": {
          "base_uri": "https://localhost:8080/"
        },
        "id": "ZkAaed3iryFJ",
        "outputId": "8689c324-3a72-4072-98b6-5f1d02edf0ec"
      },
      "source": [
        "import pandas as pd\n",
        "import numpy as np\n",
        "import re\n",
        "import nltk\n",
        "from sklearn.datasets import load_files\n",
        "nltk.download('stopwords')\n",
        "import pickle\n",
        "from nltk.corpus import stopwords\n",
        "%matplotlib inline\n",
        "import numpy as np\n",
        "import matplotlib.pyplot as plt\n",
        "import seaborn as sns; sns.set()\n",
        "from sklearn.datasets import make_blobs\n",
        "from sklearn import tree"
      ],
      "execution_count": 171,
      "outputs": [
        {
          "output_type": "stream",
          "text": [
            "[nltk_data] Downloading package stopwords to /root/nltk_data...\n",
            "[nltk_data]   Package stopwords is already up-to-date!\n"
          ],
          "name": "stdout"
        }
      ]
    },
    {
      "cell_type": "code",
      "metadata": {
        "colab": {
          "base_uri": "https://localhost:8080/"
        },
        "id": "udwk_foMucyX",
        "outputId": "89004520-eb3c-445a-ac6c-bc11bda5f73b"
      },
      "source": [
        "from google.colab import drive \n",
        "drive.mount('/content/drive/')"
      ],
      "execution_count": 172,
      "outputs": [
        {
          "output_type": "stream",
          "text": [
            "Drive already mounted at /content/drive/; to attempt to forcibly remount, call drive.mount(\"/content/drive/\", force_remount=True).\n"
          ],
          "name": "stdout"
        }
      ]
    },
    {
      "cell_type": "code",
      "metadata": {
        "id": "O6qBk4wcudWY"
      },
      "source": [
        "import pandas as pd"
      ],
      "execution_count": 173,
      "outputs": []
    },
    {
      "cell_type": "code",
      "metadata": {
        "colab": {
          "base_uri": "https://localhost:8080/",
          "height": 508
        },
        "id": "1Ni6ZtujtO6W",
        "outputId": "05462c81-7a88-4ccf-fb85-550d582583cd"
      },
      "source": [
        "df=pd.read_excel('//content//drive//My Drive//A_Om Kant Sharma//Suicide_Detection.xlsx') ##,encoding='latin1'\n",
        "df.head(5)"
      ],
      "execution_count": 174,
      "outputs": [
        {
          "output_type": "execute_result",
          "data": {
            "text/html": [
              "<div>\n",
              "<style scoped>\n",
              "    .dataframe tbody tr th:only-of-type {\n",
              "        vertical-align: middle;\n",
              "    }\n",
              "\n",
              "    .dataframe tbody tr th {\n",
              "        vertical-align: top;\n",
              "    }\n",
              "\n",
              "    .dataframe thead th {\n",
              "        text-align: right;\n",
              "    }\n",
              "</style>\n",
              "<table border=\"1\" class=\"dataframe\">\n",
              "  <thead>\n",
              "    <tr style=\"text-align: right;\">\n",
              "      <th></th>\n",
              "      <th>Unnamed: 0</th>\n",
              "      <th>text</th>\n",
              "      <th>class</th>\n",
              "      <th>Unnamed: 3</th>\n",
              "      <th>Unnamed: 4</th>\n",
              "      <th>Unnamed: 5</th>\n",
              "      <th>Unnamed: 6</th>\n",
              "      <th>Unnamed: 7</th>\n",
              "      <th>Unnamed: 8</th>\n",
              "      <th>Unnamed: 9</th>\n",
              "      <th>Unnamed: 10</th>\n",
              "      <th>Unnamed: 11</th>\n",
              "      <th>Unnamed: 12</th>\n",
              "      <th>Unnamed: 13</th>\n",
              "      <th>Unnamed: 14</th>\n",
              "      <th>Unnamed: 15</th>\n",
              "      <th>Unnamed: 16</th>\n",
              "      <th>Unnamed: 17</th>\n",
              "      <th>Unnamed: 18</th>\n",
              "      <th>Unnamed: 19</th>\n",
              "      <th>Unnamed: 20</th>\n",
              "      <th>Unnamed: 21</th>\n",
              "      <th>Unnamed: 22</th>\n",
              "      <th>Unnamed: 23</th>\n",
              "      <th>Unnamed: 24</th>\n",
              "      <th>Unnamed: 25</th>\n",
              "      <th>Unnamed: 26</th>\n",
              "      <th>Unnamed: 27</th>\n",
              "      <th>Unnamed: 28</th>\n",
              "      <th>Unnamed: 29</th>\n",
              "      <th>Unnamed: 30</th>\n",
              "      <th>Unnamed: 31</th>\n",
              "      <th>Unnamed: 32</th>\n",
              "      <th>Unnamed: 33</th>\n",
              "      <th>Unnamed: 34</th>\n",
              "      <th>Unnamed: 35</th>\n",
              "      <th>Unnamed: 36</th>\n",
              "      <th>Unnamed: 37</th>\n",
              "      <th>Unnamed: 38</th>\n",
              "      <th>Unnamed: 39</th>\n",
              "      <th>...</th>\n",
              "      <th>Unnamed: 47</th>\n",
              "      <th>Unnamed: 48</th>\n",
              "      <th>Unnamed: 49</th>\n",
              "      <th>Unnamed: 50</th>\n",
              "      <th>Unnamed: 51</th>\n",
              "      <th>Unnamed: 52</th>\n",
              "      <th>Unnamed: 53</th>\n",
              "      <th>Unnamed: 54</th>\n",
              "      <th>Unnamed: 55</th>\n",
              "      <th>Unnamed: 56</th>\n",
              "      <th>Unnamed: 57</th>\n",
              "      <th>Unnamed: 58</th>\n",
              "      <th>Unnamed: 59</th>\n",
              "      <th>Unnamed: 60</th>\n",
              "      <th>Unnamed: 61</th>\n",
              "      <th>Unnamed: 62</th>\n",
              "      <th>Unnamed: 63</th>\n",
              "      <th>Unnamed: 64</th>\n",
              "      <th>Unnamed: 65</th>\n",
              "      <th>Unnamed: 66</th>\n",
              "      <th>Unnamed: 67</th>\n",
              "      <th>Unnamed: 68</th>\n",
              "      <th>Unnamed: 69</th>\n",
              "      <th>Unnamed: 70</th>\n",
              "      <th>Unnamed: 71</th>\n",
              "      <th>Unnamed: 72</th>\n",
              "      <th>Unnamed: 73</th>\n",
              "      <th>Unnamed: 74</th>\n",
              "      <th>Unnamed: 75</th>\n",
              "      <th>Unnamed: 76</th>\n",
              "      <th>Unnamed: 77</th>\n",
              "      <th>Unnamed: 78</th>\n",
              "      <th>Unnamed: 79</th>\n",
              "      <th>Unnamed: 80</th>\n",
              "      <th>Unnamed: 81</th>\n",
              "      <th>Unnamed: 82</th>\n",
              "      <th>Unnamed: 83</th>\n",
              "      <th>Unnamed: 84</th>\n",
              "      <th>Unnamed: 85</th>\n",
              "      <th>Unnamed: 86</th>\n",
              "    </tr>\n",
              "  </thead>\n",
              "  <tbody>\n",
              "    <tr>\n",
              "      <th>0</th>\n",
              "      <td>2</td>\n",
              "      <td>Ex Wife Threatening SuicideRecently I left my ...</td>\n",
              "      <td>suicide</td>\n",
              "      <td>NaN</td>\n",
              "      <td>NaN</td>\n",
              "      <td>NaN</td>\n",
              "      <td>NaN</td>\n",
              "      <td>NaN</td>\n",
              "      <td>NaN</td>\n",
              "      <td>NaN</td>\n",
              "      <td>NaN</td>\n",
              "      <td>NaN</td>\n",
              "      <td>NaN</td>\n",
              "      <td>NaN</td>\n",
              "      <td>NaN</td>\n",
              "      <td>NaN</td>\n",
              "      <td>NaN</td>\n",
              "      <td>NaN</td>\n",
              "      <td>NaN</td>\n",
              "      <td>NaN</td>\n",
              "      <td>NaN</td>\n",
              "      <td>NaN</td>\n",
              "      <td>NaN</td>\n",
              "      <td>NaN</td>\n",
              "      <td>NaN</td>\n",
              "      <td>NaN</td>\n",
              "      <td>NaN</td>\n",
              "      <td>NaN</td>\n",
              "      <td>NaN</td>\n",
              "      <td>NaN</td>\n",
              "      <td>NaN</td>\n",
              "      <td>NaN</td>\n",
              "      <td>NaN</td>\n",
              "      <td>NaN</td>\n",
              "      <td>NaN</td>\n",
              "      <td>NaN</td>\n",
              "      <td>NaN</td>\n",
              "      <td>NaN</td>\n",
              "      <td>NaN</td>\n",
              "      <td>NaN</td>\n",
              "      <td>...</td>\n",
              "      <td>NaN</td>\n",
              "      <td>NaN</td>\n",
              "      <td>NaN</td>\n",
              "      <td>NaN</td>\n",
              "      <td>NaN</td>\n",
              "      <td>NaN</td>\n",
              "      <td>NaN</td>\n",
              "      <td>NaN</td>\n",
              "      <td>NaN</td>\n",
              "      <td>NaN</td>\n",
              "      <td>NaN</td>\n",
              "      <td>NaN</td>\n",
              "      <td>NaN</td>\n",
              "      <td>NaN</td>\n",
              "      <td>NaN</td>\n",
              "      <td>NaN</td>\n",
              "      <td>NaN</td>\n",
              "      <td>NaN</td>\n",
              "      <td>NaN</td>\n",
              "      <td>NaN</td>\n",
              "      <td>NaN</td>\n",
              "      <td>NaN</td>\n",
              "      <td>NaN</td>\n",
              "      <td>NaN</td>\n",
              "      <td>NaN</td>\n",
              "      <td>NaN</td>\n",
              "      <td>NaN</td>\n",
              "      <td>NaN</td>\n",
              "      <td>NaN</td>\n",
              "      <td>NaN</td>\n",
              "      <td>NaN</td>\n",
              "      <td>NaN</td>\n",
              "      <td>NaN</td>\n",
              "      <td>NaN</td>\n",
              "      <td>NaN</td>\n",
              "      <td>NaN</td>\n",
              "      <td>NaN</td>\n",
              "      <td>NaN</td>\n",
              "      <td>NaN</td>\n",
              "      <td>NaN</td>\n",
              "    </tr>\n",
              "    <tr>\n",
              "      <th>1</th>\n",
              "      <td>3</td>\n",
              "      <td>Am I weird I don't get affected by compliments...</td>\n",
              "      <td>non-suicide</td>\n",
              "      <td>NaN</td>\n",
              "      <td>NaN</td>\n",
              "      <td>NaN</td>\n",
              "      <td>NaN</td>\n",
              "      <td>NaN</td>\n",
              "      <td>NaN</td>\n",
              "      <td>NaN</td>\n",
              "      <td>NaN</td>\n",
              "      <td>NaN</td>\n",
              "      <td>NaN</td>\n",
              "      <td>NaN</td>\n",
              "      <td>NaN</td>\n",
              "      <td>NaN</td>\n",
              "      <td>NaN</td>\n",
              "      <td>NaN</td>\n",
              "      <td>NaN</td>\n",
              "      <td>NaN</td>\n",
              "      <td>NaN</td>\n",
              "      <td>NaN</td>\n",
              "      <td>NaN</td>\n",
              "      <td>NaN</td>\n",
              "      <td>NaN</td>\n",
              "      <td>NaN</td>\n",
              "      <td>NaN</td>\n",
              "      <td>NaN</td>\n",
              "      <td>NaN</td>\n",
              "      <td>NaN</td>\n",
              "      <td>NaN</td>\n",
              "      <td>NaN</td>\n",
              "      <td>NaN</td>\n",
              "      <td>NaN</td>\n",
              "      <td>NaN</td>\n",
              "      <td>NaN</td>\n",
              "      <td>NaN</td>\n",
              "      <td>NaN</td>\n",
              "      <td>NaN</td>\n",
              "      <td>NaN</td>\n",
              "      <td>...</td>\n",
              "      <td>NaN</td>\n",
              "      <td>NaN</td>\n",
              "      <td>NaN</td>\n",
              "      <td>NaN</td>\n",
              "      <td>NaN</td>\n",
              "      <td>NaN</td>\n",
              "      <td>NaN</td>\n",
              "      <td>NaN</td>\n",
              "      <td>NaN</td>\n",
              "      <td>NaN</td>\n",
              "      <td>NaN</td>\n",
              "      <td>NaN</td>\n",
              "      <td>NaN</td>\n",
              "      <td>NaN</td>\n",
              "      <td>NaN</td>\n",
              "      <td>NaN</td>\n",
              "      <td>NaN</td>\n",
              "      <td>NaN</td>\n",
              "      <td>NaN</td>\n",
              "      <td>NaN</td>\n",
              "      <td>NaN</td>\n",
              "      <td>NaN</td>\n",
              "      <td>NaN</td>\n",
              "      <td>NaN</td>\n",
              "      <td>NaN</td>\n",
              "      <td>NaN</td>\n",
              "      <td>NaN</td>\n",
              "      <td>NaN</td>\n",
              "      <td>NaN</td>\n",
              "      <td>NaN</td>\n",
              "      <td>NaN</td>\n",
              "      <td>NaN</td>\n",
              "      <td>NaN</td>\n",
              "      <td>NaN</td>\n",
              "      <td>NaN</td>\n",
              "      <td>NaN</td>\n",
              "      <td>NaN</td>\n",
              "      <td>NaN</td>\n",
              "      <td>NaN</td>\n",
              "      <td>NaN</td>\n",
              "    </tr>\n",
              "    <tr>\n",
              "      <th>2</th>\n",
              "      <td>4</td>\n",
              "      <td>Finally 2020 is almost over... So I can never ...</td>\n",
              "      <td>non-suicide</td>\n",
              "      <td>NaN</td>\n",
              "      <td>NaN</td>\n",
              "      <td>NaN</td>\n",
              "      <td>NaN</td>\n",
              "      <td>NaN</td>\n",
              "      <td>NaN</td>\n",
              "      <td>NaN</td>\n",
              "      <td>NaN</td>\n",
              "      <td>NaN</td>\n",
              "      <td>NaN</td>\n",
              "      <td>NaN</td>\n",
              "      <td>NaN</td>\n",
              "      <td>NaN</td>\n",
              "      <td>NaN</td>\n",
              "      <td>NaN</td>\n",
              "      <td>NaN</td>\n",
              "      <td>NaN</td>\n",
              "      <td>NaN</td>\n",
              "      <td>NaN</td>\n",
              "      <td>NaN</td>\n",
              "      <td>NaN</td>\n",
              "      <td>NaN</td>\n",
              "      <td>NaN</td>\n",
              "      <td>NaN</td>\n",
              "      <td>NaN</td>\n",
              "      <td>NaN</td>\n",
              "      <td>NaN</td>\n",
              "      <td>NaN</td>\n",
              "      <td>NaN</td>\n",
              "      <td>NaN</td>\n",
              "      <td>NaN</td>\n",
              "      <td>NaN</td>\n",
              "      <td>NaN</td>\n",
              "      <td>NaN</td>\n",
              "      <td>NaN</td>\n",
              "      <td>NaN</td>\n",
              "      <td>NaN</td>\n",
              "      <td>...</td>\n",
              "      <td>NaN</td>\n",
              "      <td>NaN</td>\n",
              "      <td>NaN</td>\n",
              "      <td>NaN</td>\n",
              "      <td>NaN</td>\n",
              "      <td>NaN</td>\n",
              "      <td>NaN</td>\n",
              "      <td>NaN</td>\n",
              "      <td>NaN</td>\n",
              "      <td>NaN</td>\n",
              "      <td>NaN</td>\n",
              "      <td>NaN</td>\n",
              "      <td>NaN</td>\n",
              "      <td>NaN</td>\n",
              "      <td>NaN</td>\n",
              "      <td>NaN</td>\n",
              "      <td>NaN</td>\n",
              "      <td>NaN</td>\n",
              "      <td>NaN</td>\n",
              "      <td>NaN</td>\n",
              "      <td>NaN</td>\n",
              "      <td>NaN</td>\n",
              "      <td>NaN</td>\n",
              "      <td>NaN</td>\n",
              "      <td>NaN</td>\n",
              "      <td>NaN</td>\n",
              "      <td>NaN</td>\n",
              "      <td>NaN</td>\n",
              "      <td>NaN</td>\n",
              "      <td>NaN</td>\n",
              "      <td>NaN</td>\n",
              "      <td>NaN</td>\n",
              "      <td>NaN</td>\n",
              "      <td>NaN</td>\n",
              "      <td>NaN</td>\n",
              "      <td>NaN</td>\n",
              "      <td>NaN</td>\n",
              "      <td>NaN</td>\n",
              "      <td>NaN</td>\n",
              "      <td>NaN</td>\n",
              "    </tr>\n",
              "    <tr>\n",
              "      <th>3</th>\n",
              "      <td>8</td>\n",
              "      <td>i need helpjust help me im crying so hard</td>\n",
              "      <td>suicide</td>\n",
              "      <td>NaN</td>\n",
              "      <td>NaN</td>\n",
              "      <td>NaN</td>\n",
              "      <td>NaN</td>\n",
              "      <td>NaN</td>\n",
              "      <td>NaN</td>\n",
              "      <td>NaN</td>\n",
              "      <td>NaN</td>\n",
              "      <td>NaN</td>\n",
              "      <td>NaN</td>\n",
              "      <td>NaN</td>\n",
              "      <td>NaN</td>\n",
              "      <td>NaN</td>\n",
              "      <td>NaN</td>\n",
              "      <td>NaN</td>\n",
              "      <td>NaN</td>\n",
              "      <td>NaN</td>\n",
              "      <td>NaN</td>\n",
              "      <td>NaN</td>\n",
              "      <td>NaN</td>\n",
              "      <td>NaN</td>\n",
              "      <td>NaN</td>\n",
              "      <td>NaN</td>\n",
              "      <td>NaN</td>\n",
              "      <td>NaN</td>\n",
              "      <td>NaN</td>\n",
              "      <td>NaN</td>\n",
              "      <td>NaN</td>\n",
              "      <td>NaN</td>\n",
              "      <td>NaN</td>\n",
              "      <td>NaN</td>\n",
              "      <td>NaN</td>\n",
              "      <td>NaN</td>\n",
              "      <td>NaN</td>\n",
              "      <td>NaN</td>\n",
              "      <td>NaN</td>\n",
              "      <td>NaN</td>\n",
              "      <td>...</td>\n",
              "      <td>NaN</td>\n",
              "      <td>NaN</td>\n",
              "      <td>NaN</td>\n",
              "      <td>NaN</td>\n",
              "      <td>NaN</td>\n",
              "      <td>NaN</td>\n",
              "      <td>NaN</td>\n",
              "      <td>NaN</td>\n",
              "      <td>NaN</td>\n",
              "      <td>NaN</td>\n",
              "      <td>NaN</td>\n",
              "      <td>NaN</td>\n",
              "      <td>NaN</td>\n",
              "      <td>NaN</td>\n",
              "      <td>NaN</td>\n",
              "      <td>NaN</td>\n",
              "      <td>NaN</td>\n",
              "      <td>NaN</td>\n",
              "      <td>NaN</td>\n",
              "      <td>NaN</td>\n",
              "      <td>NaN</td>\n",
              "      <td>NaN</td>\n",
              "      <td>NaN</td>\n",
              "      <td>NaN</td>\n",
              "      <td>NaN</td>\n",
              "      <td>NaN</td>\n",
              "      <td>NaN</td>\n",
              "      <td>NaN</td>\n",
              "      <td>NaN</td>\n",
              "      <td>NaN</td>\n",
              "      <td>NaN</td>\n",
              "      <td>NaN</td>\n",
              "      <td>NaN</td>\n",
              "      <td>NaN</td>\n",
              "      <td>NaN</td>\n",
              "      <td>NaN</td>\n",
              "      <td>NaN</td>\n",
              "      <td>NaN</td>\n",
              "      <td>NaN</td>\n",
              "      <td>NaN</td>\n",
              "    </tr>\n",
              "    <tr>\n",
              "      <th>4</th>\n",
              "      <td>9</td>\n",
              "      <td>Iâ€™m so lostHello, my name is Adam (16) and I...</td>\n",
              "      <td>suicide</td>\n",
              "      <td>NaN</td>\n",
              "      <td>NaN</td>\n",
              "      <td>NaN</td>\n",
              "      <td>NaN</td>\n",
              "      <td>NaN</td>\n",
              "      <td>NaN</td>\n",
              "      <td>NaN</td>\n",
              "      <td>NaN</td>\n",
              "      <td>NaN</td>\n",
              "      <td>NaN</td>\n",
              "      <td>NaN</td>\n",
              "      <td>NaN</td>\n",
              "      <td>NaN</td>\n",
              "      <td>NaN</td>\n",
              "      <td>NaN</td>\n",
              "      <td>NaN</td>\n",
              "      <td>NaN</td>\n",
              "      <td>NaN</td>\n",
              "      <td>NaN</td>\n",
              "      <td>NaN</td>\n",
              "      <td>NaN</td>\n",
              "      <td>NaN</td>\n",
              "      <td>NaN</td>\n",
              "      <td>NaN</td>\n",
              "      <td>NaN</td>\n",
              "      <td>NaN</td>\n",
              "      <td>NaN</td>\n",
              "      <td>NaN</td>\n",
              "      <td>NaN</td>\n",
              "      <td>NaN</td>\n",
              "      <td>NaN</td>\n",
              "      <td>NaN</td>\n",
              "      <td>NaN</td>\n",
              "      <td>NaN</td>\n",
              "      <td>NaN</td>\n",
              "      <td>NaN</td>\n",
              "      <td>NaN</td>\n",
              "      <td>...</td>\n",
              "      <td>NaN</td>\n",
              "      <td>NaN</td>\n",
              "      <td>NaN</td>\n",
              "      <td>NaN</td>\n",
              "      <td>NaN</td>\n",
              "      <td>NaN</td>\n",
              "      <td>NaN</td>\n",
              "      <td>NaN</td>\n",
              "      <td>NaN</td>\n",
              "      <td>NaN</td>\n",
              "      <td>NaN</td>\n",
              "      <td>NaN</td>\n",
              "      <td>NaN</td>\n",
              "      <td>NaN</td>\n",
              "      <td>NaN</td>\n",
              "      <td>NaN</td>\n",
              "      <td>NaN</td>\n",
              "      <td>NaN</td>\n",
              "      <td>NaN</td>\n",
              "      <td>NaN</td>\n",
              "      <td>NaN</td>\n",
              "      <td>NaN</td>\n",
              "      <td>NaN</td>\n",
              "      <td>NaN</td>\n",
              "      <td>NaN</td>\n",
              "      <td>NaN</td>\n",
              "      <td>NaN</td>\n",
              "      <td>NaN</td>\n",
              "      <td>NaN</td>\n",
              "      <td>NaN</td>\n",
              "      <td>NaN</td>\n",
              "      <td>NaN</td>\n",
              "      <td>NaN</td>\n",
              "      <td>NaN</td>\n",
              "      <td>NaN</td>\n",
              "      <td>NaN</td>\n",
              "      <td>NaN</td>\n",
              "      <td>NaN</td>\n",
              "      <td>NaN</td>\n",
              "      <td>NaN</td>\n",
              "    </tr>\n",
              "  </tbody>\n",
              "</table>\n",
              "<p>5 rows × 87 columns</p>\n",
              "</div>"
            ],
            "text/plain": [
              "  Unnamed: 0  ... Unnamed: 86\n",
              "0          2  ...         NaN\n",
              "1          3  ...         NaN\n",
              "2          4  ...         NaN\n",
              "3          8  ...         NaN\n",
              "4          9  ...         NaN\n",
              "\n",
              "[5 rows x 87 columns]"
            ]
          },
          "metadata": {},
          "execution_count": 174
        }
      ]
    },
    {
      "cell_type": "code",
      "metadata": {
        "colab": {
          "base_uri": "https://localhost:8080/"
        },
        "id": "sIjkxP4rryFg",
        "outputId": "07d16088-3540-452f-a287-12c446b2d4c0"
      },
      "source": [
        "df.shape"
      ],
      "execution_count": 175,
      "outputs": [
        {
          "output_type": "execute_result",
          "data": {
            "text/plain": [
              "(233337, 87)"
            ]
          },
          "metadata": {},
          "execution_count": 175
        }
      ]
    },
    {
      "cell_type": "code",
      "metadata": {
        "colab": {
          "base_uri": "https://localhost:8080/"
        },
        "id": "bJGJpFSEryFk",
        "outputId": "30b448ec-1476-41bd-8108-3678b1a087d7"
      },
      "source": [
        "df.isnull().sum()"
      ],
      "execution_count": 176,
      "outputs": [
        {
          "output_type": "execute_result",
          "data": {
            "text/plain": [
              "Unnamed: 0         92\n",
              "text             1191\n",
              "class            1250\n",
              "Unnamed: 3     233301\n",
              "Unnamed: 4     233308\n",
              "                ...  \n",
              "Unnamed: 82    233335\n",
              "Unnamed: 83    233335\n",
              "Unnamed: 84    233335\n",
              "Unnamed: 85    233335\n",
              "Unnamed: 86    233336\n",
              "Length: 87, dtype: int64"
            ]
          },
          "metadata": {},
          "execution_count": 176
        }
      ]
    },
    {
      "cell_type": "code",
      "metadata": {
        "id": "PMLQK0ZGryFm"
      },
      "source": [
        "df=df.iloc[:,1:3]  "
      ],
      "execution_count": 177,
      "outputs": []
    },
    {
      "cell_type": "code",
      "metadata": {
        "colab": {
          "base_uri": "https://localhost:8080/"
        },
        "id": "VT-vHqfmlq03",
        "outputId": "ac2f40c3-097a-4033-9a80-fdd4c8edbb5b"
      },
      "source": [
        "print(type(df))\n"
      ],
      "execution_count": 178,
      "outputs": [
        {
          "output_type": "stream",
          "text": [
            "<class 'pandas.core.frame.DataFrame'>\n"
          ],
          "name": "stdout"
        }
      ]
    },
    {
      "cell_type": "code",
      "metadata": {
        "colab": {
          "base_uri": "https://localhost:8080/"
        },
        "id": "Ofy5zYtdqW_-",
        "outputId": "a951d518-0a5a-4808-8077-0785bed952a9"
      },
      "source": [
        "print(type(df['text']))"
      ],
      "execution_count": 179,
      "outputs": [
        {
          "output_type": "stream",
          "text": [
            "<class 'pandas.core.series.Series'>\n"
          ],
          "name": "stdout"
        }
      ]
    },
    {
      "cell_type": "code",
      "metadata": {
        "colab": {
          "base_uri": "https://localhost:8080/"
        },
        "id": "AsRF1r1jqYMK",
        "outputId": "b0ca62ee-28e0-4e96-9f77-5004d82cead2"
      },
      "source": [
        "print(type(df['class']))"
      ],
      "execution_count": 180,
      "outputs": [
        {
          "output_type": "stream",
          "text": [
            "<class 'pandas.core.series.Series'>\n"
          ],
          "name": "stdout"
        }
      ]
    },
    {
      "cell_type": "code",
      "metadata": {
        "colab": {
          "base_uri": "https://localhost:8080/"
        },
        "id": "D5Z_LpO9ryF0",
        "outputId": "7be5f3ef-11f0-493b-9887-4256b74ef7e9"
      },
      "source": [
        "df.isnull().sum()"
      ],
      "execution_count": 181,
      "outputs": [
        {
          "output_type": "execute_result",
          "data": {
            "text/plain": [
              "text     1191\n",
              "class    1250\n",
              "dtype: int64"
            ]
          },
          "metadata": {},
          "execution_count": 181
        }
      ]
    },
    {
      "cell_type": "code",
      "metadata": {
        "colab": {
          "base_uri": "https://localhost:8080/",
          "height": 419
        },
        "id": "0IGdheFicAqk",
        "outputId": "e4fbdd56-b526-49fd-c0d4-0249e55d51f5"
      },
      "source": [
        "r=df.dropna(how='any')\n",
        "r.head((100))"
      ],
      "execution_count": 182,
      "outputs": [
        {
          "output_type": "execute_result",
          "data": {
            "text/html": [
              "<div>\n",
              "<style scoped>\n",
              "    .dataframe tbody tr th:only-of-type {\n",
              "        vertical-align: middle;\n",
              "    }\n",
              "\n",
              "    .dataframe tbody tr th {\n",
              "        vertical-align: top;\n",
              "    }\n",
              "\n",
              "    .dataframe thead th {\n",
              "        text-align: right;\n",
              "    }\n",
              "</style>\n",
              "<table border=\"1\" class=\"dataframe\">\n",
              "  <thead>\n",
              "    <tr style=\"text-align: right;\">\n",
              "      <th></th>\n",
              "      <th>text</th>\n",
              "      <th>class</th>\n",
              "    </tr>\n",
              "  </thead>\n",
              "  <tbody>\n",
              "    <tr>\n",
              "      <th>0</th>\n",
              "      <td>Ex Wife Threatening SuicideRecently I left my ...</td>\n",
              "      <td>suicide</td>\n",
              "    </tr>\n",
              "    <tr>\n",
              "      <th>1</th>\n",
              "      <td>Am I weird I don't get affected by compliments...</td>\n",
              "      <td>non-suicide</td>\n",
              "    </tr>\n",
              "    <tr>\n",
              "      <th>2</th>\n",
              "      <td>Finally 2020 is almost over... So I can never ...</td>\n",
              "      <td>non-suicide</td>\n",
              "    </tr>\n",
              "    <tr>\n",
              "      <th>3</th>\n",
              "      <td>i need helpjust help me im crying so hard</td>\n",
              "      <td>suicide</td>\n",
              "    </tr>\n",
              "    <tr>\n",
              "      <th>4</th>\n",
              "      <td>Iâ€™m so lostHello, my name is Adam (16) and I...</td>\n",
              "      <td>suicide</td>\n",
              "    </tr>\n",
              "    <tr>\n",
              "      <th>...</th>\n",
              "      <td>...</td>\n",
              "      <td>...</td>\n",
              "    </tr>\n",
              "    <tr>\n",
              "      <th>95</th>\n",
              "      <td>day 3 of posting something i get mildly infuri...</td>\n",
              "      <td>non-suicide</td>\n",
              "    </tr>\n",
              "    <tr>\n",
              "      <th>96</th>\n",
              "      <td>A lot of stuff to handle at once for me \\nSorr...</td>\n",
              "      <td>non-suicide</td>\n",
              "    </tr>\n",
              "    <tr>\n",
              "      <th>97</th>\n",
              "      <td>I'm going to wait for a version of senorita In...</td>\n",
              "      <td>non-suicide</td>\n",
              "    </tr>\n",
              "    <tr>\n",
              "      <th>98</th>\n",
              "      <td>You know I just realized you cant have an opin...</td>\n",
              "      <td>non-suicide</td>\n",
              "    </tr>\n",
              "    <tr>\n",
              "      <th>99</th>\n",
              "      <td>2929\\n\\n\\nThatâ€™s the oldest Iâ€™ve ever been...</td>\n",
              "      <td>suicide</td>\n",
              "    </tr>\n",
              "  </tbody>\n",
              "</table>\n",
              "<p>100 rows × 2 columns</p>\n",
              "</div>"
            ],
            "text/plain": [
              "                                                 text        class\n",
              "0   Ex Wife Threatening SuicideRecently I left my ...      suicide\n",
              "1   Am I weird I don't get affected by compliments...  non-suicide\n",
              "2   Finally 2020 is almost over... So I can never ...  non-suicide\n",
              "3           i need helpjust help me im crying so hard      suicide\n",
              "4   Iâ€™m so lostHello, my name is Adam (16) and I...      suicide\n",
              "..                                                ...          ...\n",
              "95  day 3 of posting something i get mildly infuri...  non-suicide\n",
              "96  A lot of stuff to handle at once for me \\nSorr...  non-suicide\n",
              "97  I'm going to wait for a version of senorita In...  non-suicide\n",
              "98  You know I just realized you cant have an opin...  non-suicide\n",
              "99  2929\\n\\n\\nThatâ€™s the oldest Iâ€™ve ever been...      suicide\n",
              "\n",
              "[100 rows x 2 columns]"
            ]
          },
          "metadata": {},
          "execution_count": 182
        }
      ]
    },
    {
      "cell_type": "code",
      "metadata": {
        "colab": {
          "base_uri": "https://localhost:8080/"
        },
        "id": "XYX54S28dFoA",
        "outputId": "fd522813-e356-442e-f0b8-360f2150d5e5"
      },
      "source": [
        "r.isnull().sum()"
      ],
      "execution_count": 183,
      "outputs": [
        {
          "output_type": "execute_result",
          "data": {
            "text/plain": [
              "text     0\n",
              "class    0\n",
              "dtype: int64"
            ]
          },
          "metadata": {},
          "execution_count": 183
        }
      ]
    },
    {
      "cell_type": "code",
      "metadata": {
        "id": "0iMCfIKRjI0B"
      },
      "source": [
        "df=r"
      ],
      "execution_count": 184,
      "outputs": []
    },
    {
      "cell_type": "code",
      "metadata": {
        "colab": {
          "base_uri": "https://localhost:8080/"
        },
        "id": "nhnBQ6F-jZrV",
        "outputId": "5bb9465e-1b1e-4fbc-b820-60ec65d49c9d"
      },
      "source": [
        "df.isnull().sum()"
      ],
      "execution_count": 185,
      "outputs": [
        {
          "output_type": "execute_result",
          "data": {
            "text/plain": [
              "text     0\n",
              "class    0\n",
              "dtype: int64"
            ]
          },
          "metadata": {},
          "execution_count": 185
        }
      ]
    },
    {
      "cell_type": "code",
      "metadata": {
        "colab": {
          "base_uri": "https://localhost:8080/"
        },
        "id": "zuWBqP6oryF8",
        "outputId": "03ea741d-3e8a-4adc-8f9e-2d7b0cf4414a"
      },
      "source": [
        "df.nunique()"
      ],
      "execution_count": 186,
      "outputs": [
        {
          "output_type": "execute_result",
          "data": {
            "text/plain": [
              "text     232080\n",
              "class        42\n",
              "dtype: int64"
            ]
          },
          "metadata": {},
          "execution_count": 186
        }
      ]
    },
    {
      "cell_type": "code",
      "metadata": {
        "colab": {
          "base_uri": "https://localhost:8080/"
        },
        "id": "pCnB8wQIryGI",
        "outputId": "46c53f71-3847-4ed0-e1ed-bc7fcb0763c1"
      },
      "source": [
        "df.info()"
      ],
      "execution_count": 187,
      "outputs": [
        {
          "output_type": "stream",
          "text": [
            "<class 'pandas.core.frame.DataFrame'>\n",
            "Int64Index: 232082 entries, 0 to 233336\n",
            "Data columns (total 2 columns):\n",
            " #   Column  Non-Null Count   Dtype \n",
            "---  ------  --------------   ----- \n",
            " 0   text    232082 non-null  object\n",
            " 1   class   232082 non-null  object\n",
            "dtypes: object(2)\n",
            "memory usage: 5.3+ MB\n"
          ],
          "name": "stdout"
        }
      ]
    },
    {
      "cell_type": "code",
      "metadata": {
        "colab": {
          "base_uri": "https://localhost:8080/",
          "height": 419
        },
        "id": "xyJNdlScryGF",
        "outputId": "575f0d73-0993-4e61-8b81-401e470dd9ba"
      },
      "source": [
        "df"
      ],
      "execution_count": 188,
      "outputs": [
        {
          "output_type": "execute_result",
          "data": {
            "text/html": [
              "<div>\n",
              "<style scoped>\n",
              "    .dataframe tbody tr th:only-of-type {\n",
              "        vertical-align: middle;\n",
              "    }\n",
              "\n",
              "    .dataframe tbody tr th {\n",
              "        vertical-align: top;\n",
              "    }\n",
              "\n",
              "    .dataframe thead th {\n",
              "        text-align: right;\n",
              "    }\n",
              "</style>\n",
              "<table border=\"1\" class=\"dataframe\">\n",
              "  <thead>\n",
              "    <tr style=\"text-align: right;\">\n",
              "      <th></th>\n",
              "      <th>text</th>\n",
              "      <th>class</th>\n",
              "    </tr>\n",
              "  </thead>\n",
              "  <tbody>\n",
              "    <tr>\n",
              "      <th>0</th>\n",
              "      <td>Ex Wife Threatening SuicideRecently I left my ...</td>\n",
              "      <td>suicide</td>\n",
              "    </tr>\n",
              "    <tr>\n",
              "      <th>1</th>\n",
              "      <td>Am I weird I don't get affected by compliments...</td>\n",
              "      <td>non-suicide</td>\n",
              "    </tr>\n",
              "    <tr>\n",
              "      <th>2</th>\n",
              "      <td>Finally 2020 is almost over... So I can never ...</td>\n",
              "      <td>non-suicide</td>\n",
              "    </tr>\n",
              "    <tr>\n",
              "      <th>3</th>\n",
              "      <td>i need helpjust help me im crying so hard</td>\n",
              "      <td>suicide</td>\n",
              "    </tr>\n",
              "    <tr>\n",
              "      <th>4</th>\n",
              "      <td>Iâ€™m so lostHello, my name is Adam (16) and I...</td>\n",
              "      <td>suicide</td>\n",
              "    </tr>\n",
              "    <tr>\n",
              "      <th>...</th>\n",
              "      <td>...</td>\n",
              "      <td>...</td>\n",
              "    </tr>\n",
              "    <tr>\n",
              "      <th>233332</th>\n",
              "      <td>If you don't like rock then your not going to ...</td>\n",
              "      <td>non-suicide</td>\n",
              "    </tr>\n",
              "    <tr>\n",
              "      <th>233333</th>\n",
              "      <td>You how you can tell i have so many friends an...</td>\n",
              "      <td>non-suicide</td>\n",
              "    </tr>\n",
              "    <tr>\n",
              "      <th>233334</th>\n",
              "      <td>pee probably tastes like salty teaðŸ˜ðŸ’¦â€¼ï...</td>\n",
              "      <td>non-suicide</td>\n",
              "    </tr>\n",
              "    <tr>\n",
              "      <th>233335</th>\n",
              "      <td>The usual stuff you find hereI'm not posting t...</td>\n",
              "      <td>suicide</td>\n",
              "    </tr>\n",
              "    <tr>\n",
              "      <th>233336</th>\n",
              "      <td>I still haven't beaten the first boss in Hollo...</td>\n",
              "      <td>non-suicide</td>\n",
              "    </tr>\n",
              "  </tbody>\n",
              "</table>\n",
              "<p>232082 rows × 2 columns</p>\n",
              "</div>"
            ],
            "text/plain": [
              "                                                     text        class\n",
              "0       Ex Wife Threatening SuicideRecently I left my ...      suicide\n",
              "1       Am I weird I don't get affected by compliments...  non-suicide\n",
              "2       Finally 2020 is almost over... So I can never ...  non-suicide\n",
              "3               i need helpjust help me im crying so hard      suicide\n",
              "4       Iâ€™m so lostHello, my name is Adam (16) and I...      suicide\n",
              "...                                                   ...          ...\n",
              "233332  If you don't like rock then your not going to ...  non-suicide\n",
              "233333  You how you can tell i have so many friends an...  non-suicide\n",
              "233334  pee probably tastes like salty teaðŸ˜ðŸ’¦â€¼ï...  non-suicide\n",
              "233335  The usual stuff you find hereI'm not posting t...      suicide\n",
              "233336  I still haven't beaten the first boss in Hollo...  non-suicide\n",
              "\n",
              "[232082 rows x 2 columns]"
            ]
          },
          "metadata": {},
          "execution_count": 188
        }
      ]
    },
    {
      "cell_type": "code",
      "metadata": {
        "colab": {
          "base_uri": "https://localhost:8080/"
        },
        "id": "RzOu-ay-LC7_",
        "outputId": "4ef646f8-5728-4a48-9ea6-e90e07e37e0c"
      },
      "source": [
        "type(df['text'])\n",
        "df['text'].value_counts()"
      ],
      "execution_count": 189,
      "outputs": [
        {
          "output_type": "execute_result",
          "data": {
            "text/plain": [
              " that he came                                                                                                                                                                                                                                                                                                                                                                                                                                                                                                                                                                                                                                                                                                                                                                                                                                                                                                                                                                                                                                                                                                                                                                                                                                                                                                                                                                                                                                                                                                                                                                                                                                                                                                                                                                                                                                                                                                                                                                                                                                                                                                                                                                                                                                                                                                                                                                                                                                                                                                                                                                                                                                                                                                                                                                                                                                                                                                                                                                                                                                                                                                                                                                                                                                                                                                                                                                                                                                                                                                                                                                                                                                                                                                                                                                                                                                                                                                                                                                                                                                                                                                                                                                                                                                                                                                                                                                                                                                                  2\n",
              "even  to  the  plains  of  Pharan                                                                                                                                                                                                                                                                                                                                                                                                                                                                                                                                                                                                                                                                                                                                                                                                                                                                                                                                                                                                                                                                                                                                                                                                                                                                                                                                                                                                                                                                                                                                                                                                                                                                                                                                                                                                                                                                                                                                                                                                                                                                                                                                                                                                                                                                                                                                                                                                                                                                                                                                                                                                                                                                                                                                                                                                                                                                                                                                                                                                                                                                                                                                                                                                                                                                                                                                                                                                                                                                                                                                                                                                                                                                                                                                                                                                                                                                                                                                                                                                                                                                                                                                                                                                                                                                                                                                                                                                                              2\n",
              "Just destroyed my economics online test Feels really good not gonna lie                                                                                                                                                                                                                                                                                                                                                                                                                                                                                                                                                                                                                                                                                                                                                                                                                                                                                                                                                                                                                                                                                                                                                                                                                                                                                                                                                                                                                                                                                                                                                                                                                                                                                                                                                                                                                                                                                                                                                                                                                                                                                                                                                                                                                                                                                                                                                                                                                                                                                                                                                                                                                                                                                                                                                                                                                                                                                                                                                                                                                                                                                                                                                                                                                                                                                                                                                                                                                                                                                                                                                                                                                                                                                                                                                                                                                                                                                                                                                                                                                                                                                                                                                                                                                                                                                                                                                                                        1\n",
              "I want to tell you how ECT saved my lifeSo for those who are not familiar with \"Electroconvulsive therapy\" (ECT) it is a treatment considered to be some kind of a last resort for unresponsive cases of suicide/depression.\\nUsually when the medication is no longer effective or when dealing with the condition for a very long time without seeing improvement\\nEven today with all of the improvements in the field there are still lots of misunderstandings and confusion/fear. Mainly since the way \\nit is portrayed in movies.\\n\\nWell I am here to share my experience with this treatment so hopefully if some of you have any real plans to kill yourself you can add this to the list of things to try before actually \"giving up\".\\n\\nSo for My story... \\nI am currently 25F. Have been dealing with anxiety, depression, suicidal thoughts for most of my life. Depression started at about round 13.\\nBeen hospitalized once in my teens. (For about 8 montes)\\nMy depression effected every single aspect of my life. I stopped working (got fired from my high position in a big company after being unable to promise them I would improve my attendance and performance magically by the time limit they gave me )\\n\\nMost days I could only lay in my bed. I lost weight then I gained weight.\\n\\nIt was like a rollercoaster. Not knowing what the next episode would bring.\\n\\nWhat I tried till this point :\\n\\nLots of drugs. The known and unknown. High doses too.\\n\\nTherapy. And lots of therapy! I tried CBD. And other known methods.\\nWith many therapists and psychiatrists. Some were great and some terrible. But even those that helped - the good waves never lasted.\\n\\nAs I mentioned I got admitted to a psychiatric hospital (voluntarily) after my first suicidal attempt.\\n\\nBtw I did try some other stuff (not mentioned) too but those are obviously the more known methods and so I only stick with listing them.\\n\\nAnyway...\\nnone of this helped. At least not for long.\\nAnd I started really considering killing myself again.\\n\\nBut - I Promised my mom I would agree to try everything before ending my life and so she got the recommendation for ECT.\\n\\nso we did some research.\\nEven after reading about the many side effects (and there are side effects. Be aware!)\\nI considered my situation and knowing I don't really have anything else to lose I agreed to try the treatment.\\n\\nI was very scared since they basically put you under anesthesia and  use high voltage of electricity on your brain.\\n\\nYou obviously don't really feel anything since they use the anesthesia and only start the treatment after you fallen asleep.\\nBut it's still scary.\\n\\nThey often recommend between 10-12 treatments with options to do more as a way of maintaining the results.\\n\\nSo what *are* the side effects?\\n\\nâ€¢Headaches\\n\\nNausea\\n\\nMuscle aches and soreness\\n\\nDisorientation and confusion\\n\\nâ€¢short term memory is definitely affected (and some patients claim that long term memory might also change/get damaged)\\n\\n\\nPlease note Most of the side affects appear right when you wake up from treatment and will disappear after a short rest (although the memory loss can and will last longer.)\\n\\nIn my experience : my memory definitely got worse since I started treatments. I would recommend starting a dairy or asking close family or friends to make sure you do remember important events/notes.\\n\\nI would totally forget entire conversations I had.\\nAnd as much as it is a bit annoying I am taking the situation in stride.\\n\\nSo now for the results: I could see a change in my state right after about the 7th treatment!\\nAnd it kept getting better. The main things I notice is I no longer have any suicidal thoughts!!!! Like they just disappeared.\\nNo I am not like instantly happy and cured but I no longer think of the worse outcome all the time. I still suffer mostly from anxiety but I am also planning to going back to therapy after finishing with my treatments. (It is not recommended having treatments and therapy together as like I mentioned the memory loss will be a problem and would prevent you from benefiting from the sessions)\\n\\nSo here's to a better hopeful future.\\nI really hope I can work on my remaining issues now that the dark thoughts are out of my way.\\n\\nHappy to answer any questions (;    1\n",
              "Running away/disappearing instead of ending my life?Iâ€™ve thought about ending my own life consistently for about 5 months now. Thereâ€™s not a day that goes by when I donâ€™t think about it. Iâ€™ve been diagnosed with depression and was given medication for it but due to certain health conditions Iâ€™ve been forced to stop them. Opioids were on my list too but I refuse to take them since my family has a history of addiction and Iâ€™d rather not go down that rout. \\n\\nSince Iâ€™m so fearful of physically pain (which is why I havenâ€™t committed suicide) I was wondering if I just disappeared instead. Basically a person gone missing. Iâ€™ve made up scenarios in my mind of how I would do and where I would go, but itâ€™s all just a thought. \\n\\nIâ€™m over 18 but I assume the police would still be â€œforcedâ€ to look for me if/when my parents or friends reported me missing. Have any of you attempted doing this? In my mind itâ€™s as close to a fresh start as I would get.                                                                                                                                                                                                                                                                                                                                                                                                                                                                                                                                                                                                                                                                                                                                                                                                                                                                                                                                                                                                                                                                                                                                                                                                                                                                                                                                                                                                                                                                                                                                                                                                                                                                                                                                                                                                                                                                                                                                                                                                                                                                                                                                                                                                                                                                                                                                                                                                                                                                                                                                                                                                                                                                                                                                                                                                                                                                                                                                                                                                                                                                                                                                                                                                                                                                                                                                                                                                                                          1\n",
              "                                                                                                                                                                                                                                                                                                                                                                                                                                                                                                                                                                                                                                                                                                                                                                                                                                                                                                                                                                                                                                                                                                                                                                                                                                                                                                                                                                                                                                                                                                                                                                                                                                                                                                                                                                                                                                                                                                                                                                                                                                                                                                                                                                                                                                                                                                                                                                                                                                                                                                                                                                                                                                                                                                                                                                                                                                                                                                                                                                                                                                                                                                                                                                                                                                                                                                                                                                                                                                                                                                                                                                                                                                                                                                                                                                                                                                                                                                                                                                                                                                                                                                                                                                                                                                                                                                                                                                                                                                                              ..\n",
              "I think that trans girls make the best partners for heterosexual relationships if sex isnt a priority Ok so let me explain. We hace to live like men for at least 16 years (in the US, dont know about other countries), possibly even more. We know better than cis girls the pros and cons of being an amab (assigned male at birth) thus making it easier for us to relate to you. Plus, at least in my case, since i was raised as a boy i like more boyish things; like cars and videogames. Am not the best at expressing my thoughts plus English isnt my 1st language so idk if yall would understand but i need someone elses thoughts on this.                                                                                                                                                                                                                                                                                                                                                                                                                                                                                                                                                                                                                                                                                                                                                                                                                                                                                                                                                                                                                                                                                                                                                                                                                                                                                                                                                                                                                                                                                                                                                                                                                                                                                                                                                                                                                                                                                                                                                                                                                                                                                                                                                                                                                                                                                                                                                                                                                                                                                                                                                                                                                                                                                                                                                                                                                                                                                                                                                                                                                                                                                                                                                                                                                                                                                                                                                                                                                                                                                                                                                                                                                                                                                                                                                                                                       1\n",
              "Picture this Itâ€™s the Friday before half term, you get home at 1:30 because you had a half day at school. No homework, and your parents are away for at least a weekend. You take a shower, and find pizza leftovers in the fridge. You check the gc and see all the boys are online. You take a seat, put on the headset youâ€™ve used since BO2, and power up the PS4/Xbox. At this point you remember itâ€™s 2XP weekend and you have nothing but time. To put the icing on the cake it starts raining, and the neighbours dog has finally shut up. You pull an all nighter, grinding out warzone, R6, fifa, 2k, you name it. You make some of the best memories of your teenage years, and couldnâ€™t think of a better situation to be in...\\n\\nYou can now scroll because you have 14 overdue assignments.                                                                                                                                                                                                                                                                                                                                                                                                                                                                                                                                                                                                                                                                                                                                                                                                                                                                                                                                                                                                                                                                                                                                                                                                                                                                                                                                                                                                                                                                                                                                                                                                                                                                                                                                                                                                                                                                                                                                                                                                                                                                                                                                                                                                                                                                                                                                                                                                                                                                                                                                                                                                                                                                                                                                                                                                                                                                                                                                                                                                                                                                                                                                                                                                                                                                                                                                                                                                                                                                                                                                                                                                                                             1\n",
              "What helps you guys to stop overthinking over nothing Filllleerrrrrrrrrr ouuuuu teenage stuff Iâ€™m quirky jk jk yâ€™all are mature af  BAGEL BAGEL MCDOUBLE FARMERS MILK BREAST MILK ASS MILK                                                                                                                                                                                                                                                                                                                                                                                                                                                                                                                                                                                                                                                                                                                                                                                                                                                                                                                                                                                                                                                                                                                                                                                                                                                                                                                                                                                                                                                                                                                                                                                                                                                                                                                                                                                                                                                                                                                                                                                                                                                                                                                                                                                                                                                                                                                                                                                                                                                                                                                                                                                                                                                                                                                                                                                                                                                                                                                                                                                                                                                                                                                                                                                                                                                                                                                                                                                                                                                                                                                                                                                                                                                                                                                                                                                                                                                                                                                                                                                                                                                                                                                                                                                                                                                                 1\n",
              "I wanna buy something on amazon, I need help thinking of what to get though I got 55 pounds right now (might be able to get a little bit more money on there idk)\\n\\nbit about me so you can help:  \\nI'm closet bi\\n\\nI'm 16\\n\\nam British\\n\\nsingle (idk why you would need to know that but eh)\\n\\nand my birthday was on Monday (yall bring me anything? lol)\\n\\nand i play the Switch (but only official Nintendo games)\\n\\n&amp;#x200B;\\n\\nI would ask my friends but they just say body pillows and dildos (that's why I'm marking this NSFW) so while I'm \"ok\" with the idea of them I dont wanna have to open a box with my name on it with a body pillow in\\n\\n&amp;#x200B;\\n\\nanyway can yall help me think of stuff to get/ save for?\\n\\nthanks!                                                                                                                                                                                                                                                                                                                                                                                                                                                                                                                                                                                                                                                                                                                                                                                                                                                                                                                                                                                                                                                                                                                                                                                                                                                                                                                                                                                                                                                                                                                                                                                                                                                                                                                                                                                                                                                                                                                                                                                                                                                                                                                                                                                                                                                                                                                                                                                                                                                                                                                                                                                                                                                                                                                                                                                                                                                                                                                                                                                                                                                                                                                                                                                                                                                                                                                                                                                                                                                                                                                                                                                                                                                                                                   1\n",
              "Random fact day 8 Eigengrau is a color we all see but never knew the name of. The color is visible when you open your eyes in a pitch black room. All you need to do is walk into the darkest room in your house and close your eyes for a minute and you will see it after you open your eyes!                                                                                                                                                                                                                                                                                                                                                                                                                                                                                                                                                                                                                                                                                                                                                                                                                                                                                                                                                                                                                                                                                                                                                                                                                                                                                                                                                                                                                                                                                                                                                                                                                                                                                                                                                                                                                                                                                                                                                                                                                                                                                                                                                                                                                                                                                                                                                                                                                                                                                                                                                                                                                                                                                                                                                                                                                                                                                                                                                                                                                                                                                                                                                                                                                                                                                                                                                                                                                                                                                                                                                                                                                                                                                                                                                                                                                                                                                                                                                                                                                                                                                                                                                                1\n",
              "Name: text, Length: 232080, dtype: int64"
            ]
          },
          "metadata": {},
          "execution_count": 189
        }
      ]
    },
    {
      "cell_type": "code",
      "metadata": {
        "colab": {
          "base_uri": "https://localhost:8080/"
        },
        "id": "K4EyKn-GLQ4C",
        "outputId": "54d72291-70b8-48d7-af0e-2d40a78c825e"
      },
      "source": [
        "print(type(df['class']))\n",
        "df['class'].value_counts()"
      ],
      "execution_count": 190,
      "outputs": [
        {
          "output_type": "stream",
          "text": [
            "<class 'pandas.core.series.Series'>\n"
          ],
          "name": "stdout"
        },
        {
          "output_type": "execute_result",
          "data": {
            "text/plain": [
              "suicide                                                                                                                                                                                                                                                                                                                                                       116030\n",
              "non-suicide                                                                                                                                                                                                                                                                                                                                                   116010\n",
              "  which  is  in  thewilderness.7And they returned                                                                                                                                                                                                                                                                                                                  2\n",
              "from the south to Bethel                                                                                                                                                                                                                                                                                                                                           2\n",
              " or swallowing the poison and expecting the other person to die. I don't hold onto this anger. I accept it as something crappy that happens in life                                                                                                                                                                                                                1\n",
              " helium                                                                                                                                                                                                                                                                                                                                                            1\n",
              " someone who is too distracted over all of this to find purpose and meaning in something else. Someone who is inclined to just delete all of this. Derp Derp\"                                                                                                                                                                                                      1\n",
              " but its making me feel worse. A few people were pleaesd to see me back. It touched me in a way. I'm sure im not alone when i say suicidal people have contemplated who would be at their funerals. I'm sick of living this life. Seeing other people livign their life                                                                                            1\n",
              " itâ€™s been found that RNA                                                                                                                                                                                                                                                                                                                                        1\n",
              " they think Iâ€™m safe. Little do they know                                                                                                                                                                                                                                                                                                                        1\n",
              " the better. There's so much to do. The camera there is                                                                                                                                                                                                                                                                                                            1\n",
              " those words were the only thing I would have needed to stay.â€                                                                                                                                                                                                                                                                                                   1\n",
              " but it might just not be working for them any longer. They might need to do things in a different way and accept that the things they fall back on and rely on when faced with that doubt may no longer work for them predictably or without error in anticipated outcome. Sometimes we get so habituated to things we do routinely                               1\n",
              " in crowded places and everywhere else                                                                                                                                                                                                                                                                                                                             1\n",
              " the cake                                                                                                                                                                                                                                                                                                                                                          1\n",
              " her siblings                                                                                                                                                                                                                                                                                                                                                      1\n",
              " I hate how I'm treated.                                                                                                                                                                                                                                                                                                                                           1\n",
              " cruel                                                                                                                                                                                                                                                                                                                                                             1\n",
              " bary bemson bee t the stand. .goud ibea! you can really sae why he's conzidered one f dha bezt lawyers                                                                                                                                                                                                                                                            1\n",
              " but I guess it makes WVU look good. We will see                                                                                                                                                                                                                                                                                                                   1\n",
              " paranoia                                                                                                                                                                                                                                                                                                                                                          1\n",
              " they feel bad                                                                                                                                                                                                                                                                                                                                                     1\n",
              " you only get paid to care about people it's not like you actually care because you have no heart. That's what these people are all aboutÂ                                                                                                                                                                                                                         1\n",
              " perhaps killing all the dinosaurs but sparing the small                                                                                                                                                                                                                                                                                                           1\n",
              " creatures very different from any that we know.                                                                                                                                                                                                                                                                                                                   1\n",
              " not because they like me. Be because they receive something from me. QPC employees are nice because I give them my business. If I never met them                                                                                                                                                                                                                  1\n",
              " with our intelligence and our knowledge of the cosmos.\"                                                                                                                                                                                                                                                                                                           1\n",
              "Â rich                                                                                                                                                                                                                                                                                                                                                             1\n",
              "Â when they should've been there for me and how -I should've reached out- when nobody came for me to understand and stood by me if I was alive.                                                                                                                                                                                                                    1\n",
              " everyone sees it and knows about it? Am I the only one who feels as though I will never have the privacy to grow the way I want to - because I simply can't prove myself trustworthy? Am I the only one who feels like I am being told to accept a mediocre life because that is what people just expect at this point? That if I haven't fixed it by now         1\n",
              " someone who wants to be friends with you                                                                                                                                                                                                                                                                                                                          1\n",
              " or harder than what theirs could be. Iâ€™m not a fighter                                                                                                                                                                                                                                                                                                          1\n",
              " let alone saying it                                                                                                                                                                                                                                                                                                                                               1\n",
              " my father used to yell                                                                                                                                                                                                                                                                                                                                            1\n",
              " no matter how humbleâ€”a microbe would be just fineâ€”will de-provincialize biology. It will show us what else is possible. Weâ€™ve heard so far the voice of life on only a single world. But for the first time                                                                                                                                                 1\n",
              " what are you doing?! Then all we do is blend in with traffic... ...without arousing suspicion. Once at the airport                                                                                                                                                                                                                                                1\n",
              " so badly                                                                                                                                                                                                                                                                                                                                                          1\n",
              " besides nobody cares why am I still here. I should leave this worldðŸ™„ðŸ˜”\"                                                                                                                                                                                                                                                                                      1\n",
              " in a relationship                                                                                                                                                                                                                                                                                                                                                 1\n",
              " one is used to acting out of desperation to alleviate that pain. Being told to just                                                                                                                                                                                                                                                                               1\n",
              " but i could die at least! I crossed a bridge across the motorway. We had passed under it in a car so many times. I had seen on another bridge earlier that tyou could get tyour feet onto a surface ont he ohter sidef. I went to the side                                                                                                                        1\n",
              " understandable.  Itâ€™s 10 pages single spaced after all.  Iâ€™m probably going to print this out later to take to my schoolâ€™s counselling center because itâ€™s easier than trying to articulate this whole mess in front of a stranger.                                                                                                                       1\n",
              "Name: class, dtype: int64"
            ]
          },
          "metadata": {},
          "execution_count": 190
        }
      ]
    },
    {
      "cell_type": "code",
      "metadata": {
        "id": "At06t_XVkO8q"
      },
      "source": [
        "#pd.set_option('display.max_columns', None)\n",
        "#pd.set_option(\"max_rows\", None)\n",
        "#pd.reset_option('display.max_columns', None)\n",
        "#pd.reset_option(\"max_rows\", None)\n"
      ],
      "execution_count": 191,
      "outputs": []
    },
    {
      "cell_type": "code",
      "metadata": {
        "colab": {
          "base_uri": "https://localhost:8080/"
        },
        "id": "ONHHHTp8uAW_",
        "outputId": "26894c90-31a5-4462-c290-5ec995202972"
      },
      "source": [
        "df['class']"
      ],
      "execution_count": 192,
      "outputs": [
        {
          "output_type": "execute_result",
          "data": {
            "text/plain": [
              "0             suicide\n",
              "1         non-suicide\n",
              "2         non-suicide\n",
              "3             suicide\n",
              "4             suicide\n",
              "             ...     \n",
              "233332    non-suicide\n",
              "233333    non-suicide\n",
              "233334    non-suicide\n",
              "233335        suicide\n",
              "233336    non-suicide\n",
              "Name: class, Length: 232082, dtype: object"
            ]
          },
          "metadata": {},
          "execution_count": 192
        }
      ]
    },
    {
      "cell_type": "code",
      "metadata": {
        "colab": {
          "base_uri": "https://localhost:8080/"
        },
        "id": "J13HCtNyvUDy",
        "outputId": "55ae34f6-e029-41eb-ff78-e5409d7e9ba0"
      },
      "source": [
        "df['class'].unique()"
      ],
      "execution_count": 193,
      "outputs": [
        {
          "output_type": "execute_result",
          "data": {
            "text/plain": [
              "array(['suicide', 'non-suicide',\n",
              "       ' but i could die at least! I crossed a bridge across the motorway. We had passed under it in a car so many times. I had seen on another bridge earlier that tyou could get tyour feet onto a surface ont he ohter sidef. I went to the side',\n",
              "       \" but its making me feel worse. A few people were pleaesd to see me back. It touched me in a way. I'm sure im not alone when i say suicidal people have contemplated who would be at their funerals. I'm sick of living this life. Seeing other people livign their life\",\n",
              "       ' with our intelligence and our knowledge of the cosmos.\"',\n",
              "       ' what are you doing?! Then all we do is blend in with traffic... ...without arousing suspicion. Once at the airport',\n",
              "       ' my father used to yell', ' let alone saying it', ' her siblings',\n",
              "       ' understandable.  Itâ€™s 10 pages single spaced after all.  Iâ€™m probably going to print this out later to take to my schoolâ€™s counselling center because itâ€™s easier than trying to articulate this whole mess in front of a stranger.',\n",
              "       ' but I guess it makes WVU look good. We will see',\n",
              "       ' they think Iâ€™m safe. Little do they know',\n",
              "       ' or harder than what theirs could be. Iâ€™m not a fighter',\n",
              "       ' paranoia', ' in a relationship', ' they feel bad',\n",
              "       ' those words were the only thing I would have needed to stay.â€\\x9d',\n",
              "       ' not because they like me. Be because they receive something from me. QPC employees are nice because I give them my business. If I never met them',\n",
              "       'from the south to Bethel',\n",
              "       '  which  is  in  thewilderness.7And they returned',\n",
              "       \" bary bemson bee t the stand. .goud ibea! you can really sae why he's conzidered one f dha bezt lawyers\",\n",
              "       \" the better. There's so much to do. The camera there is\",\n",
              "       ' creatures very different from any that we know.', ' helium',\n",
              "       ' no matter how humbleâ€”a microbe would be just fineâ€”will de-provincialize biology. It will show us what else is possible. Weâ€™ve heard so far the voice of life on only a single world. But for the first time',\n",
              "       ' itâ€™s been found that RNA',\n",
              "       ' perhaps killing all the dinosaurs but sparing the small',\n",
              "       ' the cake',\n",
              "       ' but it might just not be working for them any longer. They might need to do things in a different way and accept that the things they fall back on and rely on when faced with that doubt may no longer work for them predictably or without error in anticipated outcome. Sometimes we get so habituated to things we do routinely',\n",
              "       ' one is used to acting out of desperation to alleviate that pain. Being told to just',\n",
              "       \" or swallowing the poison and expecting the other person to die. I don't hold onto this anger. I accept it as something crappy that happens in life\",\n",
              "       ' so badly',\n",
              "       \" everyone sees it and knows about it? Am I the only one who feels as though I will never have the privacy to grow the way I want to - because I simply can't prove myself trustworthy? Am I the only one who feels like I am being told to accept a mediocre life because that is what people just expect at this point? That if I haven't fixed it by now\",\n",
              "       ' someone who is too distracted over all of this to find purpose and meaning in something else. Someone who is inclined to just delete all of this. Derp Derp\"',\n",
              "       ' in crowded places and everywhere else',\n",
              "       ' someone who wants to be friends with you',\n",
              "       \" you only get paid to care about people it's not like you actually care because you have no heart. That's what these people are all aboutÂ\\xa0\",\n",
              "       ' cruel', \" I hate how I'm treated.\",\n",
              "       \"Â\\xa0when they should've been there for me and how -I should've reached out- when nobody came for me to understand and stood by me if I was alive.\",\n",
              "       'Â\\xa0rich',\n",
              "       ' besides nobody cares why am I still here. I should leave this worldðŸ™„ðŸ˜”\"'],\n",
              "      dtype=object)"
            ]
          },
          "metadata": {},
          "execution_count": 193
        }
      ]
    },
    {
      "cell_type": "code",
      "metadata": {
        "colab": {
          "base_uri": "https://localhost:8080/"
        },
        "id": "xSmTAv8e4fBM",
        "outputId": "47d0f408-39e9-4bce-d669-c5393937ad3d"
      },
      "source": [
        "a=df[(df['class']=='non-suicide')]\n",
        "a.shape"
      ],
      "execution_count": 194,
      "outputs": [
        {
          "output_type": "execute_result",
          "data": {
            "text/plain": [
              "(116010, 2)"
            ]
          },
          "metadata": {},
          "execution_count": 194
        }
      ]
    },
    {
      "cell_type": "code",
      "metadata": {
        "colab": {
          "base_uri": "https://localhost:8080/"
        },
        "id": "490r0jxf89-t",
        "outputId": "b918b610-9dd1-4143-cafe-eec46b677cc5"
      },
      "source": [
        "b=df[(df['class']=='suicide')]\n",
        "b.shape"
      ],
      "execution_count": 195,
      "outputs": [
        {
          "output_type": "execute_result",
          "data": {
            "text/plain": [
              "(116030, 2)"
            ]
          },
          "metadata": {},
          "execution_count": 195
        }
      ]
    },
    {
      "cell_type": "code",
      "metadata": {
        "colab": {
          "base_uri": "https://localhost:8080/",
          "height": 419
        },
        "id": "-YAubdmq9bkx",
        "outputId": "5c832790-22c5-4080-d282-6d83833c5c85"
      },
      "source": [
        "df = a.append(b)\n",
        "df"
      ],
      "execution_count": 196,
      "outputs": [
        {
          "output_type": "execute_result",
          "data": {
            "text/html": [
              "<div>\n",
              "<style scoped>\n",
              "    .dataframe tbody tr th:only-of-type {\n",
              "        vertical-align: middle;\n",
              "    }\n",
              "\n",
              "    .dataframe tbody tr th {\n",
              "        vertical-align: top;\n",
              "    }\n",
              "\n",
              "    .dataframe thead th {\n",
              "        text-align: right;\n",
              "    }\n",
              "</style>\n",
              "<table border=\"1\" class=\"dataframe\">\n",
              "  <thead>\n",
              "    <tr style=\"text-align: right;\">\n",
              "      <th></th>\n",
              "      <th>text</th>\n",
              "      <th>class</th>\n",
              "    </tr>\n",
              "  </thead>\n",
              "  <tbody>\n",
              "    <tr>\n",
              "      <th>1</th>\n",
              "      <td>Am I weird I don't get affected by compliments...</td>\n",
              "      <td>non-suicide</td>\n",
              "    </tr>\n",
              "    <tr>\n",
              "      <th>2</th>\n",
              "      <td>Finally 2020 is almost over... So I can never ...</td>\n",
              "      <td>non-suicide</td>\n",
              "    </tr>\n",
              "    <tr>\n",
              "      <th>8</th>\n",
              "      <td>Everyone wants to be \"edgy\" and it's making me...</td>\n",
              "      <td>non-suicide</td>\n",
              "    </tr>\n",
              "    <tr>\n",
              "      <th>15</th>\n",
              "      <td>Fuck the verizon smart family app I canâ€™t ev...</td>\n",
              "      <td>non-suicide</td>\n",
              "    </tr>\n",
              "    <tr>\n",
              "      <th>17</th>\n",
              "      <td>Well, Im screwed. I locked myself in the schoo...</td>\n",
              "      <td>non-suicide</td>\n",
              "    </tr>\n",
              "    <tr>\n",
              "      <th>...</th>\n",
              "      <td>...</td>\n",
              "      <td>...</td>\n",
              "    </tr>\n",
              "    <tr>\n",
              "      <th>233324</th>\n",
              "      <td>Iâ€™ve fucking had enough.None of this depress...</td>\n",
              "      <td>suicide</td>\n",
              "    </tr>\n",
              "    <tr>\n",
              "      <th>233325</th>\n",
              "      <td>paralyzing anxiety &amp;amp; depression are pushin...</td>\n",
              "      <td>suicide</td>\n",
              "    </tr>\n",
              "    <tr>\n",
              "      <th>233329</th>\n",
              "      <td>My mom tried to kill herself today. I feel los...</td>\n",
              "      <td>suicide</td>\n",
              "    </tr>\n",
              "    <tr>\n",
              "      <th>233330</th>\n",
              "      <td>Iâ€™m a fucking scummy person and I canâ€™t ch...</td>\n",
              "      <td>suicide</td>\n",
              "    </tr>\n",
              "    <tr>\n",
              "      <th>233335</th>\n",
              "      <td>The usual stuff you find hereI'm not posting t...</td>\n",
              "      <td>suicide</td>\n",
              "    </tr>\n",
              "  </tbody>\n",
              "</table>\n",
              "<p>232040 rows × 2 columns</p>\n",
              "</div>"
            ],
            "text/plain": [
              "                                                     text        class\n",
              "1       Am I weird I don't get affected by compliments...  non-suicide\n",
              "2       Finally 2020 is almost over... So I can never ...  non-suicide\n",
              "8       Everyone wants to be \"edgy\" and it's making me...  non-suicide\n",
              "15      Fuck the verizon smart family app I canâ€™t ev...  non-suicide\n",
              "17      Well, Im screwed. I locked myself in the schoo...  non-suicide\n",
              "...                                                   ...          ...\n",
              "233324  Iâ€™ve fucking had enough.None of this depress...      suicide\n",
              "233325  paralyzing anxiety &amp; depression are pushin...      suicide\n",
              "233329  My mom tried to kill herself today. I feel los...      suicide\n",
              "233330  Iâ€™m a fucking scummy person and I canâ€™t ch...      suicide\n",
              "233335  The usual stuff you find hereI'm not posting t...      suicide\n",
              "\n",
              "[232040 rows x 2 columns]"
            ]
          },
          "metadata": {},
          "execution_count": 196
        }
      ]
    },
    {
      "cell_type": "code",
      "metadata": {
        "colab": {
          "base_uri": "https://localhost:8080/",
          "height": 142
        },
        "id": "um0A1URtryGO",
        "outputId": "f5477602-df6d-4421-d905-4e4f0829a1eb"
      },
      "source": [
        "Category_count=df.groupby(['class']).count()\n",
        "Category_count"
      ],
      "execution_count": 197,
      "outputs": [
        {
          "output_type": "execute_result",
          "data": {
            "text/html": [
              "<div>\n",
              "<style scoped>\n",
              "    .dataframe tbody tr th:only-of-type {\n",
              "        vertical-align: middle;\n",
              "    }\n",
              "\n",
              "    .dataframe tbody tr th {\n",
              "        vertical-align: top;\n",
              "    }\n",
              "\n",
              "    .dataframe thead th {\n",
              "        text-align: right;\n",
              "    }\n",
              "</style>\n",
              "<table border=\"1\" class=\"dataframe\">\n",
              "  <thead>\n",
              "    <tr style=\"text-align: right;\">\n",
              "      <th></th>\n",
              "      <th>text</th>\n",
              "    </tr>\n",
              "    <tr>\n",
              "      <th>class</th>\n",
              "      <th></th>\n",
              "    </tr>\n",
              "  </thead>\n",
              "  <tbody>\n",
              "    <tr>\n",
              "      <th>non-suicide</th>\n",
              "      <td>116010</td>\n",
              "    </tr>\n",
              "    <tr>\n",
              "      <th>suicide</th>\n",
              "      <td>116030</td>\n",
              "    </tr>\n",
              "  </tbody>\n",
              "</table>\n",
              "</div>"
            ],
            "text/plain": [
              "               text\n",
              "class              \n",
              "non-suicide  116010\n",
              "suicide      116030"
            ]
          },
          "metadata": {},
          "execution_count": 197
        }
      ]
    },
    {
      "cell_type": "code",
      "metadata": {
        "colab": {
          "base_uri": "https://localhost:8080/",
          "height": 253
        },
        "id": "IIUs2Z9oKK7i",
        "outputId": "e6fad4e9-46cf-4603-b4cb-59c85d811016"
      },
      "source": [
        "#r=df\n",
        "import matplotlib.pyplot as plt\n",
        "plt.figure(figsize=(20,5))\n",
        "Category_count=df.groupby('class').count()\n",
        "plt.bar(Category_count.index.values, Category_count['text'])\n",
        "plt.show()"
      ],
      "execution_count": 198,
      "outputs": [
        {
          "output_type": "display_data",
          "data": {
            "image/png": "[encoded data removed]",
            "text/plain": [
              "<Figure size 1440x360 with 1 Axes>"
            ]
          },
          "metadata": {}
        }
      ]
    },
    {
      "cell_type": "code",
      "metadata": {
        "colab": {
          "base_uri": "https://localhost:8080/"
        },
        "id": "7k_ppGkbryGP",
        "outputId": "bcad8e36-5c46-4dde-8e9d-c8dee4f47b4f"
      },
      "source": [
        "Category_count['text']"
      ],
      "execution_count": 199,
      "outputs": [
        {
          "output_type": "execute_result",
          "data": {
            "text/plain": [
              "class\n",
              "non-suicide    116010\n",
              "suicide        116030\n",
              "Name: text, dtype: int64"
            ]
          },
          "metadata": {},
          "execution_count": 199
        }
      ]
    },
    {
      "cell_type": "code",
      "metadata": {
        "colab": {
          "base_uri": "https://localhost:8080/"
        },
        "id": "ND_F53tRQgzQ",
        "outputId": "a819c515-5ac0-42f6-f2bf-eca69a810394"
      },
      "source": [
        "df['class']"
      ],
      "execution_count": 200,
      "outputs": [
        {
          "output_type": "execute_result",
          "data": {
            "text/plain": [
              "1         non-suicide\n",
              "2         non-suicide\n",
              "8         non-suicide\n",
              "15        non-suicide\n",
              "17        non-suicide\n",
              "             ...     \n",
              "233324        suicide\n",
              "233325        suicide\n",
              "233329        suicide\n",
              "233330        suicide\n",
              "233335        suicide\n",
              "Name: class, Length: 232040, dtype: object"
            ]
          },
          "metadata": {},
          "execution_count": 200
        }
      ]
    },
    {
      "cell_type": "code",
      "metadata": {
        "colab": {
          "base_uri": "https://localhost:8080/"
        },
        "id": "ZzWEj6ouSoRQ",
        "outputId": "6fa88bcc-5aef-4c32-dd3f-f55a977e219d"
      },
      "source": [
        "print(df['text'].shape)\n",
        "print(df['class'].shape)\n",
        "print(df.shape)"
      ],
      "execution_count": 201,
      "outputs": [
        {
          "output_type": "stream",
          "text": [
            "(232040,)\n",
            "(232040,)\n",
            "(232040, 2)\n"
          ],
          "name": "stdout"
        }
      ]
    },
    {
      "cell_type": "code",
      "metadata": {
        "colab": {
          "base_uri": "https://localhost:8080/",
          "height": 419
        },
        "id": "7aifRSINryGS",
        "outputId": "0b9ab2de-01d7-4bfd-d8cc-5ba7a2e07b68"
      },
      "source": [
        "df.head(100)"
      ],
      "execution_count": 202,
      "outputs": [
        {
          "output_type": "execute_result",
          "data": {
            "text/html": [
              "<div>\n",
              "<style scoped>\n",
              "    .dataframe tbody tr th:only-of-type {\n",
              "        vertical-align: middle;\n",
              "    }\n",
              "\n",
              "    .dataframe tbody tr th {\n",
              "        vertical-align: top;\n",
              "    }\n",
              "\n",
              "    .dataframe thead th {\n",
              "        text-align: right;\n",
              "    }\n",
              "</style>\n",
              "<table border=\"1\" class=\"dataframe\">\n",
              "  <thead>\n",
              "    <tr style=\"text-align: right;\">\n",
              "      <th></th>\n",
              "      <th>text</th>\n",
              "      <th>class</th>\n",
              "    </tr>\n",
              "  </thead>\n",
              "  <tbody>\n",
              "    <tr>\n",
              "      <th>1</th>\n",
              "      <td>Am I weird I don't get affected by compliments...</td>\n",
              "      <td>non-suicide</td>\n",
              "    </tr>\n",
              "    <tr>\n",
              "      <th>2</th>\n",
              "      <td>Finally 2020 is almost over... So I can never ...</td>\n",
              "      <td>non-suicide</td>\n",
              "    </tr>\n",
              "    <tr>\n",
              "      <th>8</th>\n",
              "      <td>Everyone wants to be \"edgy\" and it's making me...</td>\n",
              "      <td>non-suicide</td>\n",
              "    </tr>\n",
              "    <tr>\n",
              "      <th>15</th>\n",
              "      <td>Fuck the verizon smart family app I canâ€™t ev...</td>\n",
              "      <td>non-suicide</td>\n",
              "    </tr>\n",
              "    <tr>\n",
              "      <th>17</th>\n",
              "      <td>Well, Im screwed. I locked myself in the schoo...</td>\n",
              "      <td>non-suicide</td>\n",
              "    </tr>\n",
              "    <tr>\n",
              "      <th>...</th>\n",
              "      <td>...</td>\n",
              "      <td>...</td>\n",
              "    </tr>\n",
              "    <tr>\n",
              "      <th>188</th>\n",
              "      <td>Is there a cure for intense boredom? Other LSD...</td>\n",
              "      <td>non-suicide</td>\n",
              "    </tr>\n",
              "    <tr>\n",
              "      <th>191</th>\n",
              "      <td>Does anyone else feel like they were neglected...</td>\n",
              "      <td>non-suicide</td>\n",
              "    </tr>\n",
              "    <tr>\n",
              "      <th>192</th>\n",
              "      <td>Aight thats it, time to go I've been up for to...</td>\n",
              "      <td>non-suicide</td>\n",
              "    </tr>\n",
              "    <tr>\n",
              "      <th>199</th>\n",
              "      <td>Welp, here we go again. Hey hey! Guess who got...</td>\n",
              "      <td>non-suicide</td>\n",
              "    </tr>\n",
              "    <tr>\n",
              "      <th>200</th>\n",
              "      <td>hey liam, is you are have beans? ??????\\n\\nnev...</td>\n",
              "      <td>non-suicide</td>\n",
              "    </tr>\n",
              "  </tbody>\n",
              "</table>\n",
              "<p>100 rows × 2 columns</p>\n",
              "</div>"
            ],
            "text/plain": [
              "                                                  text        class\n",
              "1    Am I weird I don't get affected by compliments...  non-suicide\n",
              "2    Finally 2020 is almost over... So I can never ...  non-suicide\n",
              "8    Everyone wants to be \"edgy\" and it's making me...  non-suicide\n",
              "15   Fuck the verizon smart family app I canâ€™t ev...  non-suicide\n",
              "17   Well, Im screwed. I locked myself in the schoo...  non-suicide\n",
              "..                                                 ...          ...\n",
              "188  Is there a cure for intense boredom? Other LSD...  non-suicide\n",
              "191  Does anyone else feel like they were neglected...  non-suicide\n",
              "192  Aight thats it, time to go I've been up for to...  non-suicide\n",
              "199  Welp, here we go again. Hey hey! Guess who got...  non-suicide\n",
              "200  hey liam, is you are have beans? ??????\\n\\nnev...  non-suicide\n",
              "\n",
              "[100 rows x 2 columns]"
            ]
          },
          "metadata": {},
          "execution_count": 202
        }
      ]
    },
    {
      "cell_type": "code",
      "metadata": {
        "colab": {
          "base_uri": "https://localhost:8080/"
        },
        "id": "Xgor5s7ksho5",
        "outputId": "282b592c-578e-453d-fb29-844d2843167d"
      },
      "source": [
        "df.nunique()"
      ],
      "execution_count": 203,
      "outputs": [
        {
          "output_type": "execute_result",
          "data": {
            "text/plain": [
              "text     232040\n",
              "class         2\n",
              "dtype: int64"
            ]
          },
          "metadata": {},
          "execution_count": 203
        }
      ]
    },
    {
      "cell_type": "code",
      "metadata": {
        "colab": {
          "base_uri": "https://localhost:8080/",
          "height": 419
        },
        "id": "5g3FRsWWktUQ",
        "outputId": "147d4d5c-8a56-4573-96ff-1ed6a03397e0"
      },
      "source": [
        "X=df.iloc[:,:1]\n",
        "y=df.iloc[:,1]\n",
        "X"
      ],
      "execution_count": 204,
      "outputs": [
        {
          "output_type": "execute_result",
          "data": {
            "text/html": [
              "<div>\n",
              "<style scoped>\n",
              "    .dataframe tbody tr th:only-of-type {\n",
              "        vertical-align: middle;\n",
              "    }\n",
              "\n",
              "    .dataframe tbody tr th {\n",
              "        vertical-align: top;\n",
              "    }\n",
              "\n",
              "    .dataframe thead th {\n",
              "        text-align: right;\n",
              "    }\n",
              "</style>\n",
              "<table border=\"1\" class=\"dataframe\">\n",
              "  <thead>\n",
              "    <tr style=\"text-align: right;\">\n",
              "      <th></th>\n",
              "      <th>text</th>\n",
              "    </tr>\n",
              "  </thead>\n",
              "  <tbody>\n",
              "    <tr>\n",
              "      <th>1</th>\n",
              "      <td>Am I weird I don't get affected by compliments...</td>\n",
              "    </tr>\n",
              "    <tr>\n",
              "      <th>2</th>\n",
              "      <td>Finally 2020 is almost over... So I can never ...</td>\n",
              "    </tr>\n",
              "    <tr>\n",
              "      <th>8</th>\n",
              "      <td>Everyone wants to be \"edgy\" and it's making me...</td>\n",
              "    </tr>\n",
              "    <tr>\n",
              "      <th>15</th>\n",
              "      <td>Fuck the verizon smart family app I canâ€™t ev...</td>\n",
              "    </tr>\n",
              "    <tr>\n",
              "      <th>17</th>\n",
              "      <td>Well, Im screwed. I locked myself in the schoo...</td>\n",
              "    </tr>\n",
              "    <tr>\n",
              "      <th>...</th>\n",
              "      <td>...</td>\n",
              "    </tr>\n",
              "    <tr>\n",
              "      <th>233324</th>\n",
              "      <td>Iâ€™ve fucking had enough.None of this depress...</td>\n",
              "    </tr>\n",
              "    <tr>\n",
              "      <th>233325</th>\n",
              "      <td>paralyzing anxiety &amp;amp; depression are pushin...</td>\n",
              "    </tr>\n",
              "    <tr>\n",
              "      <th>233329</th>\n",
              "      <td>My mom tried to kill herself today. I feel los...</td>\n",
              "    </tr>\n",
              "    <tr>\n",
              "      <th>233330</th>\n",
              "      <td>Iâ€™m a fucking scummy person and I canâ€™t ch...</td>\n",
              "    </tr>\n",
              "    <tr>\n",
              "      <th>233335</th>\n",
              "      <td>The usual stuff you find hereI'm not posting t...</td>\n",
              "    </tr>\n",
              "  </tbody>\n",
              "</table>\n",
              "<p>232040 rows × 1 columns</p>\n",
              "</div>"
            ],
            "text/plain": [
              "                                                     text\n",
              "1       Am I weird I don't get affected by compliments...\n",
              "2       Finally 2020 is almost over... So I can never ...\n",
              "8       Everyone wants to be \"edgy\" and it's making me...\n",
              "15      Fuck the verizon smart family app I canâ€™t ev...\n",
              "17      Well, Im screwed. I locked myself in the schoo...\n",
              "...                                                   ...\n",
              "233324  Iâ€™ve fucking had enough.None of this depress...\n",
              "233325  paralyzing anxiety &amp; depression are pushin...\n",
              "233329  My mom tried to kill herself today. I feel los...\n",
              "233330  Iâ€™m a fucking scummy person and I canâ€™t ch...\n",
              "233335  The usual stuff you find hereI'm not posting t...\n",
              "\n",
              "[232040 rows x 1 columns]"
            ]
          },
          "metadata": {},
          "execution_count": 204
        }
      ]
    },
    {
      "cell_type": "code",
      "metadata": {
        "colab": {
          "base_uri": "https://localhost:8080/"
        },
        "id": "LDjzQftESPfE",
        "outputId": "708ae0df-517e-45f1-cd66-9aad127b63ca"
      },
      "source": [
        "y"
      ],
      "execution_count": 205,
      "outputs": [
        {
          "output_type": "execute_result",
          "data": {
            "text/plain": [
              "1         non-suicide\n",
              "2         non-suicide\n",
              "8         non-suicide\n",
              "15        non-suicide\n",
              "17        non-suicide\n",
              "             ...     \n",
              "233324        suicide\n",
              "233325        suicide\n",
              "233329        suicide\n",
              "233330        suicide\n",
              "233335        suicide\n",
              "Name: class, Length: 232040, dtype: object"
            ]
          },
          "metadata": {},
          "execution_count": 205
        }
      ]
    },
    {
      "cell_type": "markdown",
      "metadata": {
        "id": "wcbX43iC9G2f"
      },
      "source": [
        "## [CountVectorizer]\n",
        "## Artificial Neural Network (ANN)"
      ]
    },
    {
      "cell_type": "code",
      "metadata": {
        "colab": {
          "base_uri": "https://localhost:8080/"
        },
        "id": "G7ANhCX-4prI",
        "outputId": "eb39d9b6-7503-43f8-fc35-7d1a4cd2ff75"
      },
      "source": [
        "df.shape"
      ],
      "execution_count": 206,
      "outputs": [
        {
          "output_type": "execute_result",
          "data": {
            "text/plain": [
              "(232040, 2)"
            ]
          },
          "metadata": {},
          "execution_count": 206
        }
      ]
    },
    {
      "cell_type": "code",
      "metadata": {
        "colab": {
          "base_uri": "https://localhost:8080/"
        },
        "id": "whpxbrRM7VGG",
        "outputId": "38224e59-04e3-4ec7-f502-9c5c1d1e7a45"
      },
      "source": [
        "from sklearn.preprocessing import LabelEncoder\n",
        "lb = LabelEncoder()\n",
        "y = lb.fit_transform(y)\n",
        "y"
      ],
      "execution_count": 207,
      "outputs": [
        {
          "output_type": "execute_result",
          "data": {
            "text/plain": [
              "array([0, 0, 0, ..., 1, 1, 1])"
            ]
          },
          "metadata": {},
          "execution_count": 207
        }
      ]
    },
    {
      "cell_type": "code",
      "metadata": {
        "colab": {
          "base_uri": "https://localhost:8080/"
        },
        "id": "DNLuTNJk9rEm",
        "outputId": "ccb11f50-d3c9-444e-e248-48b99cd90b83"
      },
      "source": [
        "from sklearn.feature_extraction.text import CountVectorizer\n",
        "from nltk.tokenize import RegexpTokenizer\n",
        "token = RegexpTokenizer(r'[a-zA-Z0-9]+')\n",
        "cv = CountVectorizer(lowercase=True,stop_words='english',ngram_range=(1,1), tokenizer = token.tokenize)\n",
        "X = cv.fit_transform(df['text'])\n",
        "X"
      ],
      "execution_count": 208,
      "outputs": [
        {
          "output_type": "execute_result",
          "data": {
            "text/plain": [
              "<232040x158998 sparse matrix of type '<class 'numpy.int64'>'\n",
              "\twith 10139319 stored elements in Compressed Sparse Row format>"
            ]
          },
          "metadata": {},
          "execution_count": 208
        }
      ]
    },
    {
      "cell_type": "code",
      "metadata": {
        "colab": {
          "base_uri": "https://localhost:8080/"
        },
        "id": "ofkQLQEk9z8M",
        "outputId": "3ecf0312-c6db-4d30-a728-c81802409f8c"
      },
      "source": [
        "from sklearn.model_selection import train_test_split\n",
        "X_train, X_test, y_train, y_test = train_test_split(X,y, test_size=0.2)\n",
        "print(X_train.shape)\n",
        "print(X_test.shape)\n",
        "print(y_train.shape)\n",
        "print(y_test.shape)"
      ],
      "execution_count": 209,
      "outputs": [
        {
          "output_type": "stream",
          "text": [
            "(185632, 158998)\n",
            "(46408, 158998)\n",
            "(185632,)\n",
            "(46408,)\n"
          ],
          "name": "stdout"
        }
      ]
    },
    {
      "cell_type": "code",
      "metadata": {
        "id": "KETuN-bFzSPz"
      },
      "source": [
        "from sklearn.preprocessing import StandardScaler\n",
        "sc = StandardScaler(with_mean=False)\n",
        "X_train = sc.fit_transform(X_train)\n",
        "X_test = sc.transform(X_test)"
      ],
      "execution_count": 210,
      "outputs": []
    },
    {
      "cell_type": "code",
      "metadata": {
        "id": "LEK8Jfdp-Ewl"
      },
      "source": [
        "import tensorflow as tf\n",
        "from tensorflow.keras.models import Sequential\n",
        "from tensorflow.keras.layers import Dense, Activation, Dropout"
      ],
      "execution_count": 211,
      "outputs": []
    },
    {
      "cell_type": "code",
      "metadata": {
        "id": "1454DCFn-E2a"
      },
      "source": [
        "model = Sequential()\n",
        "model.add(Dense(units=16,activation='relu', input_shape=(158998,))) \n",
        "model.add(Dropout(0.1))\n",
        "model.add(Dense(units=16,activation='relu'))\n",
        "model.add(Dropout(0.1))\n",
        "model.add(Dense(units=1,activation='sigmoid'))\n",
        "model.compile(loss='binary_crossentropy', optimizer='adam',metrics=['accuracy'])"
      ],
      "execution_count": 212,
      "outputs": []
    },
    {
      "cell_type": "code",
      "metadata": {
        "colab": {
          "base_uri": "https://localhost:8080/"
        },
        "id": "UYcBdCvQduHk",
        "outputId": "2d4b9789-1111-410c-86ac-963be399a4ad"
      },
      "source": [
        "model.fit(x=X_train, y=y_train, epochs=20,batch_size=10000, validation_data=(X_test, y_test), verbose=1)"
      ],
      "execution_count": null,
      "outputs": [
        {
          "name": "stdout",
          "output_type": "stream",
          "text": [
            "Epoch 1/20\n"
          ]
        },
        {
          "name": "stderr",
          "output_type": "stream",
          "text": [
            "/usr/local/lib/python3.7/dist-packages/tensorflow/python/framework/indexed_slices.py:449: UserWarning: Converting sparse IndexedSlices(IndexedSlices(indices=Tensor(\"gradient_tape/sequential/dense/embedding_lookup_sparse/Reshape_1:0\", shape=(None,), dtype=int32), values=Tensor(\"gradient_tape/sequential/dense/embedding_lookup_sparse/Reshape:0\", shape=(None, 16), dtype=float32), dense_shape=Tensor(\"gradient_tape/sequential/dense/embedding_lookup_sparse/Cast:0\", shape=(2,), dtype=int32))) to a dense Tensor of unknown shape. This may consume a large amount of memory.\n",
            "  \"shape. This may consume a large amount of memory.\" % value)\n"
          ]
        },
        {
          "name": "stdout",
          "output_type": "stream",
          "text": [
            "19/19 [==============================] - 4s 142ms/step - loss: 0.5251 - accuracy: 0.7459 - val_loss: 0.3664 - val_accuracy: 0.8916\n",
            "Epoch 2/20\n",
            "19/19 [==============================] - 3s 139ms/step - loss: 0.2679 - accuracy: 0.9248 - val_loss: 0.3116 - val_accuracy: 0.9061\n",
            "Epoch 3/20\n",
            "19/19 [==============================] - 3s 135ms/step - loss: 0.1819 - accuracy: 0.9553 - val_loss: 0.3160 - val_accuracy: 0.9081\n",
            "Epoch 4/20\n",
            "19/19 [==============================] - 3s 137ms/step - loss: 0.1214 - accuracy: 0.9664 - val_loss: 0.3363 - val_accuracy: 0.9090\n",
            "Epoch 5/20\n",
            "19/19 [==============================] - 3s 137ms/step - loss: 0.0969 - accuracy: 0.9725 - val_loss: 0.3610 - val_accuracy: 0.9088\n",
            "Epoch 6/20\n",
            "19/19 [==============================] - 3s 133ms/step - loss: 0.0826 - accuracy: 0.9759 - val_loss: 0.3874 - val_accuracy: 0.9080\n",
            "Epoch 7/20\n",
            "19/19 [==============================] - 3s 133ms/step - loss: 0.0714 - accuracy: 0.9789 - val_loss: 0.4078 - val_accuracy: 0.9074\n",
            "Epoch 8/20\n",
            "19/19 [==============================] - 3s 133ms/step - loss: 0.0635 - accuracy: 0.9811 - val_loss: 0.4377 - val_accuracy: 0.9061\n",
            "Epoch 9/20\n",
            "19/19 [==============================] - 3s 138ms/step - loss: 0.0576 - accuracy: 0.9823 - val_loss: 0.4579 - val_accuracy: 0.9064\n",
            "Epoch 10/20\n",
            "19/19 [==============================] - 3s 137ms/step - loss: 0.0526 - accuracy: 0.9838 - val_loss: 0.4803 - val_accuracy: 0.9069\n",
            "Epoch 11/20\n",
            "19/19 [==============================] - 3s 135ms/step - loss: 0.0481 - accuracy: 0.9851 - val_loss: 0.5078 - val_accuracy: 0.9063\n",
            "Epoch 12/20\n",
            "19/19 [==============================] - 3s 136ms/step - loss: 0.0449 - accuracy: 0.9859 - val_loss: 0.5416 - val_accuracy: 0.9059\n",
            "Epoch 13/20\n",
            "19/19 [==============================] - 3s 135ms/step - loss: 0.0421 - accuracy: 0.9865 - val_loss: 0.5622 - val_accuracy: 0.9056\n",
            "Epoch 14/20\n",
            "19/19 [==============================] - 3s 137ms/step - loss: 0.0394 - accuracy: 0.9872 - val_loss: 0.5840 - val_accuracy: 0.9054\n",
            "Epoch 15/20\n",
            "19/19 [==============================] - 3s 140ms/step - loss: 0.0371 - accuracy: 0.9879 - val_loss: 0.6061 - val_accuracy: 0.9050\n",
            "Epoch 16/20\n",
            "19/19 [==============================] - 3s 138ms/step - loss: 0.0348 - accuracy: 0.9886 - val_loss: 0.6308 - val_accuracy: 0.9049\n",
            "Epoch 17/20\n",
            "19/19 [==============================] - 3s 136ms/step - loss: 0.0330 - accuracy: 0.9893 - val_loss: 0.6494 - val_accuracy: 0.9053\n",
            "Epoch 18/20\n",
            "19/19 [==============================] - 3s 140ms/step - loss: 0.0321 - accuracy: 0.9898 - val_loss: 0.6663 - val_accuracy: 0.9049\n",
            "Epoch 19/20\n",
            "19/19 [==============================] - 3s 139ms/step - loss: 0.0300 - accuracy: 0.9902 - val_loss: 0.6886 - val_accuracy: 0.9047\n",
            "Epoch 20/20\n",
            "19/19 [==============================] - 3s 136ms/step - loss: 0.0292 - accuracy: 0.9904 - val_loss: 0.7122 - val_accuracy: 0.9042\n"
          ]
        },
        {
          "data": {
            "text/plain": [
              "<keras.callbacks.History at 0x7f132101ead0>"
            ]
          },
          "execution_count": 44,
          "metadata": {},
          "output_type": "execute_result"
        }
      ]
    },
    {
      "cell_type": "code",
      "metadata": {
        "colab": {
          "base_uri": "https://localhost:8080/"
        },
        "id": "pyAOWthy90RL",
        "outputId": "4dcff801-20a9-40f7-ece8-03c8b84bce8c"
      },
      "source": [
        "y_pred_m1 = model.predict(X_test)\n",
        "y_pred_m1"
      ],
      "execution_count": null,
      "outputs": [
        {
          "data": {
            "text/plain": [
              "array([[1.0084851e-08],\n",
              "       [1.4418364e-04],\n",
              "       [9.9999875e-01],\n",
              "       ...,\n",
              "       [2.0453334e-04],\n",
              "       [8.3831215e-01],\n",
              "       [9.9962175e-01]], dtype=float32)"
            ]
          },
          "execution_count": 45,
          "metadata": {},
          "output_type": "execute_result"
        }
      ]
    },
    {
      "cell_type": "code",
      "metadata": {
        "colab": {
          "base_uri": "https://localhost:8080/"
        },
        "id": "vyq2zQWW90ny",
        "outputId": "12766107-8537-42e8-c2d7-ea5504d8e77c"
      },
      "source": [
        "y_pred_m1_cls = (model.predict(X_test) > 0.5).astype(\"int32\")\n",
        "y_pred_m1_cls"
      ],
      "execution_count": null,
      "outputs": [
        {
          "data": {
            "text/plain": [
              "array([[0],\n",
              "       [0],\n",
              "       [1],\n",
              "       ...,\n",
              "       [0],\n",
              "       [1],\n",
              "       [1]], dtype=int32)"
            ]
          },
          "execution_count": 52,
          "metadata": {},
          "output_type": "execute_result"
        }
      ]
    },
    {
      "cell_type": "code",
      "metadata": {
        "colab": {
          "base_uri": "https://localhost:8080/"
        },
        "id": "-orL7iUt9rj7",
        "outputId": "574caf0e-f072-4096-c09a-a301f138014e"
      },
      "source": [
        "y_pred = (model.predict(X_test) > 0.5).astype(\"int32\")\n",
        "y_pred"
      ],
      "execution_count": null,
      "outputs": [
        {
          "data": {
            "text/plain": [
              "array([[0],\n",
              "       [0],\n",
              "       [1],\n",
              "       ...,\n",
              "       [0],\n",
              "       [1],\n",
              "       [1]], dtype=int32)"
            ]
          },
          "execution_count": 53,
          "metadata": {},
          "output_type": "execute_result"
        }
      ]
    },
    {
      "cell_type": "code",
      "metadata": {
        "colab": {
          "base_uri": "https://localhost:8080/"
        },
        "id": "hbbExl_wKtkg",
        "outputId": "cf2fa89b-fc3b-4816-db70-2be22dd9dd3d"
      },
      "source": [
        "\n",
        "loss,acc = model.evaluate(X_test,y_test)\n",
        "print('Loss',loss)\n",
        "print('Accuracy',acc)"
      ],
      "execution_count": null,
      "outputs": [
        {
          "name": "stdout",
          "output_type": "stream",
          "text": [
            "1451/1451 [==============================] - 2s 1ms/step - loss: 0.7122 - accuracy: 0.9042\n",
            "Loss 0.7121525406837463\n",
            "Accuracy 0.9041544795036316\n"
          ]
        }
      ]
    },
    {
      "cell_type": "code",
      "metadata": {
        "colab": {
          "base_uri": "https://localhost:8080/"
        },
        "id": "7SSksy03Kuo9",
        "outputId": "ed9052d8-e205-4f91-f279-b205e068d4a2"
      },
      "source": [
        "from sklearn.metrics import confusion_matrix,accuracy_score\n",
        "cm = confusion_matrix(y_test, y_pred)\n",
        "print(cm)"
      ],
      "execution_count": null,
      "outputs": [
        {
          "name": "stdout",
          "output_type": "stream",
          "text": [
            "[[21122  2015]\n",
            " [ 2433 20838]]\n"
          ]
        }
      ]
    },
    {
      "cell_type": "code",
      "metadata": {
        "colab": {
          "base_uri": "https://localhost:8080/",
          "height": 322
        },
        "id": "JtZNJIOsCB5T",
        "outputId": "4e75f459-9be2-4772-9338-ff7d5864d902"
      },
      "source": [
        "from sklearn.metrics import confusion_matrix\n",
        "plt.figure(figsize=(15,5))\n",
        "lr= confusion_matrix(y_test,y_pred)\n",
        "sns.heatmap(lr.T, square=True, annot=True, fmt='d', cbar=False,)\n",
        "plt.show()"
      ],
      "execution_count": null,
      "outputs": [
        {
          "data": {
            "image/png": "[encoded data removed]",
            "text/plain": [
              "<Figure size 1080x360 with 1 Axes>"
            ]
          },
          "metadata": {},
          "output_type": "display_data"
        }
      ]
    },
    {
      "cell_type": "code",
      "metadata": {
        "colab": {
          "base_uri": "https://localhost:8080/",
          "height": 268
        },
        "id": "hj-lw0HXEU-5",
        "outputId": "0b595162-cf16-4add-89dc-9e9d32f55dde"
      },
      "source": [
        "import seaborn as sns\n",
        "sns.heatmap(lr, annot=True)\n",
        "plt.show()"
      ],
      "execution_count": null,
      "outputs": [
        {
          "data": {
            "image/png": "[encoded data removed]",
            "text/plain": [
              "<Figure size 432x288 with 2 Axes>"
            ]
          },
          "metadata": {},
          "output_type": "display_data"
        }
      ]
    },
    {
      "cell_type": "code",
      "metadata": {
        "colab": {
          "base_uri": "https://localhost:8080/"
        },
        "id": "7j9XyRNzLS7p",
        "outputId": "58699448-b212-4176-d96f-a1f62538196d"
      },
      "source": [
        "print(accuracy_score(y_test, y_pred))"
      ],
      "execution_count": null,
      "outputs": [
        {
          "name": "stdout",
          "output_type": "stream",
          "text": [
            "0.9041544561282537\n"
          ]
        }
      ]
    },
    {
      "cell_type": "code",
      "metadata": {
        "colab": {
          "base_uri": "https://localhost:8080/"
        },
        "id": "dTr61KZnLTT3",
        "outputId": "739bbb4f-6476-4752-b718-5a52d54e4185"
      },
      "source": [
        "loss,acc = model.evaluate(X_test, y_test)\n",
        "print('Loss is',loss)\n",
        "print('Accuracy is',acc)"
      ],
      "execution_count": null,
      "outputs": [
        {
          "name": "stdout",
          "output_type": "stream",
          "text": [
            "1451/1451 [==============================] - 2s 1ms/step - loss: 0.7122 - accuracy: 0.9042\n",
            "Loss is 0.7121525406837463\n",
            "Accuracy is 0.9041544795036316\n"
          ]
        }
      ]
    },
    {
      "cell_type": "code",
      "metadata": {
        "id": "IIgZhUUbLUOL"
      },
      "source": [
        "from sklearn.metrics import classification_report"
      ],
      "execution_count": null,
      "outputs": []
    },
    {
      "cell_type": "code",
      "metadata": {
        "colab": {
          "base_uri": "https://localhost:8080/"
        },
        "id": "IZlzPUbNMGMb",
        "outputId": "c561249a-7f08-4b9a-bc80-d3525f9bc633"
      },
      "source": [
        "print(classification_report(y_test,y_pred))"
      ],
      "execution_count": null,
      "outputs": [
        {
          "name": "stdout",
          "output_type": "stream",
          "text": [
            "              precision    recall  f1-score   support\n",
            "\n",
            "           0       0.90      0.91      0.90     23137\n",
            "           1       0.91      0.90      0.90     23271\n",
            "\n",
            "    accuracy                           0.90     46408\n",
            "   macro avg       0.90      0.90      0.90     46408\n",
            "weighted avg       0.90      0.90      0.90     46408\n",
            "\n"
          ]
        }
      ]
    },
    {
      "cell_type": "markdown",
      "metadata": {
        "id": "EsNPsVSRryIO"
      },
      "source": [
        "## [TfidfVectorizer] Term Frequency-Inverse Document Frequency\n",
        "#### 1. Multinomial Naive Bayes, 2. Logistic Regression, 3. Random Forest Classifier, 4. Decision Tree, "
      ]
    },
    {
      "cell_type": "code",
      "metadata": {
        "colab": {
          "base_uri": "https://localhost:8080/"
        },
        "id": "y87SJmOdNNc9",
        "outputId": "30499424-d818-4273-8e33-42bcc9b49ad7"
      },
      "source": [
        "df.shape"
      ],
      "execution_count": 213,
      "outputs": [
        {
          "output_type": "execute_result",
          "data": {
            "text/plain": [
              "(232040, 2)"
            ]
          },
          "metadata": {},
          "execution_count": 213
        }
      ]
    },
    {
      "cell_type": "code",
      "metadata": {
        "colab": {
          "base_uri": "https://localhost:8080/"
        },
        "id": "nXcRhGuJryIP",
        "outputId": "4becd734-2923-4ce4-b9ab-cd6f94b679eb"
      },
      "source": [
        "r=df\n",
        "from sklearn.feature_extraction.text import TfidfVectorizer\n",
        "tf=TfidfVectorizer()\n",
        "X=tf.fit_transform(r['text'])\n",
        "X"
      ],
      "execution_count": 214,
      "outputs": [
        {
          "output_type": "execute_result",
          "data": {
            "text/plain": [
              "<232040x177644 sparse matrix of type '<class 'numpy.float64'>'\n",
              "\twith 16527477 stored elements in Compressed Sparse Row format>"
            ]
          },
          "metadata": {},
          "execution_count": 214
        }
      ]
    },
    {
      "cell_type": "code",
      "metadata": {
        "colab": {
          "base_uri": "https://localhost:8080/"
        },
        "id": "TtaOKUdR15OT",
        "outputId": "30164bcf-8c24-43b5-91d8-26e51b8502d6"
      },
      "source": [
        "y=df['class']\n",
        "y"
      ],
      "execution_count": 215,
      "outputs": [
        {
          "output_type": "execute_result",
          "data": {
            "text/plain": [
              "1         non-suicide\n",
              "2         non-suicide\n",
              "8         non-suicide\n",
              "15        non-suicide\n",
              "17        non-suicide\n",
              "             ...     \n",
              "233324        suicide\n",
              "233325        suicide\n",
              "233329        suicide\n",
              "233330        suicide\n",
              "233335        suicide\n",
              "Name: class, Length: 232040, dtype: object"
            ]
          },
          "metadata": {},
          "execution_count": 215
        }
      ]
    },
    {
      "cell_type": "code",
      "metadata": {
        "id": "6BHNtdx1ryIQ"
      },
      "source": [
        "from sklearn.model_selection import train_test_split\n",
        "x_train, x_test, y_train, y_test = train_test_split(X,y, test_size=0.2, random_state=123)"
      ],
      "execution_count": 216,
      "outputs": []
    },
    {
      "cell_type": "code",
      "metadata": {
        "colab": {
          "base_uri": "https://localhost:8080/"
        },
        "id": "aiw6NzBlryIS",
        "outputId": "ee7f4566-5531-4593-f9dd-aa263d16d80b"
      },
      "source": [
        "print(x_train.shape)\n",
        "print(x_test.shape)\n",
        "print(y_train.shape)\n",
        "print(y_test.shape)"
      ],
      "execution_count": 217,
      "outputs": [
        {
          "output_type": "stream",
          "text": [
            "(185632, 177644)\n",
            "(46408, 177644)\n",
            "(185632,)\n",
            "(46408,)\n"
          ],
          "name": "stdout"
        }
      ]
    },
    {
      "cell_type": "code",
      "metadata": {
        "id": "FGfLKTZ4ryIU"
      },
      "source": [
        "from sklearn.metrics import confusion_matrix\n",
        "from sklearn.metrics import classification_report\n",
        "from sklearn.metrics import accuracy_score"
      ],
      "execution_count": 218,
      "outputs": []
    },
    {
      "cell_type": "markdown",
      "metadata": {
        "id": "OsuEaCA8ryIV"
      },
      "source": [
        "### 1. Multinomial Naive Bayes"
      ]
    },
    {
      "cell_type": "code",
      "metadata": {
        "colab": {
          "base_uri": "https://localhost:8080/"
        },
        "id": "FRCl4F60ryIW",
        "outputId": "b2d564f5-aab8-4475-f2f3-ca8ca329204b"
      },
      "source": [
        "from sklearn.naive_bayes import MultinomialNB\n",
        "from sklearn import metrics\n",
        "nb= MultinomialNB().fit(x_train,y_train)\n",
        "nb"
      ],
      "execution_count": null,
      "outputs": [
        {
          "data": {
            "text/plain": [
              "MultinomialNB(alpha=1.0, class_prior=None, fit_prior=True)"
            ]
          },
          "execution_count": 73,
          "metadata": {},
          "output_type": "execute_result"
        }
      ]
    },
    {
      "cell_type": "code",
      "metadata": {
        "colab": {
          "base_uri": "https://localhost:8080/"
        },
        "id": "nLH8nqSNryIX",
        "outputId": "0f6976da-d443-4eb4-b0a1-dc4fbb02cd2d"
      },
      "source": [
        "nb.score(x_train,y_train)"
      ],
      "execution_count": null,
      "outputs": [
        {
          "data": {
            "text/plain": [
              "0.8901213152904671"
            ]
          },
          "execution_count": 48,
          "metadata": {
            "tags": []
          },
          "output_type": "execute_result"
        }
      ]
    },
    {
      "cell_type": "code",
      "metadata": {
        "colab": {
          "base_uri": "https://localhost:8080/"
        },
        "id": "hseMubMdryIY",
        "outputId": "89d2cbc5-3f1b-4bb6-9d1d-b44fd7f468b9"
      },
      "source": [
        "nb.score(x_test,y_test)"
      ],
      "execution_count": null,
      "outputs": [
        {
          "data": {
            "text/plain": [
              "0.8800637821065334"
            ]
          },
          "execution_count": 49,
          "metadata": {
            "tags": []
          },
          "output_type": "execute_result"
        }
      ]
    },
    {
      "cell_type": "code",
      "metadata": {
        "colab": {
          "base_uri": "https://localhost:8080/"
        },
        "id": "qoiwbwdpryIa",
        "outputId": "62d28c2c-35c4-4763-def1-eacf25204713"
      },
      "source": [
        "y_pred_nb= nb.predict(x_test)\n",
        "print(len(y_pred_nb))\n",
        "y_pred_nb"
      ],
      "execution_count": null,
      "outputs": [
        {
          "name": "stdout",
          "output_type": "stream",
          "text": [
            "46408\n"
          ]
        },
        {
          "data": {
            "text/plain": [
              "array(['non-suicide', 'suicide', 'suicide', ..., 'suicide', 'suicide',\n",
              "       'suicide'], dtype='<U11')"
            ]
          },
          "execution_count": 50,
          "metadata": {
            "tags": []
          },
          "output_type": "execute_result"
        }
      ]
    },
    {
      "cell_type": "code",
      "metadata": {
        "colab": {
          "base_uri": "https://localhost:8080/"
        },
        "id": "e17z1YRKryIb",
        "outputId": "2803ec84-9b01-4a93-eaff-c08f6255a309"
      },
      "source": [
        "metrics.accuracy_score(y_test,y_pred_nb)"
      ],
      "execution_count": null,
      "outputs": [
        {
          "data": {
            "text/plain": [
              "0.8800637821065334"
            ]
          },
          "execution_count": 51,
          "metadata": {
            "tags": []
          },
          "output_type": "execute_result"
        }
      ]
    },
    {
      "cell_type": "code",
      "metadata": {
        "colab": {
          "base_uri": "https://localhost:8080/"
        },
        "id": "WbWuweK4ryIc",
        "outputId": "417e0fd3-9d9c-4b22-b3a8-d63d4ea5a91f"
      },
      "source": [
        "print(confusion_matrix (y_test,y_pred_nb))"
      ],
      "execution_count": null,
      "outputs": [
        {
          "name": "stdout",
          "output_type": "stream",
          "text": [
            "[[18202  4972]\n",
            " [  594 22640]]\n"
          ]
        }
      ]
    },
    {
      "cell_type": "code",
      "metadata": {
        "colab": {
          "base_uri": "https://localhost:8080/",
          "height": 322
        },
        "id": "sPsjYkm2ryId",
        "outputId": "dbc50c18-7273-4737-a45b-003612f6d516"
      },
      "source": [
        "from sklearn.metrics import confusion_matrix\n",
        "plt.figure(figsize=(15,5))\n",
        "nb= confusion_matrix(y_test,y_pred_nb)\n",
        "sns.heatmap(nb.T, square=True, annot=True, fmt='d', cbar=False,)\n",
        "plt.show()"
      ],
      "execution_count": null,
      "outputs": [
        {
          "data": {
            "image/png": "[encoded data removed]",
            "text/plain": [
              "<Figure size 1080x360 with 1 Axes>"
            ]
          },
          "metadata": {
            "tags": []
          },
          "output_type": "display_data"
        }
      ]
    },
    {
      "cell_type": "code",
      "metadata": {
        "colab": {
          "base_uri": "https://localhost:8080/",
          "height": 202
        },
        "id": "LNbFliojryIf",
        "outputId": "86888fc9-deaf-4fb7-964d-d02bc8786f52"
      },
      "source": [
        "nb_df=pd.DataFrame({'y_test':y_test,'y_pred_nb':y_pred_nb})\n",
        "nb_df.head()"
      ],
      "execution_count": null,
      "outputs": [
        {
          "data": {
            "text/html": [
              "<div>\n",
              "<style scoped>\n",
              "    .dataframe tbody tr th:only-of-type {\n",
              "        vertical-align: middle;\n",
              "    }\n",
              "\n",
              "    .dataframe tbody tr th {\n",
              "        vertical-align: top;\n",
              "    }\n",
              "\n",
              "    .dataframe thead th {\n",
              "        text-align: right;\n",
              "    }\n",
              "</style>\n",
              "<table border=\"1\" class=\"dataframe\">\n",
              "  <thead>\n",
              "    <tr style=\"text-align: right;\">\n",
              "      <th></th>\n",
              "      <th>y_test</th>\n",
              "      <th>y_pred_nb</th>\n",
              "    </tr>\n",
              "  </thead>\n",
              "  <tbody>\n",
              "    <tr>\n",
              "      <th>44097</th>\n",
              "      <td>non-suicide</td>\n",
              "      <td>non-suicide</td>\n",
              "    </tr>\n",
              "    <tr>\n",
              "      <th>189006</th>\n",
              "      <td>suicide</td>\n",
              "      <td>suicide</td>\n",
              "    </tr>\n",
              "    <tr>\n",
              "      <th>198397</th>\n",
              "      <td>suicide</td>\n",
              "      <td>suicide</td>\n",
              "    </tr>\n",
              "    <tr>\n",
              "      <th>55658</th>\n",
              "      <td>non-suicide</td>\n",
              "      <td>non-suicide</td>\n",
              "    </tr>\n",
              "    <tr>\n",
              "      <th>52875</th>\n",
              "      <td>suicide</td>\n",
              "      <td>suicide</td>\n",
              "    </tr>\n",
              "  </tbody>\n",
              "</table>\n",
              "</div>"
            ],
            "text/plain": [
              "             y_test    y_pred_nb\n",
              "44097   non-suicide  non-suicide\n",
              "189006      suicide      suicide\n",
              "198397      suicide      suicide\n",
              "55658   non-suicide  non-suicide\n",
              "52875       suicide      suicide"
            ]
          },
          "execution_count": 55,
          "metadata": {
            "tags": []
          },
          "output_type": "execute_result"
        }
      ]
    },
    {
      "cell_type": "code",
      "metadata": {
        "colab": {
          "base_uri": "https://localhost:8080/"
        },
        "id": "_rRNy0mZryIg",
        "outputId": "54fec318-4261-4c2c-9699-1547cd003a02"
      },
      "source": [
        "nb_df.groupby(['y_test','y_pred_nb'])['y_pred_nb'].count()  "
      ],
      "execution_count": null,
      "outputs": [
        {
          "data": {
            "text/plain": [
              "y_test       y_pred_nb  \n",
              "non-suicide  non-suicide    18202\n",
              "             suicide         4972\n",
              "suicide      non-suicide      594\n",
              "             suicide        22640\n",
              "Name: y_pred_nb, dtype: int64"
            ]
          },
          "execution_count": 56,
          "metadata": {
            "tags": []
          },
          "output_type": "execute_result"
        }
      ]
    },
    {
      "cell_type": "code",
      "metadata": {
        "colab": {
          "base_uri": "https://localhost:8080/"
        },
        "id": "qfmvceX2ryIh",
        "outputId": "e1774a9f-c521-4644-cc2a-12b7ae751a2c"
      },
      "source": [
        "from sklearn.metrics import classification_report\n",
        "print(classification_report (y_test,y_pred_nb))"
      ],
      "execution_count": null,
      "outputs": [
        {
          "name": "stdout",
          "output_type": "stream",
          "text": [
            "              precision    recall  f1-score   support\n",
            "\n",
            " non-suicide       0.97      0.79      0.87     23174\n",
            "     suicide       0.82      0.97      0.89     23234\n",
            "\n",
            "    accuracy                           0.88     46408\n",
            "   macro avg       0.89      0.88      0.88     46408\n",
            "weighted avg       0.89      0.88      0.88     46408\n",
            "\n"
          ]
        }
      ]
    },
    {
      "cell_type": "code",
      "metadata": {
        "colab": {
          "base_uri": "https://localhost:8080/",
          "height": 407
        },
        "id": "dzKDDx7OryIj",
        "outputId": "79f7f9b1-4067-4cfc-dc46-2c55426385a8"
      },
      "source": [
        "actual_nb=nb_df['y_test'].value_counts()\n",
        "predict_nb=nb_df['y_pred_nb'].value_counts()\n",
        "plt.figure(figsize=(15,5))\n",
        "plt.scatter(actual_nb.index,actual_nb.values,label='Actual data points')\n",
        "plt.plot(actual_nb.index,actual_nb.values,marker='*',color='black',label='Actual data points')\n",
        "plt.plot(predict_nb.index,predict_nb.values,marker='x',color='yellow',label='Predict data points')\n",
        "plt.scatter(predict_nb.index,predict_nb.values,label='Predict data points')\n",
        "plt.bar(actual_nb.index,actual_nb.values,label='Actual data points')\n",
        "plt.bar(predict_nb.index,predict_nb.values,width=0.4,label='Predict data points')\n",
        "plt.legend()\n",
        "plt.title(\"Actual data vs Predict data MultinomialNB on Super imposed Line and Bar Chart\")\n",
        "plt.xlabel('class')\n",
        "plt.ylabel('Count')\n",
        "plt.xticks(rotation=70)\n",
        "plt.grid()\n",
        "plt.show()"
      ],
      "execution_count": null,
      "outputs": [
        {
          "data": {
            "image/png": "[encoded data removed]",
            "text/plain": [
              "<Figure size 1080x360 with 1 Axes>"
            ]
          },
          "metadata": {
            "tags": []
          },
          "output_type": "display_data"
        }
      ]
    },
    {
      "cell_type": "code",
      "metadata": {
        "colab": {
          "base_uri": "https://localhost:8080/"
        },
        "id": "iPKYkrQBryIk",
        "outputId": "a6b50635-0081-4a6c-8fae-c7a1e409d6c6"
      },
      "source": [
        "print(\"MultinomialNB Accuracy:\",metrics.accuracy_score(y_test,y_pred_nb))"
      ],
      "execution_count": null,
      "outputs": [
        {
          "name": "stdout",
          "output_type": "stream",
          "text": [
            "MultinomialNB Accuracy: 0.8800637821065334\n"
          ]
        }
      ]
    },
    {
      "cell_type": "markdown",
      "metadata": {
        "id": "3eIXpHZ3ryIl"
      },
      "source": [
        "### 2. Classification (Logistic Regression)"
      ]
    },
    {
      "cell_type": "code",
      "metadata": {
        "colab": {
          "base_uri": "https://localhost:8080/"
        },
        "id": "IRxjoruGryIm",
        "outputId": "a66e5c1e-c1cf-4585-c3bd-cb0436223cfa"
      },
      "source": [
        "from sklearn.linear_model import LogisticRegression\n",
        "lr =LogisticRegression()\n",
        "lr.fit(x_train,y_train)"
      ],
      "execution_count": null,
      "outputs": [
        {
          "name": "stderr",
          "output_type": "stream",
          "text": [
            "/usr/local/lib/python3.7/dist-packages/sklearn/linear_model/_logistic.py:940: ConvergenceWarning: lbfgs failed to converge (status=1):\n",
            "STOP: TOTAL NO. of ITERATIONS REACHED LIMIT.\n",
            "\n",
            "Increase the number of iterations (max_iter) or scale the data as shown in:\n",
            "    https://scikit-learn.org/stable/modules/preprocessing.html\n",
            "Please also refer to the documentation for alternative solver options:\n",
            "    https://scikit-learn.org/stable/modules/linear_model.html#logistic-regression\n",
            "  extra_warning_msg=_LOGISTIC_SOLVER_CONVERGENCE_MSG)\n"
          ]
        },
        {
          "data": {
            "text/plain": [
              "LogisticRegression(C=1.0, class_weight=None, dual=False, fit_intercept=True,\n",
              "                   intercept_scaling=1, l1_ratio=None, max_iter=100,\n",
              "                   multi_class='auto', n_jobs=None, penalty='l2',\n",
              "                   random_state=None, solver='lbfgs', tol=0.0001, verbose=0,\n",
              "                   warm_start=False)"
            ]
          },
          "execution_count": 59,
          "metadata": {
            "tags": []
          },
          "output_type": "execute_result"
        }
      ]
    },
    {
      "cell_type": "code",
      "metadata": {
        "colab": {
          "base_uri": "https://localhost:8080/"
        },
        "id": "9-_WCyWWryIn",
        "outputId": "2e2e9abf-d039-4ab2-aa18-dea99dddbbae"
      },
      "source": [
        "lr.score(x_train,y_train)"
      ],
      "execution_count": null,
      "outputs": [
        {
          "data": {
            "text/plain": [
              "0.9456666953973453"
            ]
          },
          "execution_count": 69,
          "metadata": {
            "tags": []
          },
          "output_type": "execute_result"
        }
      ]
    },
    {
      "cell_type": "code",
      "metadata": {
        "colab": {
          "base_uri": "https://localhost:8080/"
        },
        "id": "4AEpCH4qryIp",
        "outputId": "034a0410-2c71-448b-e2e0-5cf77b3881d7"
      },
      "source": [
        "lr.score(x_test,y_test)"
      ],
      "execution_count": null,
      "outputs": [
        {
          "data": {
            "text/plain": [
              "0.9391268746767799"
            ]
          },
          "execution_count": 70,
          "metadata": {
            "tags": []
          },
          "output_type": "execute_result"
        }
      ]
    },
    {
      "cell_type": "code",
      "metadata": {
        "colab": {
          "base_uri": "https://localhost:8080/"
        },
        "id": "zmfRS2n3ryIq",
        "outputId": "9822d7f1-39af-4a04-84fb-675626290bed"
      },
      "source": [
        "y_pred_lr = lr.predict(x_test)\n",
        "len(y_pred_lr),y_pred_lr"
      ],
      "execution_count": null,
      "outputs": [
        {
          "data": {
            "text/plain": [
              "(46408,\n",
              " array(['non-suicide', 'suicide', 'suicide', ..., 'suicide', 'non-suicide',\n",
              "        'suicide'], dtype=object))"
            ]
          },
          "execution_count": 71,
          "metadata": {
            "tags": []
          },
          "output_type": "execute_result"
        }
      ]
    },
    {
      "cell_type": "code",
      "metadata": {
        "colab": {
          "base_uri": "https://localhost:8080/"
        },
        "id": "PvQk8SRCryIr",
        "outputId": "956ae426-c13e-432a-cf69-d3a9643b9142"
      },
      "source": [
        "from sklearn.metrics import confusion_matrix\n",
        "confusion_matrix(y_test,y_pred_lr)"
      ],
      "execution_count": null,
      "outputs": [
        {
          "data": {
            "text/plain": [
              "array([[22021,  1153],\n",
              "       [ 1675, 21559]])"
            ]
          },
          "execution_count": 108,
          "metadata": {
            "tags": []
          },
          "output_type": "execute_result"
        }
      ]
    },
    {
      "cell_type": "code",
      "metadata": {
        "colab": {
          "base_uri": "https://localhost:8080/",
          "height": 322
        },
        "id": "-I9DvkhkryIt",
        "outputId": "74c2759b-c77f-4349-934b-5603d1163ec4"
      },
      "source": [
        "from sklearn.metrics import confusion_matrix\n",
        "plt.figure(figsize=(15,5))\n",
        "lr= confusion_matrix(y_test,y_pred_nb)\n",
        "sns.heatmap(lr.T, square=True, annot=True, fmt='d', cbar=False,)\n",
        "plt.show()"
      ],
      "execution_count": null,
      "outputs": [
        {
          "data": {
            "image/png": "[encoded data removed]",
            "text/plain": [
              "<Figure size 1080x360 with 1 Axes>"
            ]
          },
          "metadata": {
            "tags": []
          },
          "output_type": "display_data"
        }
      ]
    },
    {
      "cell_type": "code",
      "metadata": {
        "colab": {
          "base_uri": "https://localhost:8080/",
          "height": 202
        },
        "id": "wSQeecqyryIu",
        "outputId": "838bace7-e010-484c-bb31-d2855d2b5b70"
      },
      "source": [
        "lr_df=pd.DataFrame({'y_test':y_test,'y_pred_lr':y_pred_lr})\n",
        "lr_df.head()"
      ],
      "execution_count": null,
      "outputs": [
        {
          "data": {
            "text/html": [
              "<div>\n",
              "<style scoped>\n",
              "    .dataframe tbody tr th:only-of-type {\n",
              "        vertical-align: middle;\n",
              "    }\n",
              "\n",
              "    .dataframe tbody tr th {\n",
              "        vertical-align: top;\n",
              "    }\n",
              "\n",
              "    .dataframe thead th {\n",
              "        text-align: right;\n",
              "    }\n",
              "</style>\n",
              "<table border=\"1\" class=\"dataframe\">\n",
              "  <thead>\n",
              "    <tr style=\"text-align: right;\">\n",
              "      <th></th>\n",
              "      <th>y_test</th>\n",
              "      <th>y_pred_lr</th>\n",
              "    </tr>\n",
              "  </thead>\n",
              "  <tbody>\n",
              "    <tr>\n",
              "      <th>44097</th>\n",
              "      <td>non-suicide</td>\n",
              "      <td>non-suicide</td>\n",
              "    </tr>\n",
              "    <tr>\n",
              "      <th>189006</th>\n",
              "      <td>suicide</td>\n",
              "      <td>suicide</td>\n",
              "    </tr>\n",
              "    <tr>\n",
              "      <th>198397</th>\n",
              "      <td>suicide</td>\n",
              "      <td>suicide</td>\n",
              "    </tr>\n",
              "    <tr>\n",
              "      <th>55658</th>\n",
              "      <td>non-suicide</td>\n",
              "      <td>non-suicide</td>\n",
              "    </tr>\n",
              "    <tr>\n",
              "      <th>52875</th>\n",
              "      <td>suicide</td>\n",
              "      <td>suicide</td>\n",
              "    </tr>\n",
              "  </tbody>\n",
              "</table>\n",
              "</div>"
            ],
            "text/plain": [
              "             y_test    y_pred_lr\n",
              "44097   non-suicide  non-suicide\n",
              "189006      suicide      suicide\n",
              "198397      suicide      suicide\n",
              "55658   non-suicide  non-suicide\n",
              "52875       suicide      suicide"
            ]
          },
          "execution_count": 74,
          "metadata": {
            "tags": []
          },
          "output_type": "execute_result"
        }
      ]
    },
    {
      "cell_type": "code",
      "metadata": {
        "colab": {
          "base_uri": "https://localhost:8080/"
        },
        "id": "DRJSHJ8uryIv",
        "outputId": "2651d273-843f-4550-a10c-75eb885c7fd6"
      },
      "source": [
        "lr_df.groupby(['y_test','y_pred_lr'])['y_pred_lr'].count()"
      ],
      "execution_count": null,
      "outputs": [
        {
          "data": {
            "text/plain": [
              "y_test       y_pred_lr  \n",
              "non-suicide  non-suicide    22023\n",
              "             suicide         1151\n",
              "suicide      non-suicide     1674\n",
              "             suicide        21560\n",
              "Name: y_pred_lr, dtype: int64"
            ]
          },
          "execution_count": 75,
          "metadata": {
            "tags": []
          },
          "output_type": "execute_result"
        }
      ]
    },
    {
      "cell_type": "code",
      "metadata": {
        "colab": {
          "base_uri": "https://localhost:8080/"
        },
        "id": "ztRmTm6aryIw",
        "outputId": "1de8d183-21be-445d-e41a-e1fbcae864e0"
      },
      "source": [
        "from sklearn.metrics import classification_report\n",
        "print(classification_report (y_test,y_pred_lr))"
      ],
      "execution_count": null,
      "outputs": [
        {
          "name": "stdout",
          "output_type": "stream",
          "text": [
            "              precision    recall  f1-score   support\n",
            "\n",
            " non-suicide       0.93      0.95      0.94     23174\n",
            "     suicide       0.95      0.93      0.94     23234\n",
            "\n",
            "    accuracy                           0.94     46408\n",
            "   macro avg       0.94      0.94      0.94     46408\n",
            "weighted avg       0.94      0.94      0.94     46408\n",
            "\n"
          ]
        }
      ]
    },
    {
      "cell_type": "code",
      "metadata": {
        "colab": {
          "base_uri": "https://localhost:8080/",
          "height": 407
        },
        "id": "AcXGjEz2ryIx",
        "outputId": "d5748b03-c691-4584-d5f7-0241691e6526"
      },
      "source": [
        "actual_nb=lr_df['y_test'].value_counts()\n",
        "predict_nb=lr_df['y_pred_lr'].value_counts()\n",
        "plt.figure(figsize=(15,5))\n",
        "plt.scatter(actual_nb.index,actual_nb.values,label='Actual data points')\n",
        "plt.plot(actual_nb.index,actual_nb.values,marker='*',color='black',label='Actual data points')\n",
        "plt.plot(predict_nb.index,predict_nb.values,marker='x',color='yellow',label='Predict data points')\n",
        "plt.scatter(predict_nb.index,predict_nb.values,label='Predict data points')\n",
        "plt.bar(actual_nb.index,actual_nb.values,label='Actual data points')\n",
        "plt.bar(predict_nb.index,predict_nb.values,width=0.4,label='Predict data points')\n",
        "plt.legend()\n",
        "plt.title(\"Actual data vs Predict data Classification (Logistic Regression) on Super imposed Line and Bar Chart\")\n",
        "plt.xlabel('class')\n",
        "plt.ylabel('Count')\n",
        "plt.xticks(rotation=70)\n",
        "plt.grid()\n",
        "plt.show()"
      ],
      "execution_count": null,
      "outputs": [
        {
          "data": {
            "image/png": "[encoded data removed]",
            "text/plain": [
              "<Figure size 1080x360 with 1 Axes>"
            ]
          },
          "metadata": {
            "tags": []
          },
          "output_type": "display_data"
        }
      ]
    },
    {
      "cell_type": "code",
      "metadata": {
        "colab": {
          "base_uri": "https://localhost:8080/"
        },
        "id": "uU6AfnjQryIz",
        "outputId": "5fefd0eb-a9d2-4f1d-da65-787c13bc595b"
      },
      "source": [
        "metrics.accuracy_score(y_test,y_pred_lr)"
      ],
      "execution_count": null,
      "outputs": [
        {
          "data": {
            "text/plain": [
              "0.9391268746767799"
            ]
          },
          "execution_count": 78,
          "metadata": {
            "tags": []
          },
          "output_type": "execute_result"
        }
      ]
    },
    {
      "cell_type": "markdown",
      "metadata": {
        "id": "hyjoyhpOryI0"
      },
      "source": [
        "### 3. Random  Forest  Classifier  "
      ]
    },
    {
      "cell_type": "code",
      "metadata": {
        "id": "s0ljKZiTryI1"
      },
      "source": [
        "from sklearn.ensemble import RandomForestClassifier"
      ],
      "execution_count": null,
      "outputs": []
    },
    {
      "cell_type": "code",
      "metadata": {
        "id": "KxAwHVaoryI1"
      },
      "source": [
        "rfc = RandomForestClassifier(n_estimators=10,max_depth=5,max_features='sqrt',min_samples_split=20)"
      ],
      "execution_count": null,
      "outputs": []
    },
    {
      "cell_type": "code",
      "metadata": {
        "colab": {
          "base_uri": "https://localhost:8080/"
        },
        "id": "6mmJmhVoryI2",
        "outputId": "f0fc1066-cc2b-4746-df01-08777eb159fd"
      },
      "source": [
        "rfc.fit(x_train,y_train)"
      ],
      "execution_count": null,
      "outputs": [
        {
          "data": {
            "text/plain": [
              "RandomForestClassifier(bootstrap=True, ccp_alpha=0.0, class_weight=None,\n",
              "                       criterion='gini', max_depth=5, max_features='sqrt',\n",
              "                       max_leaf_nodes=None, max_samples=None,\n",
              "                       min_impurity_decrease=0.0, min_impurity_split=None,\n",
              "                       min_samples_leaf=1, min_samples_split=20,\n",
              "                       min_weight_fraction_leaf=0.0, n_estimators=10,\n",
              "                       n_jobs=None, oob_score=False, random_state=None,\n",
              "                       verbose=0, warm_start=False)"
            ]
          },
          "execution_count": 81,
          "metadata": {
            "tags": []
          },
          "output_type": "execute_result"
        }
      ]
    },
    {
      "cell_type": "code",
      "metadata": {
        "colab": {
          "base_uri": "https://localhost:8080/"
        },
        "id": "7JYcdwYKryI5",
        "outputId": "f84ffe52-63c6-46f9-f7a6-9c7f1dfcefb3"
      },
      "source": [
        "rfc.score(x_test,y_test)"
      ],
      "execution_count": null,
      "outputs": [
        {
          "data": {
            "text/plain": [
              "0.7541587657300466"
            ]
          },
          "execution_count": 82,
          "metadata": {
            "tags": []
          },
          "output_type": "execute_result"
        }
      ]
    },
    {
      "cell_type": "code",
      "metadata": {
        "colab": {
          "base_uri": "https://localhost:8080/"
        },
        "id": "1rwhxi-EryI6",
        "outputId": "c5f51b55-0701-441b-8340-8b2aa3a112e8"
      },
      "source": [
        "rfc.score(x_train,y_train)"
      ],
      "execution_count": null,
      "outputs": [
        {
          "data": {
            "text/plain": [
              "0.7550583951042924"
            ]
          },
          "execution_count": 83,
          "metadata": {
            "tags": []
          },
          "output_type": "execute_result"
        }
      ]
    },
    {
      "cell_type": "code",
      "metadata": {
        "colab": {
          "base_uri": "https://localhost:8080/"
        },
        "id": "nlinZKwNryI7",
        "outputId": "ab07dbce-f51e-451b-f6b5-523e9176c0cb"
      },
      "source": [
        "y_pred_rfc = rfc.predict(x_test)\n",
        "y_pred_rfc"
      ],
      "execution_count": null,
      "outputs": [
        {
          "data": {
            "text/plain": [
              "array(['non-suicide', 'suicide', 'suicide', ..., 'non-suicide',\n",
              "       'non-suicide', 'suicide'], dtype=object)"
            ]
          },
          "execution_count": 84,
          "metadata": {
            "tags": []
          },
          "output_type": "execute_result"
        }
      ]
    },
    {
      "cell_type": "code",
      "metadata": {
        "colab": {
          "base_uri": "https://localhost:8080/"
        },
        "id": "MdT2eweUryI8",
        "outputId": "26d32fc7-5a74-4238-b588-542bc9b4991b"
      },
      "source": [
        "metrics.accuracy_score(y_test,y_pred_rfc)"
      ],
      "execution_count": null,
      "outputs": [
        {
          "data": {
            "text/plain": [
              "0.7541587657300466"
            ]
          },
          "execution_count": 85,
          "metadata": {
            "tags": []
          },
          "output_type": "execute_result"
        }
      ]
    },
    {
      "cell_type": "code",
      "metadata": {
        "colab": {
          "base_uri": "https://localhost:8080/"
        },
        "id": "43scT6L3ryI9",
        "outputId": "ead13eee-4745-4dd0-d1be-c78b2a899717"
      },
      "source": [
        "confusion_matrix(y_test,y_pred_rfc)"
      ],
      "execution_count": null,
      "outputs": [
        {
          "data": {
            "text/plain": [
              "array([[19315,  3859],\n",
              "       [ 7550, 15684]])"
            ]
          },
          "execution_count": 86,
          "metadata": {
            "tags": []
          },
          "output_type": "execute_result"
        }
      ]
    },
    {
      "cell_type": "code",
      "metadata": {
        "colab": {
          "base_uri": "https://localhost:8080/",
          "height": 322
        },
        "id": "M9MhLjlkryI-",
        "outputId": "f57398e0-90eb-4a27-d8b9-89b09c08fb09"
      },
      "source": [
        "from sklearn.metrics import confusion_matrix\n",
        "plt.figure(figsize=(15,5))\n",
        "rfc= confusion_matrix(y_test,y_pred_nb)\n",
        "sns.heatmap(rfc.T, square=True, annot=True, fmt='d', cbar=False,)\n",
        "plt.show()"
      ],
      "execution_count": null,
      "outputs": [
        {
          "data": {
            "image/png": "[encoded data removed]",
            "text/plain": [
              "<Figure size 1080x360 with 1 Axes>"
            ]
          },
          "metadata": {
            "tags": []
          },
          "output_type": "display_data"
        }
      ]
    },
    {
      "cell_type": "code",
      "metadata": {
        "colab": {
          "base_uri": "https://localhost:8080/",
          "height": 202
        },
        "id": "MOyISisXryJA",
        "outputId": "21fbe5eb-5827-41ec-fa33-2d8742f657d7"
      },
      "source": [
        "rfc_df=pd.DataFrame({'y_test':y_test,'y_pred_rfc':y_pred_rfc})\n",
        "rfc_df.head()"
      ],
      "execution_count": null,
      "outputs": [
        {
          "data": {
            "text/html": [
              "<div>\n",
              "<style scoped>\n",
              "    .dataframe tbody tr th:only-of-type {\n",
              "        vertical-align: middle;\n",
              "    }\n",
              "\n",
              "    .dataframe tbody tr th {\n",
              "        vertical-align: top;\n",
              "    }\n",
              "\n",
              "    .dataframe thead th {\n",
              "        text-align: right;\n",
              "    }\n",
              "</style>\n",
              "<table border=\"1\" class=\"dataframe\">\n",
              "  <thead>\n",
              "    <tr style=\"text-align: right;\">\n",
              "      <th></th>\n",
              "      <th>y_test</th>\n",
              "      <th>y_pred_rfc</th>\n",
              "    </tr>\n",
              "  </thead>\n",
              "  <tbody>\n",
              "    <tr>\n",
              "      <th>44097</th>\n",
              "      <td>non-suicide</td>\n",
              "      <td>non-suicide</td>\n",
              "    </tr>\n",
              "    <tr>\n",
              "      <th>189006</th>\n",
              "      <td>suicide</td>\n",
              "      <td>suicide</td>\n",
              "    </tr>\n",
              "    <tr>\n",
              "      <th>198397</th>\n",
              "      <td>suicide</td>\n",
              "      <td>suicide</td>\n",
              "    </tr>\n",
              "    <tr>\n",
              "      <th>55658</th>\n",
              "      <td>non-suicide</td>\n",
              "      <td>non-suicide</td>\n",
              "    </tr>\n",
              "    <tr>\n",
              "      <th>52875</th>\n",
              "      <td>suicide</td>\n",
              "      <td>suicide</td>\n",
              "    </tr>\n",
              "  </tbody>\n",
              "</table>\n",
              "</div>"
            ],
            "text/plain": [
              "             y_test   y_pred_rfc\n",
              "44097   non-suicide  non-suicide\n",
              "189006      suicide      suicide\n",
              "198397      suicide      suicide\n",
              "55658   non-suicide  non-suicide\n",
              "52875       suicide      suicide"
            ]
          },
          "execution_count": 88,
          "metadata": {
            "tags": []
          },
          "output_type": "execute_result"
        }
      ]
    },
    {
      "cell_type": "code",
      "metadata": {
        "colab": {
          "base_uri": "https://localhost:8080/"
        },
        "id": "uYwxQIgGryJB",
        "outputId": "8f27c9a6-08d4-482e-a533-23d2384cc41e"
      },
      "source": [
        "rfc_df.groupby(['y_test','y_pred_rfc'])['y_pred_rfc'].count()"
      ],
      "execution_count": null,
      "outputs": [
        {
          "data": {
            "text/plain": [
              "y_test       y_pred_rfc \n",
              "non-suicide  non-suicide    19315\n",
              "             suicide         3859\n",
              "suicide      non-suicide     7550\n",
              "             suicide        15684\n",
              "Name: y_pred_rfc, dtype: int64"
            ]
          },
          "execution_count": 89,
          "metadata": {
            "tags": []
          },
          "output_type": "execute_result"
        }
      ]
    },
    {
      "cell_type": "code",
      "metadata": {
        "colab": {
          "base_uri": "https://localhost:8080/"
        },
        "id": "0-L2sHVUryJC",
        "outputId": "89a8cde3-9218-4f00-ba06-146a3f784c9a"
      },
      "source": [
        "print(classification_report(y_test,y_pred_rfc))"
      ],
      "execution_count": null,
      "outputs": [
        {
          "name": "stdout",
          "output_type": "stream",
          "text": [
            "              precision    recall  f1-score   support\n",
            "\n",
            " non-suicide       0.72      0.83      0.77     23174\n",
            "     suicide       0.80      0.68      0.73     23234\n",
            "\n",
            "    accuracy                           0.75     46408\n",
            "   macro avg       0.76      0.75      0.75     46408\n",
            "weighted avg       0.76      0.75      0.75     46408\n",
            "\n"
          ]
        }
      ]
    },
    {
      "cell_type": "code",
      "metadata": {
        "colab": {
          "base_uri": "https://localhost:8080/",
          "height": 407
        },
        "id": "d9AABkonryJD",
        "outputId": "3fc3b349-6dbc-43ae-d28a-c9c9491d5236"
      },
      "source": [
        "actual_nb=rfc_df['y_test'].value_counts()\n",
        "predict_nb=rfc_df['y_pred_rfc'].value_counts()\n",
        "plt.figure(figsize=(15,5))\n",
        "plt.scatter(actual_nb.index,actual_nb.values,label='Actual data points')\n",
        "plt.plot(actual_nb.index,actual_nb.values,marker='*',color='black',label='Actual data points')\n",
        "plt.plot(predict_nb.index,predict_nb.values,marker='x',color='yellow',label='Predict data points')\n",
        "plt.scatter(predict_nb.index,predict_nb.values,label='Predict data points')\n",
        "plt.bar(actual_nb.index,actual_nb.values,label='Actual data points')\n",
        "plt.bar(predict_nb.index,predict_nb.values,width=0.4,label='Predict data points')\n",
        "plt.legend()\n",
        "plt.title(\"Actual data vs Predict data Random Forest Classifier on Super imposed Line and Bar Chart\")\n",
        "plt.xlabel('class')\n",
        "plt.ylabel('Count')\n",
        "plt.xticks(rotation=70)\n",
        "plt.grid()\n",
        "plt.show()"
      ],
      "execution_count": null,
      "outputs": [
        {
          "data": {
            "image/png": "[encoded data removed]",
            "text/plain": [
              "<Figure size 1080x360 with 1 Axes>"
            ]
          },
          "metadata": {
            "tags": []
          },
          "output_type": "display_data"
        }
      ]
    },
    {
      "cell_type": "code",
      "metadata": {
        "colab": {
          "base_uri": "https://localhost:8080/"
        },
        "id": "5y8N4eQtryJF",
        "outputId": "c70ef228-d6a2-42ee-aa5b-167833f30342"
      },
      "source": [
        "metrics.accuracy_score(y_test,y_pred_rfc)"
      ],
      "execution_count": null,
      "outputs": [
        {
          "data": {
            "text/plain": [
              "0.7541587657300466"
            ]
          },
          "execution_count": 92,
          "metadata": {
            "tags": []
          },
          "output_type": "execute_result"
        }
      ]
    },
    {
      "cell_type": "markdown",
      "metadata": {
        "id": "z1VjQ2_NryJG"
      },
      "source": [
        "### 4. Decision Tree\n"
      ]
    },
    {
      "cell_type": "code",
      "metadata": {
        "colab": {
          "base_uri": "https://localhost:8080/"
        },
        "id": "604FapREryJH",
        "outputId": "9ff305cf-3e20-4577-872f-5b0ddccda4af"
      },
      "source": [
        "from sklearn.tree import DecisionTreeClassifier\n",
        "dt = DecisionTreeClassifier()\n",
        "dt.fit(x_train,y_train)"
      ],
      "execution_count": 219,
      "outputs": [
        {
          "output_type": "execute_result",
          "data": {
            "text/plain": [
              "DecisionTreeClassifier(ccp_alpha=0.0, class_weight=None, criterion='gini',\n",
              "                       max_depth=None, max_features=None, max_leaf_nodes=None,\n",
              "                       min_impurity_decrease=0.0, min_impurity_split=None,\n",
              "                       min_samples_leaf=1, min_samples_split=2,\n",
              "                       min_weight_fraction_leaf=0.0, presort='deprecated',\n",
              "                       random_state=None, splitter='best')"
            ]
          },
          "metadata": {},
          "execution_count": 219
        }
      ]
    },
    {
      "cell_type": "code",
      "metadata": {
        "colab": {
          "base_uri": "https://localhost:8080/"
        },
        "id": "RigBO8pfryJI",
        "outputId": "60f183a2-ffb4-486d-ebec-990ec630b643"
      },
      "source": [
        "print(dt.score(x_train,y_train))\n",
        "print(dt.score(x_test,y_test))"
      ],
      "execution_count": 221,
      "outputs": [
        {
          "output_type": "stream",
          "text": [
            "0.999973064988795\n",
            "0.8550465436993622\n"
          ],
          "name": "stdout"
        }
      ]
    },
    {
      "cell_type": "code",
      "metadata": {
        "colab": {
          "base_uri": "https://localhost:8080/"
        },
        "id": "EWEDRrvxryJJ",
        "outputId": "07485a77-f529-4f61-fb40-0379c833334b"
      },
      "source": [
        "y_pred_dt = dt.predict(x_test)\n",
        "y_pred_dt"
      ],
      "execution_count": 222,
      "outputs": [
        {
          "output_type": "execute_result",
          "data": {
            "text/plain": [
              "array(['non-suicide', 'suicide', 'suicide', ..., 'suicide', 'suicide',\n",
              "       'suicide'], dtype=object)"
            ]
          },
          "metadata": {},
          "execution_count": 222
        }
      ]
    },
    {
      "cell_type": "code",
      "metadata": {
        "colab": {
          "base_uri": "https://localhost:8080/"
        },
        "id": "24YM8TQAryJK",
        "outputId": "94b96783-6e00-46d0-a80a-321cd36f2164"
      },
      "source": [
        "confusion_matrix(y_test,y_pred_dt)"
      ],
      "execution_count": 223,
      "outputs": [
        {
          "output_type": "execute_result",
          "data": {
            "text/plain": [
              "array([[19902,  3272],\n",
              "       [ 3455, 19779]])"
            ]
          },
          "metadata": {},
          "execution_count": 223
        }
      ]
    },
    {
      "cell_type": "code",
      "metadata": {
        "colab": {
          "base_uri": "https://localhost:8080/",
          "height": 322
        },
        "id": "Afzq879bryJL",
        "outputId": "da7bf0ed-e8d8-45f5-c685-8e095e75496c"
      },
      "source": [
        "from sklearn.metrics import confusion_matrix\n",
        "plt.figure(figsize=(15,5))\n",
        "dt= confusion_matrix(y_test,y_pred_dt)\n",
        "sns.heatmap(dt.T, square=True, annot=True, fmt='d', cbar=False,)\n",
        "plt.show()"
      ],
      "execution_count": 225,
      "outputs": [
        {
          "output_type": "display_data",
          "data": {
            "image/png": "[encoded data removed]",
            "text/plain": [
              "<Figure size 1080x360 with 1 Axes>"
            ]
          },
          "metadata": {}
        }
      ]
    },
    {
      "cell_type": "code",
      "metadata": {
        "colab": {
          "base_uri": "https://localhost:8080/"
        },
        "id": "AYrd9rg3ryJM",
        "outputId": "1700b9c1-8f06-4559-923e-621191480d8b"
      },
      "source": [
        "print(classification_report(y_test,y_pred_dt))"
      ],
      "execution_count": 226,
      "outputs": [
        {
          "output_type": "stream",
          "text": [
            "              precision    recall  f1-score   support\n",
            "\n",
            " non-suicide       0.85      0.86      0.86     23174\n",
            "     suicide       0.86      0.85      0.85     23234\n",
            "\n",
            "    accuracy                           0.86     46408\n",
            "   macro avg       0.86      0.86      0.86     46408\n",
            "weighted avg       0.86      0.86      0.86     46408\n",
            "\n"
          ],
          "name": "stdout"
        }
      ]
    },
    {
      "cell_type": "code",
      "metadata": {
        "colab": {
          "base_uri": "https://localhost:8080/",
          "height": 204
        },
        "id": "HGfJRWKBryJN",
        "outputId": "3daf8f92-d051-4e5d-83ac-b83e0f5b373e"
      },
      "source": [
        "dt_df=pd.DataFrame({'y_test':y_test,'y_pred_dt':y_pred_dt})\n",
        "dt_df.head()"
      ],
      "execution_count": 227,
      "outputs": [
        {
          "output_type": "execute_result",
          "data": {
            "text/html": [
              "<div>\n",
              "<style scoped>\n",
              "    .dataframe tbody tr th:only-of-type {\n",
              "        vertical-align: middle;\n",
              "    }\n",
              "\n",
              "    .dataframe tbody tr th {\n",
              "        vertical-align: top;\n",
              "    }\n",
              "\n",
              "    .dataframe thead th {\n",
              "        text-align: right;\n",
              "    }\n",
              "</style>\n",
              "<table border=\"1\" class=\"dataframe\">\n",
              "  <thead>\n",
              "    <tr style=\"text-align: right;\">\n",
              "      <th></th>\n",
              "      <th>y_test</th>\n",
              "      <th>y_pred_dt</th>\n",
              "    </tr>\n",
              "  </thead>\n",
              "  <tbody>\n",
              "    <tr>\n",
              "      <th>44097</th>\n",
              "      <td>non-suicide</td>\n",
              "      <td>non-suicide</td>\n",
              "    </tr>\n",
              "    <tr>\n",
              "      <th>189006</th>\n",
              "      <td>suicide</td>\n",
              "      <td>suicide</td>\n",
              "    </tr>\n",
              "    <tr>\n",
              "      <th>198397</th>\n",
              "      <td>suicide</td>\n",
              "      <td>suicide</td>\n",
              "    </tr>\n",
              "    <tr>\n",
              "      <th>55658</th>\n",
              "      <td>non-suicide</td>\n",
              "      <td>non-suicide</td>\n",
              "    </tr>\n",
              "    <tr>\n",
              "      <th>52875</th>\n",
              "      <td>suicide</td>\n",
              "      <td>suicide</td>\n",
              "    </tr>\n",
              "  </tbody>\n",
              "</table>\n",
              "</div>"
            ],
            "text/plain": [
              "             y_test    y_pred_dt\n",
              "44097   non-suicide  non-suicide\n",
              "189006      suicide      suicide\n",
              "198397      suicide      suicide\n",
              "55658   non-suicide  non-suicide\n",
              "52875       suicide      suicide"
            ]
          },
          "metadata": {},
          "execution_count": 227
        }
      ]
    },
    {
      "cell_type": "code",
      "metadata": {
        "colab": {
          "base_uri": "https://localhost:8080/"
        },
        "id": "6gmAASPtryJO",
        "outputId": "995fb143-3fcf-4d11-e92e-84fe94b7d0b1"
      },
      "source": [
        "dt_df.groupby(['y_test','y_pred_dt'])['y_pred_dt'].count()"
      ],
      "execution_count": 228,
      "outputs": [
        {
          "output_type": "execute_result",
          "data": {
            "text/plain": [
              "y_test       y_pred_dt  \n",
              "non-suicide  non-suicide    19902\n",
              "             suicide         3272\n",
              "suicide      non-suicide     3455\n",
              "             suicide        19779\n",
              "Name: y_pred_dt, dtype: int64"
            ]
          },
          "metadata": {},
          "execution_count": 228
        }
      ]
    },
    {
      "cell_type": "code",
      "metadata": {
        "colab": {
          "base_uri": "https://localhost:8080/",
          "height": 408
        },
        "id": "uKVAyeCGryJP",
        "outputId": "9b9d8c43-23a1-469b-c50f-a22a8630e027"
      },
      "source": [
        "actual_nb=dt_df['y_test'].value_counts()\n",
        "predict_nb=dt_df['y_pred_dt'].value_counts()\n",
        "plt.figure(figsize=(15,5))\n",
        "plt.scatter(actual_nb.index,actual_nb.values,label='Actual data points')\n",
        "plt.plot(actual_nb.index,actual_nb.values,marker='*',color='black',label='Actual data points')\n",
        "plt.plot(predict_nb.index,predict_nb.values,marker='x',color='yellow',label='Predict data points')\n",
        "plt.scatter(predict_nb.index,predict_nb.values,label='Predict data points')\n",
        "plt.bar(actual_nb.index,actual_nb.values,label='Actual data points')\n",
        "plt.bar(predict_nb.index,predict_nb.values,width=0.4,label='Predict data points')\n",
        "plt.legend()\n",
        "plt.title(\"Actual data vs Predict data Decision Tree on Super imposed Line and Bar Chart\")\n",
        "plt.xlabel('class')\n",
        "plt.ylabel('Count')\n",
        "plt.xticks(rotation=70)\n",
        "plt.grid()\n",
        "plt.show()"
      ],
      "execution_count": 229,
      "outputs": [
        {
          "output_type": "display_data",
          "data": {
            "image/png": "[encoded data removed]",
            "text/plain": [
              "<Figure size 1080x360 with 1 Axes>"
            ]
          },
          "metadata": {}
        }
      ]
    },
    {
      "cell_type": "code",
      "metadata": {
        "colab": {
          "base_uri": "https://localhost:8080/"
        },
        "id": "NrcvSJOGryJR",
        "outputId": "8b7c63c0-7cdf-4185-b0b6-add969329d11"
      },
      "source": [
        "print(accuracy_score(y_test,y_pred_dt))"
      ],
      "execution_count": 230,
      "outputs": [
        {
          "output_type": "stream",
          "text": [
            "0.8550465436993622\n"
          ],
          "name": "stdout"
        }
      ]
    },
    {
      "cell_type": "markdown",
      "metadata": {
        "id": "4BfGw7xiryGY"
      },
      "source": [
        "# CountVectorizer "
      ]
    },
    {
      "cell_type": "code",
      "metadata": {
        "colab": {
          "base_uri": "https://localhost:8080/"
        },
        "id": "A4hMQDXV7aaC",
        "outputId": "87332efb-6198-411b-abbf-7e208e06e8a3"
      },
      "source": [
        "from sklearn.feature_extraction.text import CountVectorizer\n",
        "from nltk.tokenize import RegexpTokenizer\n",
        "token = RegexpTokenizer(r'[a-zA-Z0-9]+')\n",
        "cv = CountVectorizer(lowercase=True,stop_words='english',ngram_range=(1,1), tokenizer = token.tokenize)\n",
        "X = cv.fit_transform(df['text'])\n",
        "X"
      ],
      "execution_count": 231,
      "outputs": [
        {
          "output_type": "execute_result",
          "data": {
            "text/plain": [
              "<232040x158998 sparse matrix of type '<class 'numpy.int64'>'\n",
              "\twith 10139319 stored elements in Compressed Sparse Row format>"
            ]
          },
          "metadata": {},
          "execution_count": 231
        }
      ]
    },
    {
      "cell_type": "code",
      "metadata": {
        "colab": {
          "base_uri": "https://localhost:8080/",
          "height": 111
        },
        "id": "XDmxuWgSiOfD",
        "outputId": "5d4f63c4-16ca-401a-cb0e-7aead8d173fc"
      },
      "source": [
        "df.head(2)"
      ],
      "execution_count": 232,
      "outputs": [
        {
          "output_type": "execute_result",
          "data": {
            "text/html": [
              "<div>\n",
              "<style scoped>\n",
              "    .dataframe tbody tr th:only-of-type {\n",
              "        vertical-align: middle;\n",
              "    }\n",
              "\n",
              "    .dataframe tbody tr th {\n",
              "        vertical-align: top;\n",
              "    }\n",
              "\n",
              "    .dataframe thead th {\n",
              "        text-align: right;\n",
              "    }\n",
              "</style>\n",
              "<table border=\"1\" class=\"dataframe\">\n",
              "  <thead>\n",
              "    <tr style=\"text-align: right;\">\n",
              "      <th></th>\n",
              "      <th>text</th>\n",
              "      <th>class</th>\n",
              "    </tr>\n",
              "  </thead>\n",
              "  <tbody>\n",
              "    <tr>\n",
              "      <th>1</th>\n",
              "      <td>Am I weird I don't get affected by compliments...</td>\n",
              "      <td>non-suicide</td>\n",
              "    </tr>\n",
              "    <tr>\n",
              "      <th>2</th>\n",
              "      <td>Finally 2020 is almost over... So I can never ...</td>\n",
              "      <td>non-suicide</td>\n",
              "    </tr>\n",
              "  </tbody>\n",
              "</table>\n",
              "</div>"
            ],
            "text/plain": [
              "                                                text        class\n",
              "1  Am I weird I don't get affected by compliments...  non-suicide\n",
              "2  Finally 2020 is almost over... So I can never ...  non-suicide"
            ]
          },
          "metadata": {},
          "execution_count": 232
        }
      ]
    },
    {
      "cell_type": "code",
      "metadata": {
        "id": "4-jKfusS8FGB"
      },
      "source": [
        "y=df['class']"
      ],
      "execution_count": 233,
      "outputs": []
    },
    {
      "cell_type": "code",
      "metadata": {
        "id": "DfMfO7CG9eDy"
      },
      "source": [
        "from sklearn.model_selection import train_test_split\n",
        "xx_train, xx_test, yy_train, yy_test = train_test_split(X,y, test_size=0.3, random_state=123)"
      ],
      "execution_count": 234,
      "outputs": []
    },
    {
      "cell_type": "markdown",
      "metadata": {
        "id": "_LfLKAPWryGn"
      },
      "source": [
        "### 1. Multinomial Naive Bayes"
      ]
    },
    {
      "cell_type": "code",
      "metadata": {
        "colab": {
          "base_uri": "https://localhost:8080/"
        },
        "id": "rhnohTCCryGo",
        "outputId": "7f690eb7-722f-4f73-aada-d6d3d5dc9f70"
      },
      "source": [
        "from sklearn.naive_bayes import MultinomialNB\n",
        "from sklearn import metrics\n",
        "nb= MultinomialNB().fit(xx_train,yy_train)\n",
        "nb"
      ],
      "execution_count": null,
      "outputs": [
        {
          "data": {
            "text/plain": [
              "MultinomialNB(alpha=1.0, class_prior=None, fit_prior=True)"
            ]
          },
          "execution_count": 42,
          "metadata": {
            "tags": []
          },
          "output_type": "execute_result"
        }
      ]
    },
    {
      "cell_type": "code",
      "metadata": {
        "colab": {
          "base_uri": "https://localhost:8080/"
        },
        "id": "tpYmnXqrryGp",
        "outputId": "2e35799a-f5f2-4aef-cbc1-d6f9ff7cf2cd"
      },
      "source": [
        "nb.score(xx_train,yy_train)"
      ],
      "execution_count": null,
      "outputs": [
        {
          "data": {
            "text/plain": [
              "0.9022274484694757"
            ]
          },
          "execution_count": 43,
          "metadata": {
            "tags": []
          },
          "output_type": "execute_result"
        }
      ]
    },
    {
      "cell_type": "code",
      "metadata": {
        "colab": {
          "base_uri": "https://localhost:8080/"
        },
        "id": "7OsvQ5qqryGq",
        "outputId": "318b7c4e-f153-464d-b830-d5c143a53771"
      },
      "source": [
        "nb.score(xx_test,yy_test)"
      ],
      "execution_count": null,
      "outputs": [
        {
          "data": {
            "text/plain": [
              "0.8951473883813136"
            ]
          },
          "execution_count": 44,
          "metadata": {
            "tags": []
          },
          "output_type": "execute_result"
        }
      ]
    },
    {
      "cell_type": "code",
      "metadata": {
        "colab": {
          "base_uri": "https://localhost:8080/"
        },
        "id": "UjihGBecryGs",
        "outputId": "1b28cfcf-560d-4313-fd24-3bd9a219e64e"
      },
      "source": [
        "y_pred_nb= nb.predict(xx_test)\n",
        "print(len(y_pred_nb))\n",
        "y_pred_nb"
      ],
      "execution_count": null,
      "outputs": [
        {
          "name": "stdout",
          "output_type": "stream",
          "text": [
            "69612\n"
          ]
        },
        {
          "data": {
            "text/plain": [
              "array(['non-suicide', 'suicide', 'suicide', ..., 'suicide', 'suicide',\n",
              "       'suicide'], dtype='<U11')"
            ]
          },
          "execution_count": 45,
          "metadata": {
            "tags": []
          },
          "output_type": "execute_result"
        }
      ]
    },
    {
      "cell_type": "code",
      "metadata": {
        "colab": {
          "base_uri": "https://localhost:8080/"
        },
        "id": "6ioezU6iryGt",
        "outputId": "a0daecfb-48a1-4616-d747-743727497c9b"
      },
      "source": [
        "metrics.accuracy_score(yy_test,y_pred_nb)"
      ],
      "execution_count": null,
      "outputs": [
        {
          "data": {
            "text/plain": [
              "0.8951473883813136"
            ]
          },
          "execution_count": 46,
          "metadata": {
            "tags": []
          },
          "output_type": "execute_result"
        }
      ]
    },
    {
      "cell_type": "code",
      "metadata": {
        "id": "orG-TKOnTVRD"
      },
      "source": [
        "from sklearn.metrics import classification_report,accuracy_score, confusion_matrix"
      ],
      "execution_count": null,
      "outputs": []
    },
    {
      "cell_type": "code",
      "metadata": {
        "colab": {
          "base_uri": "https://localhost:8080/"
        },
        "id": "PTypfGz0ryGu",
        "outputId": "72f53636-7952-4e77-942a-316fba3aff0f"
      },
      "source": [
        "print(confusion_matrix (yy_test,y_pred_nb))"
      ],
      "execution_count": null,
      "outputs": [
        {
          "name": "stdout",
          "output_type": "stream",
          "text": [
            "[[28953  5896]\n",
            " [ 1403 33360]]\n"
          ]
        }
      ]
    },
    {
      "cell_type": "code",
      "metadata": {
        "colab": {
          "base_uri": "https://localhost:8080/",
          "height": 322
        },
        "id": "yhI24xRMryGw",
        "outputId": "797eb909-a5ec-4eed-8446-611c04c83ef3"
      },
      "source": [
        "from sklearn.metrics import confusion_matrix\n",
        "plt.figure(figsize=(15,5))\n",
        "nb= confusion_matrix(yy_test,y_pred_nb)\n",
        "sns.heatmap(nb.T, square=True, annot=True, fmt='d', cbar=False,)\n",
        "plt.show()"
      ],
      "execution_count": null,
      "outputs": [
        {
          "data": {
            "image/png": "[encoded data removed]",
            "text/plain": [
              "<Figure size 1080x360 with 1 Axes>"
            ]
          },
          "metadata": {
            "tags": []
          },
          "output_type": "display_data"
        }
      ]
    },
    {
      "cell_type": "code",
      "metadata": {
        "colab": {
          "base_uri": "https://localhost:8080/",
          "height": 203
        },
        "id": "yuy8bHLEryGx",
        "outputId": "e891bf8e-7809-49b6-ff79-e34764794f02"
      },
      "source": [
        "nb_df=pd.DataFrame({'yy_test':yy_test,'y_pred_nb':y_pred_nb})\n",
        "nb_df.head()"
      ],
      "execution_count": null,
      "outputs": [
        {
          "data": {
            "text/html": [
              "<div>\n",
              "<style scoped>\n",
              "    .dataframe tbody tr th:only-of-type {\n",
              "        vertical-align: middle;\n",
              "    }\n",
              "\n",
              "    .dataframe tbody tr th {\n",
              "        vertical-align: top;\n",
              "    }\n",
              "\n",
              "    .dataframe thead th {\n",
              "        text-align: right;\n",
              "    }\n",
              "</style>\n",
              "<table border=\"1\" class=\"dataframe\">\n",
              "  <thead>\n",
              "    <tr style=\"text-align: right;\">\n",
              "      <th></th>\n",
              "      <th>yy_test</th>\n",
              "      <th>y_pred_nb</th>\n",
              "    </tr>\n",
              "  </thead>\n",
              "  <tbody>\n",
              "    <tr>\n",
              "      <th>44097</th>\n",
              "      <td>non-suicide</td>\n",
              "      <td>non-suicide</td>\n",
              "    </tr>\n",
              "    <tr>\n",
              "      <th>189006</th>\n",
              "      <td>suicide</td>\n",
              "      <td>suicide</td>\n",
              "    </tr>\n",
              "    <tr>\n",
              "      <th>198397</th>\n",
              "      <td>suicide</td>\n",
              "      <td>suicide</td>\n",
              "    </tr>\n",
              "    <tr>\n",
              "      <th>55658</th>\n",
              "      <td>non-suicide</td>\n",
              "      <td>non-suicide</td>\n",
              "    </tr>\n",
              "    <tr>\n",
              "      <th>52875</th>\n",
              "      <td>suicide</td>\n",
              "      <td>suicide</td>\n",
              "    </tr>\n",
              "  </tbody>\n",
              "</table>\n",
              "</div>"
            ],
            "text/plain": [
              "            yy_test    y_pred_nb\n",
              "44097   non-suicide  non-suicide\n",
              "189006      suicide      suicide\n",
              "198397      suicide      suicide\n",
              "55658   non-suicide  non-suicide\n",
              "52875       suicide      suicide"
            ]
          },
          "execution_count": 51,
          "metadata": {
            "tags": []
          },
          "output_type": "execute_result"
        }
      ]
    },
    {
      "cell_type": "code",
      "metadata": {
        "colab": {
          "base_uri": "https://localhost:8080/"
        },
        "id": "5pyxo2ZnryGy",
        "outputId": "1747f5d2-817c-4ee9-ab44-c5af6100eb52"
      },
      "source": [
        "nb_df.groupby(['yy_test','y_pred_nb'])['y_pred_nb'].count()   # difference between actual and Predicted"
      ],
      "execution_count": null,
      "outputs": [
        {
          "data": {
            "text/plain": [
              "yy_test      y_pred_nb  \n",
              "non-suicide  non-suicide    28953\n",
              "             suicide         5896\n",
              "suicide      non-suicide     1403\n",
              "             suicide        33360\n",
              "Name: y_pred_nb, dtype: int64"
            ]
          },
          "execution_count": 52,
          "metadata": {
            "tags": []
          },
          "output_type": "execute_result"
        }
      ]
    },
    {
      "cell_type": "code",
      "metadata": {
        "colab": {
          "base_uri": "https://localhost:8080/"
        },
        "id": "u_bCvZtEryG0",
        "outputId": "8954e4d7-b236-40df-eeae-362e2029f6d8"
      },
      "source": [
        "from sklearn.metrics import classification_report\n",
        "print(classification_report (yy_test,y_pred_nb))"
      ],
      "execution_count": null,
      "outputs": [
        {
          "name": "stdout",
          "output_type": "stream",
          "text": [
            "              precision    recall  f1-score   support\n",
            "\n",
            " non-suicide       0.95      0.83      0.89     34849\n",
            "     suicide       0.85      0.96      0.90     34763\n",
            "\n",
            "    accuracy                           0.90     69612\n",
            "   macro avg       0.90      0.90      0.89     69612\n",
            "weighted avg       0.90      0.90      0.89     69612\n",
            "\n"
          ]
        }
      ]
    },
    {
      "cell_type": "code",
      "metadata": {
        "colab": {
          "base_uri": "https://localhost:8080/",
          "height": 404
        },
        "id": "XhWo7nokryG1",
        "outputId": "840f98e7-eda4-4cb4-ad37-95d7e83cd014"
      },
      "source": [
        "actual_nb=nb_df['yy_test'].value_counts()\n",
        "predict_nb=nb_df['y_pred_nb'].value_counts()\n",
        "plt.figure(figsize=(15,5))\n",
        "plt.scatter(actual_nb.index,actual_nb.values,label='Actual data points')\n",
        "plt.plot(actual_nb.index,actual_nb.values,marker='*',color='black',label='Actual data points')\n",
        "plt.plot(predict_nb.index,predict_nb.values,marker='x',color='yellow',label='Predict data points')\n",
        "plt.scatter(predict_nb.index,predict_nb.values,label='Predict data points')\n",
        "plt.bar(actual_nb.index,actual_nb.values,label='Actual data points')\n",
        "plt.bar(predict_nb.index,predict_nb.values,width=0.4,label='Predict data points')\n",
        "plt.legend()\n",
        "plt.title(\"Actual data vs Predict data Multinomial Naive Bayes on Super imposed Line and Bar Chart\")\n",
        "plt.xlabel('Class')\n",
        "plt.ylabel('Count')\n",
        "plt.xticks(rotation=70)\n",
        "plt.grid()\n",
        "plt.show()"
      ],
      "execution_count": null,
      "outputs": [
        {
          "data": {
            "image/png": "[encoded data removed]",
            "text/plain": [
              "<Figure size 1080x360 with 1 Axes>"
            ]
          },
          "metadata": {
            "tags": []
          },
          "output_type": "display_data"
        }
      ]
    },
    {
      "cell_type": "code",
      "metadata": {
        "colab": {
          "base_uri": "https://localhost:8080/"
        },
        "id": "3ZhRxfTVryG3",
        "outputId": "821b04b9-b5ba-4e04-ff5e-cc3454b3baa2"
      },
      "source": [
        "print(\"MultinomialNB Accuracy:\",metrics.accuracy_score(yy_test,y_pred_nb))"
      ],
      "execution_count": null,
      "outputs": [
        {
          "name": "stdout",
          "output_type": "stream",
          "text": [
            "MultinomialNB Accuracy: 0.8951473883813136\n"
          ]
        }
      ]
    },
    {
      "cell_type": "markdown",
      "metadata": {
        "id": "SJzp60pGryG_"
      },
      "source": [
        "### 2. Logistic Regression\n"
      ]
    },
    {
      "cell_type": "code",
      "metadata": {
        "colab": {
          "base_uri": "https://localhost:8080/"
        },
        "id": "HLWOsTIFryHA",
        "outputId": "2097efaa-bb41-4d02-c496-5640ff6419cb"
      },
      "source": [
        "from sklearn.linear_model import LogisticRegression\n",
        "lr =LogisticRegression()\n",
        "lr.fit(xx_train,yy_train)"
      ],
      "execution_count": null,
      "outputs": [
        {
          "name": "stderr",
          "output_type": "stream",
          "text": [
            "/usr/local/lib/python3.7/dist-packages/sklearn/linear_model/_logistic.py:940: ConvergenceWarning: lbfgs failed to converge (status=1):\n",
            "STOP: TOTAL NO. of ITERATIONS REACHED LIMIT.\n",
            "\n",
            "Increase the number of iterations (max_iter) or scale the data as shown in:\n",
            "    https://scikit-learn.org/stable/modules/preprocessing.html\n",
            "Please also refer to the documentation for alternative solver options:\n",
            "    https://scikit-learn.org/stable/modules/linear_model.html#logistic-regression\n",
            "  extra_warning_msg=_LOGISTIC_SOLVER_CONVERGENCE_MSG)\n"
          ]
        },
        {
          "data": {
            "text/plain": [
              "LogisticRegression(C=1.0, class_weight=None, dual=False, fit_intercept=True,\n",
              "                   intercept_scaling=1, l1_ratio=None, max_iter=100,\n",
              "                   multi_class='auto', n_jobs=None, penalty='l2',\n",
              "                   random_state=None, solver='lbfgs', tol=0.0001, verbose=0,\n",
              "                   warm_start=False)"
            ]
          },
          "execution_count": 56,
          "metadata": {
            "tags": []
          },
          "output_type": "execute_result"
        }
      ]
    },
    {
      "cell_type": "code",
      "metadata": {
        "colab": {
          "base_uri": "https://localhost:8080/"
        },
        "id": "p7NwhTw8ryHB",
        "outputId": "57b1202a-306e-48b0-fa52-27600a4a84e6"
      },
      "source": [
        "lr.score(xx_train,yy_train)"
      ],
      "execution_count": null,
      "outputs": [
        {
          "data": {
            "text/plain": [
              "0.9492267343068929"
            ]
          },
          "execution_count": 57,
          "metadata": {
            "tags": []
          },
          "output_type": "execute_result"
        }
      ]
    },
    {
      "cell_type": "code",
      "metadata": {
        "colab": {
          "base_uri": "https://localhost:8080/"
        },
        "id": "eW0FMJBQryHC",
        "outputId": "4ebb0099-7f5c-4b97-db7c-ab8f3b45758e"
      },
      "source": [
        "lr.score(xx_test,yy_test)"
      ],
      "execution_count": null,
      "outputs": [
        {
          "data": {
            "text/plain": [
              "0.930155720278113"
            ]
          },
          "execution_count": 58,
          "metadata": {
            "tags": []
          },
          "output_type": "execute_result"
        }
      ]
    },
    {
      "cell_type": "code",
      "metadata": {
        "colab": {
          "base_uri": "https://localhost:8080/"
        },
        "id": "mOMl3UbQryHD",
        "outputId": "7c59b99d-0132-4411-958e-ce98d14430b1"
      },
      "source": [
        "y_pred_lr = lr.predict(xx_test)\n",
        "len(y_pred_lr),y_pred_lr"
      ],
      "execution_count": null,
      "outputs": [
        {
          "data": {
            "text/plain": [
              "(69612, array(['non-suicide', 'suicide', 'suicide', ..., 'suicide', 'suicide',\n",
              "        'suicide'], dtype=object))"
            ]
          },
          "execution_count": 59,
          "metadata": {
            "tags": []
          },
          "output_type": "execute_result"
        }
      ]
    },
    {
      "cell_type": "code",
      "metadata": {
        "colab": {
          "base_uri": "https://localhost:8080/"
        },
        "id": "Vd0O8MCAryHF",
        "outputId": "9d9a0e7f-0fcd-4d80-ce42-562476d6e177"
      },
      "source": [
        "metrics.accuracy_score(yy_test,y_pred_lr)"
      ],
      "execution_count": null,
      "outputs": [
        {
          "data": {
            "text/plain": [
              "0.930155720278113"
            ]
          },
          "execution_count": 60,
          "metadata": {
            "tags": []
          },
          "output_type": "execute_result"
        }
      ]
    },
    {
      "cell_type": "code",
      "metadata": {
        "colab": {
          "base_uri": "https://localhost:8080/"
        },
        "id": "5mxG3MCwryHG",
        "outputId": "5fdbc9f0-2eb5-474f-bc83-a7852c5cc398"
      },
      "source": [
        "from sklearn.metrics import confusion_matrix\n",
        "confusion_matrix(yy_test,y_pred_lr)"
      ],
      "execution_count": null,
      "outputs": [
        {
          "data": {
            "text/plain": [
              "array([[33139,  1710],\n",
              "       [ 3152, 31611]])"
            ]
          },
          "execution_count": 61,
          "metadata": {
            "tags": []
          },
          "output_type": "execute_result"
        }
      ]
    },
    {
      "cell_type": "code",
      "metadata": {
        "colab": {
          "base_uri": "https://localhost:8080/",
          "height": 322
        },
        "id": "TevkuTgLryHH",
        "outputId": "02206739-ec06-46f2-c6b4-bf448d736046"
      },
      "source": [
        "from sklearn.metrics import confusion_matrix\n",
        "plt.figure(figsize=(15,5))\n",
        "lr= confusion_matrix(yy_test,y_pred_nb)\n",
        "sns.heatmap(lr.T, square=True, annot=True, fmt='d', cbar=False,)\n",
        "plt.show()"
      ],
      "execution_count": null,
      "outputs": [
        {
          "data": {
            "image/png": "[encoded data removed]",
            "text/plain": [
              "<Figure size 1080x360 with 1 Axes>"
            ]
          },
          "metadata": {
            "tags": []
          },
          "output_type": "display_data"
        }
      ]
    },
    {
      "cell_type": "code",
      "metadata": {
        "colab": {
          "base_uri": "https://localhost:8080/",
          "height": 203
        },
        "id": "zSgiMblkryHI",
        "outputId": "c7a8d2fa-490c-467e-e5ec-29fc89b7cfa7"
      },
      "source": [
        "lr_df=pd.DataFrame({'yy_test':yy_test,'y_pred_lr':y_pred_lr})\n",
        "lr_df.head()"
      ],
      "execution_count": null,
      "outputs": [
        {
          "data": {
            "text/html": [
              "<div>\n",
              "<style scoped>\n",
              "    .dataframe tbody tr th:only-of-type {\n",
              "        vertical-align: middle;\n",
              "    }\n",
              "\n",
              "    .dataframe tbody tr th {\n",
              "        vertical-align: top;\n",
              "    }\n",
              "\n",
              "    .dataframe thead th {\n",
              "        text-align: right;\n",
              "    }\n",
              "</style>\n",
              "<table border=\"1\" class=\"dataframe\">\n",
              "  <thead>\n",
              "    <tr style=\"text-align: right;\">\n",
              "      <th></th>\n",
              "      <th>yy_test</th>\n",
              "      <th>y_pred_lr</th>\n",
              "    </tr>\n",
              "  </thead>\n",
              "  <tbody>\n",
              "    <tr>\n",
              "      <th>44097</th>\n",
              "      <td>non-suicide</td>\n",
              "      <td>non-suicide</td>\n",
              "    </tr>\n",
              "    <tr>\n",
              "      <th>189006</th>\n",
              "      <td>suicide</td>\n",
              "      <td>suicide</td>\n",
              "    </tr>\n",
              "    <tr>\n",
              "      <th>198397</th>\n",
              "      <td>suicide</td>\n",
              "      <td>suicide</td>\n",
              "    </tr>\n",
              "    <tr>\n",
              "      <th>55658</th>\n",
              "      <td>non-suicide</td>\n",
              "      <td>non-suicide</td>\n",
              "    </tr>\n",
              "    <tr>\n",
              "      <th>52875</th>\n",
              "      <td>suicide</td>\n",
              "      <td>suicide</td>\n",
              "    </tr>\n",
              "  </tbody>\n",
              "</table>\n",
              "</div>"
            ],
            "text/plain": [
              "            yy_test    y_pred_lr\n",
              "44097   non-suicide  non-suicide\n",
              "189006      suicide      suicide\n",
              "198397      suicide      suicide\n",
              "55658   non-suicide  non-suicide\n",
              "52875       suicide      suicide"
            ]
          },
          "execution_count": 63,
          "metadata": {
            "tags": []
          },
          "output_type": "execute_result"
        }
      ]
    },
    {
      "cell_type": "code",
      "metadata": {
        "colab": {
          "base_uri": "https://localhost:8080/"
        },
        "id": "LP71y3CZryHK",
        "outputId": "38de274e-638f-452b-c673-1132871c9372"
      },
      "source": [
        "\n",
        "lr_df.groupby(['yy_test','y_pred_lr'])['y_pred_lr'].count()"
      ],
      "execution_count": null,
      "outputs": [
        {
          "data": {
            "text/plain": [
              "yy_test      y_pred_lr  \n",
              "non-suicide  non-suicide    33139\n",
              "             suicide         1710\n",
              "suicide      non-suicide     3152\n",
              "             suicide        31611\n",
              "Name: y_pred_lr, dtype: int64"
            ]
          },
          "execution_count": 64,
          "metadata": {
            "tags": []
          },
          "output_type": "execute_result"
        }
      ]
    },
    {
      "cell_type": "code",
      "metadata": {
        "colab": {
          "base_uri": "https://localhost:8080/"
        },
        "id": "DYwikkpGryHL",
        "outputId": "8621b6bc-bc34-49a5-ba5e-901e5ec3bc31"
      },
      "source": [
        "from sklearn.metrics import classification_report\n",
        "print(classification_report (yy_test,y_pred_lr))"
      ],
      "execution_count": null,
      "outputs": [
        {
          "name": "stdout",
          "output_type": "stream",
          "text": [
            "              precision    recall  f1-score   support\n",
            "\n",
            " non-suicide       0.91      0.95      0.93     34849\n",
            "     suicide       0.95      0.91      0.93     34763\n",
            "\n",
            "    accuracy                           0.93     69612\n",
            "   macro avg       0.93      0.93      0.93     69612\n",
            "weighted avg       0.93      0.93      0.93     69612\n",
            "\n"
          ]
        }
      ]
    },
    {
      "cell_type": "code",
      "metadata": {
        "colab": {
          "base_uri": "https://localhost:8080/",
          "height": 404
        },
        "id": "3Y68E9WXryHN",
        "outputId": "b2dc057a-ac26-4aab-a1b4-99c9940c4cfa"
      },
      "source": [
        "actual_nb=lr_df['yy_test'].value_counts()\n",
        "predict_nb=lr_df['y_pred_lr'].value_counts()\n",
        "plt.figure(figsize=(15,5))\n",
        "plt.scatter(actual_nb.index,actual_nb.values,label='Actual data points')\n",
        "plt.plot(actual_nb.index,actual_nb.values,marker='*',color='black',label='Actual data points')\n",
        "plt.plot(predict_nb.index,predict_nb.values,marker='x',color='yellow',label='Predict data points')\n",
        "plt.scatter(predict_nb.index,predict_nb.values,label='Predict data points')\n",
        "plt.bar(actual_nb.index,actual_nb.values,label='Actual data points')\n",
        "plt.bar(predict_nb.index,predict_nb.values,width=0.4,label='Predict data points')\n",
        "plt.legend()\n",
        "plt.title(\"Actual data vs Predict data Linear Regression on Super imposed Line and Bar Chart\")\n",
        "plt.xlabel('class')\n",
        "plt.ylabel('Count')\n",
        "plt.xticks(rotation=70)\n",
        "plt.grid()\n",
        "plt.show()"
      ],
      "execution_count": null,
      "outputs": [
        {
          "data": {
            "image/png": "[encoded data removed]",
            "text/plain": [
              "<Figure size 1080x360 with 1 Axes>"
            ]
          },
          "metadata": {
            "tags": []
          },
          "output_type": "display_data"
        }
      ]
    },
    {
      "cell_type": "code",
      "metadata": {
        "colab": {
          "base_uri": "https://localhost:8080/"
        },
        "id": "ZkM92uzHryHO",
        "outputId": "8c78b04f-870b-4889-ee27-6091eb08300a"
      },
      "source": [
        "metrics.accuracy_score(yy_test,y_pred_lr)"
      ],
      "execution_count": null,
      "outputs": [
        {
          "data": {
            "text/plain": [
              "0.930155720278113"
            ]
          },
          "execution_count": 67,
          "metadata": {
            "tags": []
          },
          "output_type": "execute_result"
        }
      ]
    },
    {
      "cell_type": "markdown",
      "metadata": {
        "id": "7oW2YTmaryHP"
      },
      "source": [
        "### 3. Random  Forest  Classifier  "
      ]
    },
    {
      "cell_type": "code",
      "metadata": {
        "id": "VImPk3AbryHQ"
      },
      "source": [
        "from sklearn.ensemble import RandomForestClassifier"
      ],
      "execution_count": null,
      "outputs": []
    },
    {
      "cell_type": "code",
      "metadata": {
        "id": "3Q-WxDyWryHR"
      },
      "source": [
        "rfc = RandomForestClassifier(n_estimators=10,max_depth=5,max_features='sqrt',min_samples_split=20)"
      ],
      "execution_count": null,
      "outputs": []
    },
    {
      "cell_type": "code",
      "metadata": {
        "colab": {
          "base_uri": "https://localhost:8080/"
        },
        "id": "mB70EsWRryHS",
        "outputId": "4e84629d-28b7-479b-d186-4d460555e0e0"
      },
      "source": [
        "rfc.fit(xx_train,yy_train)"
      ],
      "execution_count": null,
      "outputs": [
        {
          "data": {
            "text/plain": [
              "RandomForestClassifier(bootstrap=True, ccp_alpha=0.0, class_weight=None,\n",
              "                       criterion='gini', max_depth=5, max_features='sqrt',\n",
              "                       max_leaf_nodes=None, max_samples=None,\n",
              "                       min_impurity_decrease=0.0, min_impurity_split=None,\n",
              "                       min_samples_leaf=1, min_samples_split=20,\n",
              "                       min_weight_fraction_leaf=0.0, n_estimators=10,\n",
              "                       n_jobs=None, oob_score=False, random_state=None,\n",
              "                       verbose=0, warm_start=False)"
            ]
          },
          "execution_count": 70,
          "metadata": {
            "tags": []
          },
          "output_type": "execute_result"
        }
      ]
    },
    {
      "cell_type": "code",
      "metadata": {
        "colab": {
          "base_uri": "https://localhost:8080/"
        },
        "id": "BWfPOAv1ryHU",
        "outputId": "6d12e82b-9c43-4d36-d988-301a31b799c4"
      },
      "source": [
        "rfc.score(xx_test,yy_test)"
      ],
      "execution_count": null,
      "outputs": [
        {
          "data": {
            "text/plain": [
              "0.7547405619720737"
            ]
          },
          "execution_count": 71,
          "metadata": {
            "tags": []
          },
          "output_type": "execute_result"
        }
      ]
    },
    {
      "cell_type": "code",
      "metadata": {
        "colab": {
          "base_uri": "https://localhost:8080/"
        },
        "id": "BZCQUQ7uryHV",
        "outputId": "6f7946dd-7562-4374-b970-b75da788b3b1"
      },
      "source": [
        "rfc.score(xx_train,yy_train)"
      ],
      "execution_count": null,
      "outputs": [
        {
          "data": {
            "text/plain": [
              "0.7555286034427562"
            ]
          },
          "execution_count": 72,
          "metadata": {
            "tags": []
          },
          "output_type": "execute_result"
        }
      ]
    },
    {
      "cell_type": "code",
      "metadata": {
        "colab": {
          "base_uri": "https://localhost:8080/"
        },
        "id": "wOWNPt97ryHX",
        "outputId": "76a2f1a6-4b09-43e4-f104-868983165548"
      },
      "source": [
        "y_pred_rfc = rfc.predict(xx_test)\n",
        "y_pred_rfc"
      ],
      "execution_count": null,
      "outputs": [
        {
          "data": {
            "text/plain": [
              "array(['non-suicide', 'suicide', 'suicide', ..., 'suicide', 'suicide',\n",
              "       'suicide'], dtype=object)"
            ]
          },
          "execution_count": 73,
          "metadata": {
            "tags": []
          },
          "output_type": "execute_result"
        }
      ]
    },
    {
      "cell_type": "code",
      "metadata": {
        "colab": {
          "base_uri": "https://localhost:8080/"
        },
        "id": "v51ezHQzryHY",
        "outputId": "98cb3b0a-d116-4f07-e6e0-e12e9613a6bf"
      },
      "source": [
        "confusion_matrix(yy_test,y_pred_rfc)"
      ],
      "execution_count": null,
      "outputs": [
        {
          "data": {
            "text/plain": [
              "array([[30935,  3914],\n",
              "       [13159, 21604]])"
            ]
          },
          "execution_count": 74,
          "metadata": {
            "tags": []
          },
          "output_type": "execute_result"
        }
      ]
    },
    {
      "cell_type": "code",
      "metadata": {
        "colab": {
          "base_uri": "https://localhost:8080/",
          "height": 322
        },
        "id": "raJwcv1MryHZ",
        "outputId": "32a9cf0f-5afc-49e2-c1b2-bee7922dc39a"
      },
      "source": [
        "from sklearn.metrics import confusion_matrix\n",
        "plt.figure(figsize=(15,5))\n",
        "rfc= confusion_matrix(yy_test,y_pred_nb)\n",
        "sns.heatmap(rfc.T, square=True, annot=True, fmt='d', cbar=False,)\n",
        "plt.show()"
      ],
      "execution_count": null,
      "outputs": [
        {
          "data": {
            "image/png": "[encoded data removed]",
            "text/plain": [
              "<Figure size 1080x360 with 1 Axes>"
            ]
          },
          "metadata": {
            "tags": []
          },
          "output_type": "display_data"
        }
      ]
    },
    {
      "cell_type": "code",
      "metadata": {
        "colab": {
          "base_uri": "https://localhost:8080/",
          "height": 203
        },
        "id": "pyjfGKw2ryHa",
        "outputId": "89cf5250-a0be-4a5c-ed63-9af50ee16211"
      },
      "source": [
        "rfc_df=pd.DataFrame({'yy_test':yy_test,'y_pred_rfc':y_pred_rfc})\n",
        "rfc_df.head()"
      ],
      "execution_count": null,
      "outputs": [
        {
          "data": {
            "text/html": [
              "<div>\n",
              "<style scoped>\n",
              "    .dataframe tbody tr th:only-of-type {\n",
              "        vertical-align: middle;\n",
              "    }\n",
              "\n",
              "    .dataframe tbody tr th {\n",
              "        vertical-align: top;\n",
              "    }\n",
              "\n",
              "    .dataframe thead th {\n",
              "        text-align: right;\n",
              "    }\n",
              "</style>\n",
              "<table border=\"1\" class=\"dataframe\">\n",
              "  <thead>\n",
              "    <tr style=\"text-align: right;\">\n",
              "      <th></th>\n",
              "      <th>yy_test</th>\n",
              "      <th>y_pred_rfc</th>\n",
              "    </tr>\n",
              "  </thead>\n",
              "  <tbody>\n",
              "    <tr>\n",
              "      <th>44097</th>\n",
              "      <td>non-suicide</td>\n",
              "      <td>non-suicide</td>\n",
              "    </tr>\n",
              "    <tr>\n",
              "      <th>189006</th>\n",
              "      <td>suicide</td>\n",
              "      <td>suicide</td>\n",
              "    </tr>\n",
              "    <tr>\n",
              "      <th>198397</th>\n",
              "      <td>suicide</td>\n",
              "      <td>suicide</td>\n",
              "    </tr>\n",
              "    <tr>\n",
              "      <th>55658</th>\n",
              "      <td>non-suicide</td>\n",
              "      <td>non-suicide</td>\n",
              "    </tr>\n",
              "    <tr>\n",
              "      <th>52875</th>\n",
              "      <td>suicide</td>\n",
              "      <td>suicide</td>\n",
              "    </tr>\n",
              "  </tbody>\n",
              "</table>\n",
              "</div>"
            ],
            "text/plain": [
              "            yy_test   y_pred_rfc\n",
              "44097   non-suicide  non-suicide\n",
              "189006      suicide      suicide\n",
              "198397      suicide      suicide\n",
              "55658   non-suicide  non-suicide\n",
              "52875       suicide      suicide"
            ]
          },
          "execution_count": 76,
          "metadata": {
            "tags": []
          },
          "output_type": "execute_result"
        }
      ]
    },
    {
      "cell_type": "code",
      "metadata": {
        "colab": {
          "base_uri": "https://localhost:8080/"
        },
        "id": "yHGfVph0ryHc",
        "outputId": "f84b7eb4-8977-4393-c57d-f1a08e83b29c"
      },
      "source": [
        "rfc_df.groupby(['yy_test','y_pred_rfc'])['y_pred_rfc'].count()"
      ],
      "execution_count": null,
      "outputs": [
        {
          "data": {
            "text/plain": [
              "yy_test      y_pred_rfc \n",
              "non-suicide  non-suicide    30935\n",
              "             suicide         3914\n",
              "suicide      non-suicide    13159\n",
              "             suicide        21604\n",
              "Name: y_pred_rfc, dtype: int64"
            ]
          },
          "execution_count": 77,
          "metadata": {
            "tags": []
          },
          "output_type": "execute_result"
        }
      ]
    },
    {
      "cell_type": "code",
      "metadata": {
        "colab": {
          "base_uri": "https://localhost:8080/"
        },
        "id": "7slg2I-8ryHd",
        "outputId": "6d187e5f-e55e-480b-8f62-427fc0c763de"
      },
      "source": [
        "print(classification_report(yy_test,y_pred_rfc))"
      ],
      "execution_count": null,
      "outputs": [
        {
          "name": "stdout",
          "output_type": "stream",
          "text": [
            "              precision    recall  f1-score   support\n",
            "\n",
            " non-suicide       0.70      0.89      0.78     34849\n",
            "     suicide       0.85      0.62      0.72     34763\n",
            "\n",
            "    accuracy                           0.75     69612\n",
            "   macro avg       0.77      0.75      0.75     69612\n",
            "weighted avg       0.77      0.75      0.75     69612\n",
            "\n"
          ]
        }
      ]
    },
    {
      "cell_type": "code",
      "metadata": {
        "colab": {
          "base_uri": "https://localhost:8080/",
          "height": 404
        },
        "id": "CmQD6ZHIryHe",
        "outputId": "00894211-cddd-4da0-edd8-fd765441822d"
      },
      "source": [
        "actual_nb=rfc_df['yy_test'].value_counts()\n",
        "predict_nb=rfc_df['y_pred_rfc'].value_counts()\n",
        "plt.figure(figsize=(15,5))\n",
        "plt.scatter(actual_nb.index,actual_nb.values,label='Actual data points')\n",
        "plt.plot(actual_nb.index,actual_nb.values,marker='*',color='black',label='Actual data points')\n",
        "plt.plot(predict_nb.index,predict_nb.values,marker='x',color='yellow',label='Predict data points')\n",
        "plt.scatter(predict_nb.index,predict_nb.values,label='Predict data points')\n",
        "plt.bar(actual_nb.index,actual_nb.values,label='Actual data points')\n",
        "plt.bar(predict_nb.index,predict_nb.values,width=0.4,label='Predict data points')\n",
        "plt.legend()\n",
        "plt.title(\"Actual data vs Predict data Random Forest Classifier on Super imposed Line and Bar Chart\")\n",
        "plt.xlabel('Sentiment')\n",
        "plt.ylabel('Count')\n",
        "plt.xticks(rotation=70)\n",
        "plt.grid()\n",
        "plt.show()"
      ],
      "execution_count": null,
      "outputs": [
        {
          "data": {
            "image/png": "[encoded data removed]",
            "text/plain": [
              "<Figure size 1080x360 with 1 Axes>"
            ]
          },
          "metadata": {
            "tags": []
          },
          "output_type": "display_data"
        }
      ]
    },
    {
      "cell_type": "code",
      "metadata": {
        "colab": {
          "base_uri": "https://localhost:8080/"
        },
        "id": "pi8On1DfryHg",
        "outputId": "8ee9d259-af42-4727-9745-df965b2d48a3"
      },
      "source": [
        "metrics.accuracy_score(yy_test,y_pred_rfc)"
      ],
      "execution_count": null,
      "outputs": [
        {
          "data": {
            "text/plain": [
              "0.7547405619720737"
            ]
          },
          "execution_count": 80,
          "metadata": {
            "tags": []
          },
          "output_type": "execute_result"
        }
      ]
    },
    {
      "cell_type": "markdown",
      "metadata": {
        "id": "ZzNhQ58lryHm"
      },
      "source": [
        "### 4. Decision Tree"
      ]
    },
    {
      "cell_type": "code",
      "metadata": {
        "id": "Cje3xfiSryHh"
      },
      "source": [
        "from sklearn import tree"
      ],
      "execution_count": 237,
      "outputs": []
    },
    {
      "cell_type": "code",
      "metadata": {
        "colab": {
          "base_uri": "https://localhost:8080/"
        },
        "id": "_X53RNOmryHn",
        "outputId": "0252c0c6-3a07-4166-cd8f-cfd8d4d671b0"
      },
      "source": [
        "from sklearn.tree import DecisionTreeClassifier\n",
        "dt = DecisionTreeClassifier()\n",
        "dt.fit(xx_train,yy_train)"
      ],
      "execution_count": 239,
      "outputs": [
        {
          "output_type": "execute_result",
          "data": {
            "text/plain": [
              "DecisionTreeClassifier(ccp_alpha=0.0, class_weight=None, criterion='gini',\n",
              "                       max_depth=None, max_features=None, max_leaf_nodes=None,\n",
              "                       min_impurity_decrease=0.0, min_impurity_split=None,\n",
              "                       min_samples_leaf=1, min_samples_split=2,\n",
              "                       min_weight_fraction_leaf=0.0, presort='deprecated',\n",
              "                       random_state=None, splitter='best')"
            ]
          },
          "metadata": {},
          "execution_count": 239
        }
      ]
    },
    {
      "cell_type": "code",
      "metadata": {
        "colab": {
          "base_uri": "https://localhost:8080/"
        },
        "id": "QnYGZkssryHo",
        "outputId": "552a4fbc-9aa2-47d2-e94d-6b8932d37703"
      },
      "source": [
        "print(dt.score(xx_train,yy_train))\n",
        "print(dt.score(xx_test,yy_test))"
      ],
      "execution_count": 240,
      "outputs": [
        {
          "output_type": "stream",
          "text": [
            "0.9999014948161647\n",
            "0.8535310004022295\n"
          ],
          "name": "stdout"
        }
      ]
    },
    {
      "cell_type": "code",
      "metadata": {
        "colab": {
          "base_uri": "https://localhost:8080/"
        },
        "id": "_j_HDXjyryHq",
        "outputId": "a7fd371c-5880-4709-818a-82f626c34734"
      },
      "source": [
        "y_pred_dt = dt.predict(xx_test)\n",
        "y_pred_dt"
      ],
      "execution_count": 241,
      "outputs": [
        {
          "output_type": "execute_result",
          "data": {
            "text/plain": [
              "array(['non-suicide', 'suicide', 'suicide', ..., 'suicide', 'suicide',\n",
              "       'suicide'], dtype=object)"
            ]
          },
          "metadata": {},
          "execution_count": 241
        }
      ]
    },
    {
      "cell_type": "code",
      "metadata": {
        "colab": {
          "base_uri": "https://localhost:8080/"
        },
        "id": "S-29WYxjryHr",
        "outputId": "b3c53fbd-afe2-4f70-ce09-053e239c1ef9"
      },
      "source": [
        "confusion_matrix(yy_test,y_pred_dt)"
      ],
      "execution_count": 242,
      "outputs": [
        {
          "output_type": "execute_result",
          "data": {
            "text/plain": [
              "array([[29701,  5148],\n",
              "       [ 5048, 29715]])"
            ]
          },
          "metadata": {},
          "execution_count": 242
        }
      ]
    },
    {
      "cell_type": "code",
      "metadata": {
        "colab": {
          "base_uri": "https://localhost:8080/",
          "height": 322
        },
        "id": "PCyOI7gsryHs",
        "outputId": "0bc08196-0f9d-4ffa-b9f3-1b413d47d8ec"
      },
      "source": [
        "from sklearn.metrics import confusion_matrix\n",
        "plt.figure(figsize=(15,5))\n",
        "dt= confusion_matrix(yy_test,y_pred_dt)\n",
        "sns.heatmap(dt.T, square=True, annot=True, fmt='d', cbar=False,)\n",
        "plt.show()"
      ],
      "execution_count": 244,
      "outputs": [
        {
          "output_type": "display_data",
          "data": {
            "image/png": "[encoded data removed]",
            "text/plain": [
              "<Figure size 1080x360 with 1 Axes>"
            ]
          },
          "metadata": {}
        }
      ]
    },
    {
      "cell_type": "code",
      "metadata": {
        "colab": {
          "base_uri": "https://localhost:8080/",
          "height": 204
        },
        "id": "WKR_--hJryHu",
        "outputId": "89490025-22b0-4f34-ac8e-89887b3312ee"
      },
      "source": [
        "dt_df=pd.DataFrame({'yy_test':yy_test,'y_pred_dt':y_pred_dt})\n",
        "dt_df.head()"
      ],
      "execution_count": 245,
      "outputs": [
        {
          "output_type": "execute_result",
          "data": {
            "text/html": [
              "<div>\n",
              "<style scoped>\n",
              "    .dataframe tbody tr th:only-of-type {\n",
              "        vertical-align: middle;\n",
              "    }\n",
              "\n",
              "    .dataframe tbody tr th {\n",
              "        vertical-align: top;\n",
              "    }\n",
              "\n",
              "    .dataframe thead th {\n",
              "        text-align: right;\n",
              "    }\n",
              "</style>\n",
              "<table border=\"1\" class=\"dataframe\">\n",
              "  <thead>\n",
              "    <tr style=\"text-align: right;\">\n",
              "      <th></th>\n",
              "      <th>yy_test</th>\n",
              "      <th>y_pred_dt</th>\n",
              "    </tr>\n",
              "  </thead>\n",
              "  <tbody>\n",
              "    <tr>\n",
              "      <th>44097</th>\n",
              "      <td>non-suicide</td>\n",
              "      <td>non-suicide</td>\n",
              "    </tr>\n",
              "    <tr>\n",
              "      <th>189006</th>\n",
              "      <td>suicide</td>\n",
              "      <td>suicide</td>\n",
              "    </tr>\n",
              "    <tr>\n",
              "      <th>198397</th>\n",
              "      <td>suicide</td>\n",
              "      <td>suicide</td>\n",
              "    </tr>\n",
              "    <tr>\n",
              "      <th>55658</th>\n",
              "      <td>non-suicide</td>\n",
              "      <td>non-suicide</td>\n",
              "    </tr>\n",
              "    <tr>\n",
              "      <th>52875</th>\n",
              "      <td>suicide</td>\n",
              "      <td>suicide</td>\n",
              "    </tr>\n",
              "  </tbody>\n",
              "</table>\n",
              "</div>"
            ],
            "text/plain": [
              "            yy_test    y_pred_dt\n",
              "44097   non-suicide  non-suicide\n",
              "189006      suicide      suicide\n",
              "198397      suicide      suicide\n",
              "55658   non-suicide  non-suicide\n",
              "52875       suicide      suicide"
            ]
          },
          "metadata": {},
          "execution_count": 245
        }
      ]
    },
    {
      "cell_type": "code",
      "metadata": {
        "colab": {
          "base_uri": "https://localhost:8080/"
        },
        "id": "i7jCTmEVryHv",
        "outputId": "1cb2d906-1ce4-4f41-8065-c2678be08ec1"
      },
      "source": [
        "dt_df.groupby(['yy_test','y_pred_dt'])['y_pred_dt'].count()"
      ],
      "execution_count": 246,
      "outputs": [
        {
          "output_type": "execute_result",
          "data": {
            "text/plain": [
              "yy_test      y_pred_dt  \n",
              "non-suicide  non-suicide    29701\n",
              "             suicide         5148\n",
              "suicide      non-suicide     5048\n",
              "             suicide        29715\n",
              "Name: y_pred_dt, dtype: int64"
            ]
          },
          "metadata": {},
          "execution_count": 246
        }
      ]
    },
    {
      "cell_type": "code",
      "metadata": {
        "colab": {
          "base_uri": "https://localhost:8080/"
        },
        "id": "38PCrLsfryHw",
        "outputId": "d76da4c4-c55d-446d-f9ac-e8821260c94f"
      },
      "source": [
        "print(classification_report(yy_test,y_pred_dt))"
      ],
      "execution_count": 247,
      "outputs": [
        {
          "output_type": "stream",
          "text": [
            "              precision    recall  f1-score   support\n",
            "\n",
            " non-suicide       0.85      0.85      0.85     34849\n",
            "     suicide       0.85      0.85      0.85     34763\n",
            "\n",
            "    accuracy                           0.85     69612\n",
            "   macro avg       0.85      0.85      0.85     69612\n",
            "weighted avg       0.85      0.85      0.85     69612\n",
            "\n"
          ],
          "name": "stdout"
        }
      ]
    },
    {
      "cell_type": "code",
      "metadata": {
        "colab": {
          "base_uri": "https://localhost:8080/",
          "height": 408
        },
        "id": "kx5cRT3sryHy",
        "outputId": "56810b14-3293-45c4-d485-6a79d7e76a39"
      },
      "source": [
        "actual_nb=dt_df['yy_test'].value_counts()\n",
        "predict_nb=dt_df['y_pred_dt'].value_counts()\n",
        "plt.figure(figsize=(15,5))\n",
        "plt.scatter(actual_nb.index,actual_nb.values,label='Actual data points')\n",
        "plt.plot(actual_nb.index,actual_nb.values,marker='*',color='black',label='Actual data points')\n",
        "plt.plot(predict_nb.index,predict_nb.values,marker='x',color='yellow',label='Predict data points')\n",
        "plt.scatter(predict_nb.index,predict_nb.values,label='Predict data points')\n",
        "plt.bar(actual_nb.index,actual_nb.values,label='Actual data points')\n",
        "plt.bar(predict_nb.index,predict_nb.values,width=0.4,label='Predict data points')\n",
        "plt.legend()\n",
        "plt.title(\"Actual data vs Predict data Decision Tree on Super imposed Line and Bar Chart\")\n",
        "plt.xlabel('class')\n",
        "plt.ylabel('Count')\n",
        "plt.xticks(rotation=70)\n",
        "plt.grid()\n",
        "plt.show()"
      ],
      "execution_count": 248,
      "outputs": [
        {
          "output_type": "display_data",
          "data": {
            "image/png": "[encoded data removed]",
            "text/plain": [
              "<Figure size 1080x360 with 1 Axes>"
            ]
          },
          "metadata": {}
        }
      ]
    },
    {
      "cell_type": "code",
      "metadata": {
        "colab": {
          "base_uri": "https://localhost:8080/"
        },
        "id": "5mRzTIH2ryHz",
        "outputId": "a55c3981-f5de-4c0d-b4a0-771df5e54471"
      },
      "source": [
        "print(accuracy_score(yy_test,y_pred_dt))"
      ],
      "execution_count": 249,
      "outputs": [
        {
          "output_type": "stream",
          "text": [
            "0.8535310004022295\n"
          ],
          "name": "stdout"
        }
      ]
    }
  ]
}